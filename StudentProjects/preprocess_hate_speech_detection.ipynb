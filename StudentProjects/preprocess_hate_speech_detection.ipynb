{
 "cells": [
  {
   "cell_type": "code",
   "execution_count": 1,
   "id": "6c176681",
   "metadata": {},
   "outputs": [
    {
     "name": "stdout",
     "output_type": "stream",
     "text": [
      "Requirement already satisfied: datasets in c:\\users\\joo\\anaconda3\\envs\\fastcampus2\\lib\\site-packages (3.0.1)\n",
      "Requirement already satisfied: filelock in c:\\users\\joo\\anaconda3\\envs\\fastcampus2\\lib\\site-packages (from datasets) (3.14.0)\n",
      "Requirement already satisfied: numpy>=1.17 in c:\\users\\joo\\anaconda3\\envs\\fastcampus2\\lib\\site-packages (from datasets) (1.26.3)\n",
      "Requirement already satisfied: pyarrow>=15.0.0 in c:\\users\\joo\\anaconda3\\envs\\fastcampus2\\lib\\site-packages (from datasets) (15.0.0)\n",
      "Requirement already satisfied: dill<0.3.9,>=0.3.0 in c:\\users\\joo\\anaconda3\\envs\\fastcampus2\\lib\\site-packages (from datasets) (0.3.8)\n",
      "Requirement already satisfied: pandas in c:\\users\\joo\\anaconda3\\envs\\fastcampus2\\lib\\site-packages (from datasets) (2.2.0)\n",
      "Requirement already satisfied: requests>=2.32.2 in c:\\users\\joo\\anaconda3\\envs\\fastcampus2\\lib\\site-packages (from datasets) (2.32.3)\n",
      "Requirement already satisfied: tqdm>=4.66.3 in c:\\users\\joo\\anaconda3\\envs\\fastcampus2\\lib\\site-packages (from datasets) (4.66.5)\n",
      "Requirement already satisfied: xxhash in c:\\users\\joo\\anaconda3\\envs\\fastcampus2\\lib\\site-packages (from datasets) (3.4.1)\n",
      "Requirement already satisfied: multiprocess in c:\\users\\joo\\anaconda3\\envs\\fastcampus2\\lib\\site-packages (from datasets) (0.70.16)\n",
      "Requirement already satisfied: fsspec<=2024.6.1,>=2023.1.0 in c:\\users\\joo\\anaconda3\\envs\\fastcampus2\\lib\\site-packages (from fsspec[http]<=2024.6.1,>=2023.1.0->datasets) (2024.3.1)\n",
      "Requirement already satisfied: aiohttp in c:\\users\\joo\\anaconda3\\envs\\fastcampus2\\lib\\site-packages (from datasets) (3.9.5)\n",
      "Requirement already satisfied: huggingface-hub>=0.22.0 in c:\\users\\joo\\anaconda3\\envs\\fastcampus2\\lib\\site-packages (from datasets) (0.25.2)\n",
      "Requirement already satisfied: packaging in c:\\users\\joo\\anaconda3\\envs\\fastcampus2\\lib\\site-packages (from datasets) (23.2)\n",
      "Requirement already satisfied: pyyaml>=5.1 in c:\\users\\joo\\anaconda3\\envs\\fastcampus2\\lib\\site-packages (from datasets) (6.0.1)\n",
      "Requirement already satisfied: aiosignal>=1.1.2 in c:\\users\\joo\\anaconda3\\envs\\fastcampus2\\lib\\site-packages (from aiohttp->datasets) (1.3.1)\n",
      "Requirement already satisfied: attrs>=17.3.0 in c:\\users\\joo\\anaconda3\\envs\\fastcampus2\\lib\\site-packages (from aiohttp->datasets) (23.2.0)\n",
      "Requirement already satisfied: frozenlist>=1.1.1 in c:\\users\\joo\\anaconda3\\envs\\fastcampus2\\lib\\site-packages (from aiohttp->datasets) (1.4.1)\n",
      "Requirement already satisfied: multidict<7.0,>=4.5 in c:\\users\\joo\\anaconda3\\envs\\fastcampus2\\lib\\site-packages (from aiohttp->datasets) (6.0.5)\n",
      "Requirement already satisfied: yarl<2.0,>=1.0 in c:\\users\\joo\\anaconda3\\envs\\fastcampus2\\lib\\site-packages (from aiohttp->datasets) (1.9.4)\n",
      "Requirement already satisfied: async-timeout<5.0,>=4.0 in c:\\users\\joo\\anaconda3\\envs\\fastcampus2\\lib\\site-packages (from aiohttp->datasets) (4.0.3)\n",
      "Requirement already satisfied: typing-extensions>=3.7.4.3 in c:\\users\\joo\\anaconda3\\envs\\fastcampus2\\lib\\site-packages (from huggingface-hub>=0.22.0->datasets) (4.11.0)\n",
      "Requirement already satisfied: charset-normalizer<4,>=2 in c:\\users\\joo\\anaconda3\\envs\\fastcampus2\\lib\\site-packages (from requests>=2.32.2->datasets) (3.3.2)\n",
      "Requirement already satisfied: idna<4,>=2.5 in c:\\users\\joo\\anaconda3\\envs\\fastcampus2\\lib\\site-packages (from requests>=2.32.2->datasets) (3.6)\n",
      "Requirement already satisfied: urllib3<3,>=1.21.1 in c:\\users\\joo\\anaconda3\\envs\\fastcampus2\\lib\\site-packages (from requests>=2.32.2->datasets) (2.1.0)\n",
      "Requirement already satisfied: certifi>=2017.4.17 in c:\\users\\joo\\anaconda3\\envs\\fastcampus2\\lib\\site-packages (from requests>=2.32.2->datasets) (2023.11.17)\n",
      "Requirement already satisfied: colorama in c:\\users\\joo\\anaconda3\\envs\\fastcampus2\\lib\\site-packages (from tqdm>=4.66.3->datasets) (0.4.6)\n",
      "Requirement already satisfied: python-dateutil>=2.8.2 in c:\\users\\joo\\anaconda3\\envs\\fastcampus2\\lib\\site-packages (from pandas->datasets) (2.8.2)\n",
      "Requirement already satisfied: pytz>=2020.1 in c:\\users\\joo\\anaconda3\\envs\\fastcampus2\\lib\\site-packages (from pandas->datasets) (2023.3.post1)\n",
      "Requirement already satisfied: tzdata>=2022.7 in c:\\users\\joo\\anaconda3\\envs\\fastcampus2\\lib\\site-packages (from pandas->datasets) (2023.4)\n",
      "Requirement already satisfied: six>=1.5 in c:\\users\\joo\\anaconda3\\envs\\fastcampus2\\lib\\site-packages (from python-dateutil>=2.8.2->pandas->datasets) (1.16.0)\n"
     ]
    }
   ],
   "source": [
    "!pip install datasets"
   ]
  },
  {
   "cell_type": "code",
   "execution_count": 2,
   "id": "d341d5ab",
   "metadata": {},
   "outputs": [],
   "source": [
    "import pandas as pd\n",
    "import json\n",
    "from datasets import load_dataset"
   ]
  },
  {
   "cell_type": "code",
   "execution_count": 4,
   "id": "4cd0f869",
   "metadata": {},
   "outputs": [],
   "source": [
    "# Load the dataset from Hugging Face\n",
    "dataset = load_dataset(\"jeanlee/kmhas_korean_hate_speech\", split=\"train\")"
   ]
  },
  {
   "cell_type": "markdown",
   "id": "803fee45",
   "metadata": {},
   "source": [
    "- 데이터셋의 [깃허브](https://github.com/adlnlp/K-MHaS)로부터 확인할 수 있는 각 레이블이 의미하는 바는 다음과 같습니다. 레이블은 0부터 8까지 총 9개의 레이블이 존재합니다.\n",
    "\n",
    "      class_label:\n",
    "        names:\n",
    "          0: origin (출신차별)\n",
    "          1: physical (외모차별)\n",
    "          2: politics (정치성향차별)\n",
    "          3: profanity (혐오욕설)\n",
    "          4: age (연령차별)\n",
    "          5: gender (성차별)\n",
    "          6: race (인종차별)\n",
    "          7: religion (종교차별)\n",
    "          8: not_hate_speech (혐오아님)"
   ]
  },
  {
   "cell_type": "code",
   "execution_count": 5,
   "id": "c9e42e80",
   "metadata": {},
   "outputs": [
    {
     "name": "stdout",
     "output_type": "stream",
     "text": [
      "두번째 샘플 출력 : \"자한당틀딱들.. 악플질 고만해라.\"\n",
      "두번째 샘플의 레이블 출력 : [2, 4]\n"
     ]
    }
   ],
   "source": [
    "print('두번째 샘플 출력 :', dataset['text'][0])\n",
    "print('두번째 샘플의 레이블 출력 :', dataset['label'][0])"
   ]
  },
  {
   "cell_type": "code",
   "execution_count": 6,
   "id": "7ab83381",
   "metadata": {},
   "outputs": [],
   "source": [
    "inputs = dataset['text']\n",
    "labels = dataset['label']"
   ]
  },
  {
   "cell_type": "code",
   "execution_count": 7,
   "id": "996a3583",
   "metadata": {},
   "outputs": [],
   "source": [
    "def convert_labels_to_korean(label_lists):\n",
    "    label_map = {\n",
    "        0: \"출신차별\",\n",
    "        1: \"외모차별\",\n",
    "        2: \"정치성향차별\",\n",
    "        3: \"혐오욕설\",\n",
    "        4: \"연령차별\",\n",
    "        5: \"성차별\",\n",
    "        6: \"인종차별\",\n",
    "        7: \"종교차별\",\n",
    "        8: \"혐오아님\"\n",
    "    }\n",
    "    \n",
    "    return [[label_map[label] for label in label_list] for label_list in label_lists]"
   ]
  },
  {
   "cell_type": "code",
   "execution_count": 8,
   "id": "11ce7d59",
   "metadata": {},
   "outputs": [],
   "source": [
    "kor_labels = convert_labels_to_korean(labels)"
   ]
  },
  {
   "cell_type": "code",
   "execution_count": 9,
   "id": "2e81ea27",
   "metadata": {},
   "outputs": [
    {
     "data": {
      "text/plain": [
       "'\"자한당틀딱들.. 악플질 고만해라.\"'"
      ]
     },
     "execution_count": 9,
     "metadata": {},
     "output_type": "execute_result"
    }
   ],
   "source": [
    "inputs[0]"
   ]
  },
  {
   "cell_type": "code",
   "execution_count": 10,
   "id": "fd8cde34",
   "metadata": {},
   "outputs": [
    {
     "data": {
      "text/plain": [
       "['정치성향차별', '연령차별']"
      ]
     },
     "execution_count": 10,
     "metadata": {},
     "output_type": "execute_result"
    }
   ],
   "source": [
    "kor_labels[0]"
   ]
  },
  {
   "cell_type": "code",
   "execution_count": 11,
   "id": "0b41f23f",
   "metadata": {},
   "outputs": [],
   "source": [
    "# 이건 추후 라마팩토리에서 추가할 예정\n",
    "system_prompt = '''당신은 주어진 입력이 어떤 혐오 카테고리에 속하는지를 분류하는 분류기입니다.\n",
    "\n",
    "1. 아래의 카테고리 중에서만 고르세요.\n",
    "['출신차별', '외모차별', '정치성향차별', '혐오욕설', '연령차별', '성차별', '인종차별', '종교차별', '혐오아님']\n",
    "2. 주어진 입력은 위 8개의 카테고리 중 여러 개에 속할 수 있습니다.\n",
    "3. 출력은 반드시 파이썬의 리스트 형태로 생성하십시오.\n",
    "4. 입력:이 주어지면 분류 결과: 다음에 파이썬 리스트 형태로 작성하세요.'''"
   ]
  },
  {
   "cell_type": "code",
   "execution_count": 12,
   "id": "601188b2",
   "metadata": {},
   "outputs": [
    {
     "data": {
      "text/plain": [
       "\"당신은 주어진 입력이 어떤 혐오 카테고리에 속하는지를 분류하는 분류기입니다.\\n\\n1. 아래의 카테고리 중에서만 고르세요.\\n['출신차별', '외모차별', '정치성향차별', '혐오욕설', '연령차별', '성차별', '인종차별', '종교차별', '혐오아님']\\n2. 주어진 입력은 위 8개의 카테고리 중 여러 개에 속할 수 있습니다.\\n3. 출력은 반드시 파이썬의 리스트 형태로 생성하십시오.\\n4. 입력:이 주어지면 분류 결과: 다음에 파이썬 리스트 형태로 작성하세요.\""
      ]
     },
     "execution_count": 12,
     "metadata": {},
     "output_type": "execute_result"
    }
   ],
   "source": [
    "system_prompt"
   ]
  },
  {
   "cell_type": "code",
   "execution_count": 17,
   "id": "f3d85a32",
   "metadata": {},
   "outputs": [],
   "source": [
    "instruction_lst = []\n",
    "\n",
    "for input_sample in inputs:\n",
    "    instruction_lst.append('입력: ' + input_sample)"
   ]
  },
  {
   "cell_type": "code",
   "execution_count": 18,
   "id": "d662c3c2",
   "metadata": {},
   "outputs": [],
   "source": [
    "output_lst = ['분류 결과: ' + str(label) for label in kor_labels]"
   ]
  },
  {
   "cell_type": "code",
   "execution_count": 19,
   "id": "36c0beab",
   "metadata": {},
   "outputs": [
    {
     "name": "stdout",
     "output_type": "stream",
     "text": [
      "입력: \"자한당틀딱들.. 악플질 고만해라.\"\n"
     ]
    }
   ],
   "source": [
    "print(instruction_lst[0])"
   ]
  },
  {
   "cell_type": "code",
   "execution_count": 20,
   "id": "890815de",
   "metadata": {},
   "outputs": [
    {
     "name": "stdout",
     "output_type": "stream",
     "text": [
      "분류 결과: ['정치성향차별', '연령차별']\n"
     ]
    }
   ],
   "source": [
    "print(output_lst[0])"
   ]
  },
  {
   "cell_type": "code",
   "execution_count": 21,
   "id": "ac1560c9",
   "metadata": {},
   "outputs": [],
   "source": [
    "df = pd.DataFrame({\n",
    "    'instruction': instruction_lst,\n",
    "    'output': output_lst,\n",
    "    'input': ['' for _ in range(len(instruction_lst))] # 라마팩토리 형식을 맞춰주기 위해서 임의로 추가한 열\n",
    "})"
   ]
  },
  {
   "cell_type": "code",
   "execution_count": 22,
   "id": "cd5801cb",
   "metadata": {},
   "outputs": [],
   "source": [
    "# DataFrame에서 'instruction'과 'output' 열을 딕셔너리 리스트로 변환\n",
    "data_to_save = df[['instruction', 'input', 'output']].to_dict(orient='records')\n",
    "\n",
    "# JSON 파일로 저장\n",
    "with open('hate_speech_detection_data.json', 'w', encoding='utf-8') as f:\n",
    "    json.dump(data_to_save, f, ensure_ascii=False, indent=4)"
   ]
  }
 ],
 "metadata": {
  "kernelspec": {
   "display_name": "Python 3 (ipykernel)",
   "language": "python",
   "name": "python3"
  },
  "language_info": {
   "codemirror_mode": {
    "name": "ipython",
    "version": 3
   },
   "file_extension": ".py",
   "mimetype": "text/x-python",
   "name": "python",
   "nbconvert_exporter": "python",
   "pygments_lexer": "ipython3",
   "version": "3.9.12"
  }
 },
 "nbformat": 4,
 "nbformat_minor": 5
}

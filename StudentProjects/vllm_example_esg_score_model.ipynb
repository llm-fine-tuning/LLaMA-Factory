{
 "cells": [
  {
   "cell_type": "code",
   "execution_count": 1,
   "id": "623ae27a-6319-43c9-a2a1-ab85fef19f69",
   "metadata": {},
   "outputs": [
    {
     "name": "stdout",
     "output_type": "stream",
     "text": [
      "Requirement already satisfied: transformers in /usr/local/lib/python3.10/dist-packages (4.46.3)\n",
      "Requirement already satisfied: vllm==0.6.0 in /usr/local/lib/python3.10/dist-packages (0.6.0)\n",
      "Requirement already satisfied: psutil in /usr/local/lib/python3.10/dist-packages (from vllm==0.6.0) (5.9.6)\n",
      "Requirement already satisfied: sentencepiece in /usr/local/lib/python3.10/dist-packages (from vllm==0.6.0) (0.2.0)\n",
      "Requirement already satisfied: numpy<2.0.0 in /usr/local/lib/python3.10/dist-packages (from vllm==0.6.0) (1.26.4)\n",
      "Requirement already satisfied: requests in /usr/local/lib/python3.10/dist-packages (from vllm==0.6.0) (2.32.3)\n",
      "Requirement already satisfied: tqdm in /usr/local/lib/python3.10/dist-packages (from vllm==0.6.0) (4.67.0)\n",
      "Requirement already satisfied: py-cpuinfo in /usr/local/lib/python3.10/dist-packages (from vllm==0.6.0) (9.0.0)\n",
      "Requirement already satisfied: tokenizers>=0.19.1 in /usr/local/lib/python3.10/dist-packages (from vllm==0.6.0) (0.20.3)\n",
      "Requirement already satisfied: protobuf in /usr/local/lib/python3.10/dist-packages (from vllm==0.6.0) (5.28.3)\n",
      "Requirement already satisfied: fastapi in /usr/local/lib/python3.10/dist-packages (from vllm==0.6.0) (0.115.5)\n",
      "Requirement already satisfied: aiohttp in /usr/local/lib/python3.10/dist-packages (from vllm==0.6.0) (3.11.3)\n",
      "Requirement already satisfied: openai>=1.0 in /usr/local/lib/python3.10/dist-packages (from vllm==0.6.0) (1.54.4)\n",
      "Requirement already satisfied: uvicorn[standard] in /usr/local/lib/python3.10/dist-packages (from vllm==0.6.0) (0.32.0)\n",
      "Requirement already satisfied: pydantic>=2.8 in /usr/local/lib/python3.10/dist-packages (from vllm==0.6.0) (2.9.2)\n",
      "Requirement already satisfied: pillow in /usr/local/lib/python3.10/dist-packages (from vllm==0.6.0) (10.4.0)\n",
      "Requirement already satisfied: prometheus-client>=0.18.0 in /usr/local/lib/python3.10/dist-packages (from vllm==0.6.0) (0.18.0)\n",
      "Requirement already satisfied: prometheus-fastapi-instrumentator>=7.0.0 in /usr/local/lib/python3.10/dist-packages (from vllm==0.6.0) (7.0.0)\n",
      "Requirement already satisfied: tiktoken>=0.6.0 in /usr/local/lib/python3.10/dist-packages (from vllm==0.6.0) (0.7.0)\n",
      "Requirement already satisfied: lm-format-enforcer==0.10.6 in /usr/local/lib/python3.10/dist-packages (from vllm==0.6.0) (0.10.6)\n",
      "Requirement already satisfied: outlines<0.1,>=0.0.43 in /usr/local/lib/python3.10/dist-packages (from vllm==0.6.0) (0.0.46)\n",
      "Requirement already satisfied: typing-extensions>=4.10 in /usr/local/lib/python3.10/dist-packages (from vllm==0.6.0) (4.12.2)\n",
      "Requirement already satisfied: filelock>=3.10.4 in /usr/local/lib/python3.10/dist-packages (from vllm==0.6.0) (3.16.1)\n",
      "Requirement already satisfied: partial-json-parser in /usr/local/lib/python3.10/dist-packages (from vllm==0.6.0) (0.2.1.1.post4)\n",
      "Requirement already satisfied: pyzmq in /usr/local/lib/python3.10/dist-packages (from vllm==0.6.0) (24.0.1)\n",
      "Requirement already satisfied: msgspec in /usr/local/lib/python3.10/dist-packages (from vllm==0.6.0) (0.18.6)\n",
      "Requirement already satisfied: gguf==0.9.1 in /usr/local/lib/python3.10/dist-packages (from vllm==0.6.0) (0.9.1)\n",
      "Requirement already satisfied: importlib-metadata in /usr/lib/python3/dist-packages (from vllm==0.6.0) (4.6.4)\n",
      "Requirement already satisfied: mistral-common>=1.3.4 in /usr/local/lib/python3.10/dist-packages (from vllm==0.6.0) (1.5.0)\n",
      "Requirement already satisfied: pyyaml in /usr/local/lib/python3.10/dist-packages (from vllm==0.6.0) (6.0.1)\n",
      "Requirement already satisfied: ray>=2.9 in /usr/local/lib/python3.10/dist-packages (from vllm==0.6.0) (2.39.0)\n",
      "Requirement already satisfied: nvidia-ml-py in /usr/local/lib/python3.10/dist-packages (from vllm==0.6.0) (12.560.30)\n",
      "Requirement already satisfied: torch==2.4.0 in /usr/local/lib/python3.10/dist-packages (from vllm==0.6.0) (2.4.0)\n",
      "Requirement already satisfied: torchvision==0.19 in /usr/local/lib/python3.10/dist-packages (from vllm==0.6.0) (0.19.0)\n",
      "Requirement already satisfied: xformers==0.0.27.post2 in /usr/local/lib/python3.10/dist-packages (from vllm==0.6.0) (0.0.27.post2)\n",
      "Requirement already satisfied: vllm-flash-attn==2.6.1 in /usr/local/lib/python3.10/dist-packages (from vllm==0.6.0) (2.6.1)\n",
      "Requirement already satisfied: interegular>=0.3.2 in /usr/local/lib/python3.10/dist-packages (from lm-format-enforcer==0.10.6->vllm==0.6.0) (0.3.3)\n",
      "Requirement already satisfied: packaging in /usr/local/lib/python3.10/dist-packages (from lm-format-enforcer==0.10.6->vllm==0.6.0) (23.2)\n",
      "Requirement already satisfied: sympy in /usr/local/lib/python3.10/dist-packages (from torch==2.4.0->vllm==0.6.0) (1.13.1)\n",
      "Requirement already satisfied: networkx in /usr/local/lib/python3.10/dist-packages (from torch==2.4.0->vllm==0.6.0) (3.0)\n",
      "Requirement already satisfied: jinja2 in /usr/local/lib/python3.10/dist-packages (from torch==2.4.0->vllm==0.6.0) (3.1.2)\n",
      "Requirement already satisfied: fsspec in /usr/local/lib/python3.10/dist-packages (from torch==2.4.0->vllm==0.6.0) (2024.9.0)\n",
      "Requirement already satisfied: nvidia-cuda-nvrtc-cu12==12.1.105 in /usr/local/lib/python3.10/dist-packages (from torch==2.4.0->vllm==0.6.0) (12.1.105)\n",
      "Requirement already satisfied: nvidia-cuda-runtime-cu12==12.1.105 in /usr/local/lib/python3.10/dist-packages (from torch==2.4.0->vllm==0.6.0) (12.1.105)\n",
      "Requirement already satisfied: nvidia-cuda-cupti-cu12==12.1.105 in /usr/local/lib/python3.10/dist-packages (from torch==2.4.0->vllm==0.6.0) (12.1.105)\n",
      "Requirement already satisfied: nvidia-cudnn-cu12==9.1.0.70 in /usr/local/lib/python3.10/dist-packages (from torch==2.4.0->vllm==0.6.0) (9.1.0.70)\n",
      "Requirement already satisfied: nvidia-cublas-cu12==12.1.3.1 in /usr/local/lib/python3.10/dist-packages (from torch==2.4.0->vllm==0.6.0) (12.1.3.1)\n",
      "Requirement already satisfied: nvidia-cufft-cu12==11.0.2.54 in /usr/local/lib/python3.10/dist-packages (from torch==2.4.0->vllm==0.6.0) (11.0.2.54)\n",
      "Requirement already satisfied: nvidia-curand-cu12==10.3.2.106 in /usr/local/lib/python3.10/dist-packages (from torch==2.4.0->vllm==0.6.0) (10.3.2.106)\n",
      "Requirement already satisfied: nvidia-cusolver-cu12==11.4.5.107 in /usr/local/lib/python3.10/dist-packages (from torch==2.4.0->vllm==0.6.0) (11.4.5.107)\n",
      "Requirement already satisfied: nvidia-cusparse-cu12==12.1.0.106 in /usr/local/lib/python3.10/dist-packages (from torch==2.4.0->vllm==0.6.0) (12.1.0.106)\n",
      "Requirement already satisfied: nvidia-nccl-cu12==2.20.5 in /usr/local/lib/python3.10/dist-packages (from torch==2.4.0->vllm==0.6.0) (2.20.5)\n",
      "Requirement already satisfied: nvidia-nvtx-cu12==12.1.105 in /usr/local/lib/python3.10/dist-packages (from torch==2.4.0->vllm==0.6.0) (12.1.105)\n",
      "Requirement already satisfied: triton==3.0.0 in /usr/local/lib/python3.10/dist-packages (from torch==2.4.0->vllm==0.6.0) (3.0.0)\n",
      "Requirement already satisfied: nvidia-nvjitlink-cu12 in /usr/local/lib/python3.10/dist-packages (from nvidia-cusolver-cu12==11.4.5.107->torch==2.4.0->vllm==0.6.0) (12.4.127)\n",
      "Requirement already satisfied: huggingface-hub<1.0,>=0.23.2 in /usr/local/lib/python3.10/dist-packages (from transformers) (0.26.2)\n",
      "Requirement already satisfied: regex!=2019.12.17 in /usr/local/lib/python3.10/dist-packages (from transformers) (2024.11.6)\n",
      "Requirement already satisfied: safetensors>=0.4.1 in /usr/local/lib/python3.10/dist-packages (from transformers) (0.4.5)\n",
      "Requirement already satisfied: jsonschema<5.0.0,>=4.21.1 in /usr/local/lib/python3.10/dist-packages (from mistral-common>=1.3.4->vllm==0.6.0) (4.23.0)\n",
      "Requirement already satisfied: anyio<5,>=3.5.0 in /usr/local/lib/python3.10/dist-packages (from openai>=1.0->vllm==0.6.0) (4.0.0)\n",
      "Requirement already satisfied: distro<2,>=1.7.0 in /usr/lib/python3/dist-packages (from openai>=1.0->vllm==0.6.0) (1.7.0)\n",
      "Requirement already satisfied: httpx<1,>=0.23.0 in /usr/local/lib/python3.10/dist-packages (from openai>=1.0->vllm==0.6.0) (0.27.2)\n",
      "Requirement already satisfied: jiter<1,>=0.4.0 in /usr/local/lib/python3.10/dist-packages (from openai>=1.0->vllm==0.6.0) (0.7.1)\n",
      "Requirement already satisfied: sniffio in /usr/local/lib/python3.10/dist-packages (from openai>=1.0->vllm==0.6.0) (1.3.0)\n",
      "Requirement already satisfied: lark in /usr/local/lib/python3.10/dist-packages (from outlines<0.1,>=0.0.43->vllm==0.6.0) (1.2.2)\n",
      "Requirement already satisfied: nest-asyncio in /usr/local/lib/python3.10/dist-packages (from outlines<0.1,>=0.0.43->vllm==0.6.0) (1.5.8)\n",
      "Requirement already satisfied: cloudpickle in /usr/local/lib/python3.10/dist-packages (from outlines<0.1,>=0.0.43->vllm==0.6.0) (3.1.0)\n",
      "Requirement already satisfied: diskcache in /usr/local/lib/python3.10/dist-packages (from outlines<0.1,>=0.0.43->vllm==0.6.0) (5.6.3)\n",
      "Requirement already satisfied: numba in /usr/local/lib/python3.10/dist-packages (from outlines<0.1,>=0.0.43->vllm==0.6.0) (0.60.0)\n",
      "Requirement already satisfied: referencing in /usr/local/lib/python3.10/dist-packages (from outlines<0.1,>=0.0.43->vllm==0.6.0) (0.30.2)\n",
      "Requirement already satisfied: datasets in /usr/local/lib/python3.10/dist-packages (from outlines<0.1,>=0.0.43->vllm==0.6.0) (3.1.0)\n",
      "Requirement already satisfied: pycountry in /usr/local/lib/python3.10/dist-packages (from outlines<0.1,>=0.0.43->vllm==0.6.0) (24.6.1)\n",
      "Requirement already satisfied: pyairports in /usr/local/lib/python3.10/dist-packages (from outlines<0.1,>=0.0.43->vllm==0.6.0) (2.1.1)\n",
      "Requirement already satisfied: starlette<1.0.0,>=0.30.0 in /usr/local/lib/python3.10/dist-packages (from prometheus-fastapi-instrumentator>=7.0.0->vllm==0.6.0) (0.41.3)\n",
      "Requirement already satisfied: annotated-types>=0.6.0 in /usr/local/lib/python3.10/dist-packages (from pydantic>=2.8->vllm==0.6.0) (0.7.0)\n",
      "Requirement already satisfied: pydantic-core==2.23.4 in /usr/local/lib/python3.10/dist-packages (from pydantic>=2.8->vllm==0.6.0) (2.23.4)\n",
      "Requirement already satisfied: click>=7.0 in /usr/local/lib/python3.10/dist-packages (from ray>=2.9->vllm==0.6.0) (8.1.7)\n",
      "Requirement already satisfied: msgpack<2.0.0,>=1.0.0 in /usr/local/lib/python3.10/dist-packages (from ray>=2.9->vllm==0.6.0) (1.1.0)\n",
      "Requirement already satisfied: aiosignal in /usr/local/lib/python3.10/dist-packages (from ray>=2.9->vllm==0.6.0) (1.3.1)\n",
      "Requirement already satisfied: frozenlist in /usr/local/lib/python3.10/dist-packages (from ray>=2.9->vllm==0.6.0) (1.5.0)\n",
      "Requirement already satisfied: charset-normalizer<4,>=2 in /usr/local/lib/python3.10/dist-packages (from requests->vllm==0.6.0) (2.1.1)\n",
      "Requirement already satisfied: idna<4,>=2.5 in /usr/local/lib/python3.10/dist-packages (from requests->vllm==0.6.0) (3.4)\n",
      "Requirement already satisfied: urllib3<3,>=1.21.1 in /usr/local/lib/python3.10/dist-packages (from requests->vllm==0.6.0) (1.26.13)\n",
      "Requirement already satisfied: certifi>=2017.4.17 in /usr/local/lib/python3.10/dist-packages (from requests->vllm==0.6.0) (2022.12.7)\n",
      "Requirement already satisfied: aiohappyeyeballs>=2.3.0 in /usr/local/lib/python3.10/dist-packages (from aiohttp->vllm==0.6.0) (2.4.3)\n",
      "Requirement already satisfied: attrs>=17.3.0 in /usr/local/lib/python3.10/dist-packages (from aiohttp->vllm==0.6.0) (23.1.0)\n",
      "Requirement already satisfied: multidict<7.0,>=4.5 in /usr/local/lib/python3.10/dist-packages (from aiohttp->vllm==0.6.0) (6.1.0)\n",
      "Requirement already satisfied: propcache>=0.2.0 in /usr/local/lib/python3.10/dist-packages (from aiohttp->vllm==0.6.0) (0.2.0)\n",
      "Requirement already satisfied: yarl<2.0,>=1.17.0 in /usr/local/lib/python3.10/dist-packages (from aiohttp->vllm==0.6.0) (1.17.2)\n",
      "Requirement already satisfied: async-timeout<6.0,>=4.0 in /usr/local/lib/python3.10/dist-packages (from aiohttp->vllm==0.6.0) (5.0.1)\n",
      "Requirement already satisfied: h11>=0.8 in /usr/local/lib/python3.10/dist-packages (from uvicorn[standard]->vllm==0.6.0) (0.14.0)\n",
      "Requirement already satisfied: httptools>=0.5.0 in /usr/local/lib/python3.10/dist-packages (from uvicorn[standard]->vllm==0.6.0) (0.6.4)\n",
      "Requirement already satisfied: python-dotenv>=0.13 in /usr/local/lib/python3.10/dist-packages (from uvicorn[standard]->vllm==0.6.0) (1.0.1)\n",
      "Requirement already satisfied: uvloop!=0.15.0,!=0.15.1,>=0.14.0 in /usr/local/lib/python3.10/dist-packages (from uvicorn[standard]->vllm==0.6.0) (0.21.0)\n",
      "Requirement already satisfied: watchfiles>=0.13 in /usr/local/lib/python3.10/dist-packages (from uvicorn[standard]->vllm==0.6.0) (0.24.0)\n",
      "Requirement already satisfied: websockets>=10.4 in /usr/local/lib/python3.10/dist-packages (from uvicorn[standard]->vllm==0.6.0) (14.1)\n",
      "Requirement already satisfied: exceptiongroup>=1.0.2 in /usr/local/lib/python3.10/dist-packages (from anyio<5,>=3.5.0->openai>=1.0->vllm==0.6.0) (1.1.3)\n",
      "Requirement already satisfied: httpcore==1.* in /usr/local/lib/python3.10/dist-packages (from httpx<1,>=0.23.0->openai>=1.0->vllm==0.6.0) (1.0.7)\n",
      "Requirement already satisfied: jsonschema-specifications>=2023.03.6 in /usr/local/lib/python3.10/dist-packages (from jsonschema<5.0.0,>=4.21.1->mistral-common>=1.3.4->vllm==0.6.0) (2023.7.1)\n",
      "Requirement already satisfied: rpds-py>=0.7.1 in /usr/local/lib/python3.10/dist-packages (from jsonschema<5.0.0,>=4.21.1->mistral-common>=1.3.4->vllm==0.6.0) (0.12.0)\n",
      "Requirement already satisfied: pyarrow>=15.0.0 in /usr/local/lib/python3.10/dist-packages (from datasets->outlines<0.1,>=0.0.43->vllm==0.6.0) (18.0.0)\n",
      "Requirement already satisfied: dill<0.3.9,>=0.3.0 in /usr/local/lib/python3.10/dist-packages (from datasets->outlines<0.1,>=0.0.43->vllm==0.6.0) (0.3.8)\n",
      "Requirement already satisfied: pandas in /usr/local/lib/python3.10/dist-packages (from datasets->outlines<0.1,>=0.0.43->vllm==0.6.0) (2.2.3)\n",
      "Requirement already satisfied: xxhash in /usr/local/lib/python3.10/dist-packages (from datasets->outlines<0.1,>=0.0.43->vllm==0.6.0) (3.5.0)\n",
      "Requirement already satisfied: multiprocess<0.70.17 in /usr/local/lib/python3.10/dist-packages (from datasets->outlines<0.1,>=0.0.43->vllm==0.6.0) (0.70.16)\n",
      "Requirement already satisfied: MarkupSafe>=2.0 in /usr/local/lib/python3.10/dist-packages (from jinja2->torch==2.4.0->vllm==0.6.0) (2.1.2)\n",
      "Requirement already satisfied: llvmlite<0.44,>=0.43.0dev0 in /usr/local/lib/python3.10/dist-packages (from numba->outlines<0.1,>=0.0.43->vllm==0.6.0) (0.43.0)\n",
      "Requirement already satisfied: mpmath<1.4,>=1.1.0 in /usr/local/lib/python3.10/dist-packages (from sympy->torch==2.4.0->vllm==0.6.0) (1.3.0)\n",
      "Requirement already satisfied: python-dateutil>=2.8.2 in /usr/local/lib/python3.10/dist-packages (from pandas->datasets->outlines<0.1,>=0.0.43->vllm==0.6.0) (2.8.2)\n",
      "Requirement already satisfied: pytz>=2020.1 in /usr/local/lib/python3.10/dist-packages (from pandas->datasets->outlines<0.1,>=0.0.43->vllm==0.6.0) (2024.2)\n",
      "Requirement already satisfied: tzdata>=2022.7 in /usr/local/lib/python3.10/dist-packages (from pandas->datasets->outlines<0.1,>=0.0.43->vllm==0.6.0) (2024.2)\n",
      "Requirement already satisfied: six>=1.5 in /usr/lib/python3/dist-packages (from python-dateutil>=2.8.2->pandas->datasets->outlines<0.1,>=0.0.43->vllm==0.6.0) (1.16.0)\n",
      "\u001b[33mWARNING: Running pip as the 'root' user can result in broken permissions and conflicting behaviour with the system package manager. It is recommended to use a virtual environment instead: https://pip.pypa.io/warnings/venv\u001b[0m\u001b[33m\n",
      "\u001b[0m\n",
      "\u001b[1m[\u001b[0m\u001b[34;49mnotice\u001b[0m\u001b[1;39;49m]\u001b[0m\u001b[39;49m A new release of pip is available: \u001b[0m\u001b[31;49m23.3.1\u001b[0m\u001b[39;49m -> \u001b[0m\u001b[32;49m24.3.1\u001b[0m\n",
      "\u001b[1m[\u001b[0m\u001b[34;49mnotice\u001b[0m\u001b[1;39;49m]\u001b[0m\u001b[39;49m To update, run: \u001b[0m\u001b[32;49mpython -m pip install --upgrade pip\u001b[0m\n"
     ]
    }
   ],
   "source": [
    "!pip install transformers vllm==0.6.0"
   ]
  },
  {
   "cell_type": "code",
   "execution_count": 2,
   "id": "606fbe43-6c88-4bfe-aa89-3dcf5dce3a6a",
   "metadata": {
    "scrolled": false
   },
   "outputs": [
    {
     "name": "stdout",
     "output_type": "stream",
     "text": [
      "INFO 11-19 06:32:20 llm_engine.py:213] Initializing an LLM engine (v0.6.0) with config: model='iamjoon/Llama-3-ESG-SCORE-EVALUATOR', speculative_config=None, tokenizer='iamjoon/Llama-3-ESG-SCORE-EVALUATOR', skip_tokenizer_init=False, tokenizer_mode=auto, revision=None, override_neuron_config=None, rope_scaling=None, rope_theta=None, tokenizer_revision=None, trust_remote_code=False, dtype=torch.float16, max_seq_len=8192, download_dir=None, load_format=LoadFormat.AUTO, tensor_parallel_size=1, pipeline_parallel_size=1, disable_custom_all_reduce=False, quantization=None, enforce_eager=False, kv_cache_dtype=auto, quantization_param_path=None, device_config=cuda, decoding_config=DecodingConfig(guided_decoding_backend='outlines'), observability_config=ObservabilityConfig(otlp_traces_endpoint=None, collect_model_forward_time=False, collect_model_execute_time=False), seed=0, served_model_name=iamjoon/Llama-3-ESG-SCORE-EVALUATOR, use_v2_block_manager=False, num_scheduler_steps=1, enable_prefix_caching=False, use_async_output_proc=True)\n",
      "INFO 11-19 06:32:21 model_runner.py:915] Starting to load model iamjoon/Llama-3-ESG-SCORE-EVALUATOR...\n",
      "INFO 11-19 06:32:22 weight_utils.py:236] Using model weights format ['*.safetensors']\n"
     ]
    },
    {
     "data": {
      "application/vnd.jupyter.widget-view+json": {
       "model_id": "b90645eb3e784de5bc48f82474efbb8b",
       "version_major": 2,
       "version_minor": 0
      },
      "text/plain": [
       "Loading safetensors checkpoint shards:   0% Completed | 0/4 [00:00<?, ?it/s]\n"
      ]
     },
     "metadata": {},
     "output_type": "display_data"
    },
    {
     "name": "stdout",
     "output_type": "stream",
     "text": [
      "INFO 11-19 06:32:26 model_runner.py:926] Loading model weights took 14.9595 GB\n",
      "INFO 11-19 06:32:27 gpu_executor.py:122] # GPU blocks: 27924, # CPU blocks: 2048\n",
      "INFO 11-19 06:32:30 model_runner.py:1217] Capturing the model for CUDA graphs. This may lead to unexpected consequences if the model is not static. To run the model in eager mode, set 'enforce_eager=True' or use '--enforce-eager' in the CLI.\n",
      "INFO 11-19 06:32:30 model_runner.py:1221] CUDA graphs can take additional 1~3 GiB memory per GPU. If you are running out of memory, consider decreasing `gpu_memory_utilization` or enforcing eager mode. You can also reduce the `max_num_seqs` as needed to decrease memory usage.\n",
      "INFO 11-19 06:32:45 model_runner.py:1335] Graph capturing finished in 15 secs.\n"
     ]
    }
   ],
   "source": [
    "import string\n",
    "from vllm import LLM, SamplingParams\n",
    "\n",
    "# LLM\n",
    "llm = LLM(model=\"iamjoon/Llama-3-ESG-SCORE-EVALUATOR\")"
   ]
  },
  {
   "cell_type": "code",
   "execution_count": 75,
   "id": "96523ed4-b35e-463b-95d0-6ace492f5c3d",
   "metadata": {},
   "outputs": [],
   "source": [
    "# 프롬프트 템플릿 준비\n",
    "template = string.Template(\"\"\"<|begin_of_text|><|start_header_id|>system<|end_header_id|>\n",
    "\n",
    "${system_content}<|eot_id|><|start_header_id|>user<|end_header_id|>\n",
    "\n",
    "${user_content}<|eot_id|><|start_header_id|>assistant<|end_header_id|>\n",
    "\"\"\")\n",
    "\n",
    "system_prompt = '''당신은 ESG에 대해서 점수를 계산하는 모델입니다. 평가 기준은 다음과 같습니다.\n",
    "\n",
    "## 지시사항\n",
    "주어진 평가 기준을 바탕으로 뉴스 기사로부터 환경, 사회, 지배 구조에 대해서 점수를 측정하십시오.\n",
    "\n",
    "## 평가 기준\n",
    "환경\n",
    "1점: 환경 오염 유발, 법적 제재, 규제 위반 등의 사건이 발생한 경우. 예: 심각한 오염 사고, 규제 위반으로 인한 벌금 부과\n",
    "2점: 환경 보호에 대한 소극적인 태도 또는 일회성 활동에 그치는 경우. 예: 임시적인 환경 캠페인 참여, 적극적인 감축 목표 미설정\n",
    "3점: 환경 보호를 위한 노력이 있으나 체계적인 전략이 부족한 경우. 예: 온실가스 감축 계획 발표, 일부 친환경 인증 획득\n",
    "4점: 체계적인 환경 관리 계획이 있으며, 목표 달성에 꾸준히 투자하는 경우. 예: 지속 가능한 에너지 사용, 체계적인 폐기물 관리 프로그램 운영\n",
    "5점: 적극적인 환경 정책과 뛰어난 실적 결과를 보이며 업계 선도적 활동을 하는 경우. 예: 탄소 배출 네트 제로(Net Zero) 목표 실현, 친환경 기술 선도\n",
    "\n",
    "사회\n",
    "1점: 인권, 근로자 안전 문제 발생, 지역 사회와의 갈등 등 부정적 이슈 발생. 예: 직원 착취 문제, 안전 관리 소홀로 인한 사고\n",
    "2점: 직원 복지나 지역 사회 기여에 대한 제한적 활동 또는 단기적인 참여. 예: 일회성 기부, 사내 복지 프로그램 부족\n",
    "3점: 직원 복지 및 사회적 기여에 관심을 가지며 일부 프로그램을 운영하는 경우. 예: 사내 복지 프로그램 운영, 특정 지역 사회 활동 참여\n",
    "4점: 직원 복지, 다양성, 지역 사회 공헌에 적극적으로 나서며 책임감 있게 운영하는 경우. 예: 다양성 강화 프로그램, 정기적인 사회공헌 활동\n",
    "5점: 사회적 가치 창출에 지속적으로 기여하며 업계 모범적인 활동을 보여주는 경우. 예: 폭넓은 사회적 책임 활동, 소외 계층 지원 프로그램\n",
    "\n",
    "지배구조\n",
    "1점: 지배구조의 투명성 부족, 부패 사건 또는 규제 위반이 발생한 경우. 예: 부패 스캔들, 재무 조작\n",
    "2점: 지배구조 개선 노력이 부족하며, 외부 감사나 투명성 문제에 있는 경우. 예: 의사 결정 과정 불투명, 주주와의 소통 부족\n",
    "3점: 기본적인 지배구조 원칙을 따르나, 일부 개선의 여지가 있는 경우. 예: 주주와의 소통 강화 중, 투명성 개선 노력\n",
    "4점: 투명하고 윤리적인 지배구조를 실천하고 있으며, 책임 있는 경영을 하는 경우. 예: 정기적인 외부 감사, 투명한 의사결정 구조\n",
    "5점: 업계에서 모범이 되는 윤리적 지배구조를 유지하고 지속적 개선을 보이는 경우. 예: 독립적 이사회 구성, 주주 및 이해관계자와의 적극적 소통\n",
    "\n",
    "## 답변 형식\n",
    "답변 형식은 반드시 아래의 형식을 따르십시오. 근거:, E:, S:, G: 외에는 그 어떠한 문장도 덧붙이지 마십시오.\n",
    "\n",
    "근거: 해당 뉴스 기사에 대해서 ESG 점수를 작성한 근거를 작성합니다.\n",
    "E: 1~5 사이의 정수\n",
    "S: 1~5 사이의 정수\n",
    "G: 1~5 사이의 정수\n",
    "\n",
    "## 뉴스 기사'''\n",
    "\n",
    "user_prompt = '''월남쌈 대신 '비비고' 만두 먹고 CGV서 영화 봐요\"…'베트남 젠지' 홀린 CJ CJ그룹은 지난 10일부터 9월 1일까지 베트남에서 K컬처 축제 'CJ K FESTA'를 연다.ⓒ 뉴스1/김진희 기자.  (호찌민=뉴스1) 김진희 기자 = \"CJ(001040) 로고가 화려하고 예쁩니다. CGV를 통해 CJ를 알게 됐는데 젊고 역동적이어서 '젠지' 세대에 적합한 이미지라는 생각이 듭니다.\" -화이빠오(24·남)  지난 15~16일(현지시간) 베트남 호찌민 일대에서 열린 'CJ K FESTA'를 찾은 베트남 현지인들은 극찬을 쏟아냈다.  CJ그룹은 베트남에 진출한 계열사를 총동원해 CJ K FESTA를 올해 처음으로 개최했다. 이번 축제는 △K푸드 Week(8월 10~16일) △K스포츠 Week(8월 17~23일) △K무비 Week(8월 24일~9월 1일) 등 3가지 테마로 구성됐다.  CJ는 호찌민 소재 유명 마트와 쇼핑몰 내 CGV 매장에서 푸드쇼를 운영하며 브랜드 홍보에 적극 나섰다.  CJ그룹은 지난 10일부터 9월 1일까지 베트남에서 K컬처 축제 'CJ K FESTA'를 연다.ⓒ 뉴스1/김진희 기자.  15일 오후 호찌민 소재 메가마켓에는 더운 날씨임에도 마트 외부 공간에 사람들로 북적였다. CJ 제품을 선보이는 푸드트럭을 구경하기 위해 찾은 이들이었다. 한국과 달리 베트남에서는 푸드트럭이 생소하다고 한다.  이날 CJ는 CJ제일제당 비비고의 해산물 만두, 호떡, 김스낵과 뚜레쥬르의 빵을 선보였다. CJ제일제당의 자회사인 베트남 현지 냉동식품기업 '까우제'(Cautre)의 제품도 만나볼 수 있었다.  호찌민 시민 화이빠오는 \"예전에 만두를 많이 먹어 봤지만 비비고 만두는 독특하고 맛있다\"며 \"특히 푸드트럭을 처음 봐서 신기한데, 이렇게 화려하게 시식·광고하는 건 처음 본다\"고 말했다.  CJ그룹은 지난 10일부터 9월 1일까지 베트남에서 K컬처 축제 'CJ K FESTA'를 연다.ⓒ 뉴스1/김진희 기자.  아이와 함께 푸드트럭을 방문한 주부 흐엉(34·여)은 \"거주하고 있는 아파트 로비에 뚜레쥬르 매장이 있어서 평소에도 많이 애용해 CJ를 알고 있었다\"며 \"비비고 만두, 김치는 물론 CGV 등 CJ 계열사를 평소 많이 애용하는 편\"이라고 언급했다  메가마켓 내 푸드트럭 행사는 지난 11~15일 오후 4시부터 오후 9시 30분까지 운영됐는데 하루 방문객이 최대 1000명에 달했다고 한다.  CJ는 호찌민 내 재래시장, 대공원, 호수공원 등 총 10곳에서 푸드트럭을 운영했다.  CJ그룹은 지난 10일부터 9월 1일까지 베트남에서 K컬처 축제 'CJ K FESTA'를 연다.ⓒ 뉴스1/김진희 기자.  16일 이마트 고밥점에서 열린 쿠킹쇼 행사장에도 CJ 제품을 체험하기 위해 온 방문객들로 분주했다.  CJ는 단순히 자사 제품을 선보이는 것이 아니라 셰프, 스타 유튜버 등을 초청해 현지화된 음식을 제공해 눈길을 끌었다.  베트남에서 '한꿕 브로스'(Han Quoc Bros·한국 형제들) 채널을 운영, 100만 팔로워를 보유한 한국인 인기 유튜버 최종락 씨는 이날 셰프로 나섰다.  최 씨는 \"CJ 비비고 만두, 짜조, 김과자를 베트남식으로 퓨전화해 선보였는데 현지 분들 반응이 너무 좋아 뿌듯했다\"며 \"한국인이 한국 음식을 소개하는데 너무 좋아해 주셔서 감사하다\"고 밝혔다.  이날 행사장을 찾은 황 모 씨(57·남)는 \"비비고 만두를 처음 먹어봤는데 베트남 음식이 아닌데도 잘 맞다\"며 \"비비고 만두가 베트남 유명 요리인 월남쌈을 대체할 수 있을 것 같다\"고 엄지를 치켜세웠다.  그는 이 같은 행사 취지에 대해서도 \"브랜딩 활동이 너무 신선하다\"며 \"CJ 디자인이 눈에 띄어서 굉장히 젊어 보인다\"고 말했다.  CJ그룹은 지난 10일부터 9월 1일까지 베트남에서 K컬처 축제 'CJ K FESTA'를 연다.ⓒ 뉴스1/김진희 기자.  같은 날 호찌민시 소재 반한몰 내 CGV 매장에서는 행사 대미를 장식했다.  17일 열리는 '2024 CJ 전국 청소년 태권도 선수권 대회'를 기념해 태권도 선수들을 초청해 격파, 쇼 무대를 꾸며 분위기를 띄웠다. 고객들은 CJ 제품을 맛보면서 태권도라는 K-콘텐츠를 즐겼다.  이와 함께 셰프들이 직접 CJ 제품을 활용한 메뉴를 선보이며 브랜드 홍보 효과를 동시에 누릴 수 있었다.  CJ그룹은 지난 10일부터 9월 1일까지 베트남에서 K컬처 축제 'CJ K FESTA'를 연다.ⓒ 뉴스1/김진희 기자.  CJ는 'CJ K FESTA'를 정례화해 베트남에서 'K-블랙프라이데이'를 구축할 방침이다. 태권도 선수권 대회를 전후로 페스타를 열고 CJ 계열사 5개 브랜드를 대상으로 베트남 전역에서 대규모 할인 행사를 열 계획이다.  이를 통해 베트남 내 CJ 브랜드를 제고하고 CJ가 'K컬처 대표 브랜드'라는 이미지를 각인시킨다는 전략이다.  CJ 관계자는 \"CJ가 베트남에 진출한 지 약 25년 됐는데 이제는 CJ 그룹 브랜드를 알리는 차원을 넘어 유기적으로 활용해 시너지를 추구할 것\"이라며 \"CJ K FESTA를 베트남에서 가장 사랑받는 K컬처 대표 축제로 만들겠다\"고 강조했다.  jinny1@news1.kr'''\n",
    "\n",
    "# 메시지 준비\n",
    "messages = [\n",
    "    {\"role\": \"system\", \"content\": system_prompt},\n",
    "    {\"role\": \"user\", \"content\": user_prompt}\n",
    "]\n",
    "\n",
    "# 프롬프트 생성\n",
    "prompt = template.safe_substitute({\n",
    "    \"system_content\": messages[0][\"content\"],\n",
    "    \"user_content\": messages[1][\"content\"]\n",
    "})\n"
   ]
  },
  {
   "cell_type": "code",
   "execution_count": 76,
   "id": "fc85ff4f-7e55-43aa-983d-bfd5d085cb55",
   "metadata": {},
   "outputs": [],
   "source": [
    "prompt = prompt.strip() + '근거:'"
   ]
  },
  {
   "cell_type": "code",
   "execution_count": 77,
   "id": "c2832e7b-aa12-466e-8769-12ab59aae7c6",
   "metadata": {
    "scrolled": true
   },
   "outputs": [
    {
     "name": "stdout",
     "output_type": "stream",
     "text": [
      "<|begin_of_text|><|start_header_id|>system<|end_header_id|>\n",
      "\n",
      "당신은 ESG에 대해서 점수를 계산하는 모델입니다. 평가 기준은 다음과 같습니다.\n",
      "\n",
      "## 지시사항\n",
      "주어진 평가 기준을 바탕으로 뉴스 기사로부터 환경, 사회, 지배 구조에 대해서 점수를 측정하십시오.\n",
      "\n",
      "## 평가 기준\n",
      "환경\n",
      "1점: 환경 오염 유발, 법적 제재, 규제 위반 등의 사건이 발생한 경우. 예: 심각한 오염 사고, 규제 위반으로 인한 벌금 부과\n",
      "2점: 환경 보호에 대한 소극적인 태도 또는 일회성 활동에 그치는 경우. 예: 임시적인 환경 캠페인 참여, 적극적인 감축 목표 미설정\n",
      "3점: 환경 보호를 위한 노력이 있으나 체계적인 전략이 부족한 경우. 예: 온실가스 감축 계획 발표, 일부 친환경 인증 획득\n",
      "4점: 체계적인 환경 관리 계획이 있으며, 목표 달성에 꾸준히 투자하는 경우. 예: 지속 가능한 에너지 사용, 체계적인 폐기물 관리 프로그램 운영\n",
      "5점: 적극적인 환경 정책과 뛰어난 실적 결과를 보이며 업계 선도적 활동을 하는 경우. 예: 탄소 배출 네트 제로(Net Zero) 목표 실현, 친환경 기술 선도\n",
      "\n",
      "사회\n",
      "1점: 인권, 근로자 안전 문제 발생, 지역 사회와의 갈등 등 부정적 이슈 발생. 예: 직원 착취 문제, 안전 관리 소홀로 인한 사고\n",
      "2점: 직원 복지나 지역 사회 기여에 대한 제한적 활동 또는 단기적인 참여. 예: 일회성 기부, 사내 복지 프로그램 부족\n",
      "3점: 직원 복지 및 사회적 기여에 관심을 가지며 일부 프로그램을 운영하는 경우. 예: 사내 복지 프로그램 운영, 특정 지역 사회 활동 참여\n",
      "4점: 직원 복지, 다양성, 지역 사회 공헌에 적극적으로 나서며 책임감 있게 운영하는 경우. 예: 다양성 강화 프로그램, 정기적인 사회공헌 활동\n",
      "5점: 사회적 가치 창출에 지속적으로 기여하며 업계 모범적인 활동을 보여주는 경우. 예: 폭넓은 사회적 책임 활동, 소외 계층 지원 프로그램\n",
      "\n",
      "지배구조\n",
      "1점: 지배구조의 투명성 부족, 부패 사건 또는 규제 위반이 발생한 경우. 예: 부패 스캔들, 재무 조작\n",
      "2점: 지배구조 개선 노력이 부족하며, 외부 감사나 투명성 문제에 있는 경우. 예: 의사 결정 과정 불투명, 주주와의 소통 부족\n",
      "3점: 기본적인 지배구조 원칙을 따르나, 일부 개선의 여지가 있는 경우. 예: 주주와의 소통 강화 중, 투명성 개선 노력\n",
      "4점: 투명하고 윤리적인 지배구조를 실천하고 있으며, 책임 있는 경영을 하는 경우. 예: 정기적인 외부 감사, 투명한 의사결정 구조\n",
      "5점: 업계에서 모범이 되는 윤리적 지배구조를 유지하고 지속적 개선을 보이는 경우. 예: 독립적 이사회 구성, 주주 및 이해관계자와의 적극적 소통\n",
      "\n",
      "## 답변 형식\n",
      "답변 형식은 반드시 아래의 형식을 따르십시오. 근거:, E:, S:, G: 외에는 그 어떠한 문장도 덧붙이지 마십시오.\n",
      "\n",
      "근거: 해당 뉴스 기사에 대해서 ESG 점수를 작성한 근거를 작성합니다.\n",
      "E: 1~5 사이의 정수\n",
      "S: 1~5 사이의 정수\n",
      "G: 1~5 사이의 정수\n",
      "\n",
      "## 뉴스 기사<|eot_id|><|start_header_id|>user<|end_header_id|>\n",
      "\n",
      "월남쌈 대신 '비비고' 만두 먹고 CGV서 영화 봐요\"…'베트남 젠지' 홀린 CJ CJ그룹은 지난 10일부터 9월 1일까지 베트남에서 K컬처 축제 'CJ K FESTA'를 연다.ⓒ 뉴스1/김진희 기자.  (호찌민=뉴스1) 김진희 기자 = \"CJ(001040) 로고가 화려하고 예쁩니다. CGV를 통해 CJ를 알게 됐는데 젊고 역동적이어서 '젠지' 세대에 적합한 이미지라는 생각이 듭니다.\" -화이빠오(24·남)  지난 15~16일(현지시간) 베트남 호찌민 일대에서 열린 'CJ K FESTA'를 찾은 베트남 현지인들은 극찬을 쏟아냈다.  CJ그룹은 베트남에 진출한 계열사를 총동원해 CJ K FESTA를 올해 처음으로 개최했다. 이번 축제는 △K푸드 Week(8월 10~16일) △K스포츠 Week(8월 17~23일) △K무비 Week(8월 24일~9월 1일) 등 3가지 테마로 구성됐다.  CJ는 호찌민 소재 유명 마트와 쇼핑몰 내 CGV 매장에서 푸드쇼를 운영하며 브랜드 홍보에 적극 나섰다.  CJ그룹은 지난 10일부터 9월 1일까지 베트남에서 K컬처 축제 'CJ K FESTA'를 연다.ⓒ 뉴스1/김진희 기자.  15일 오후 호찌민 소재 메가마켓에는 더운 날씨임에도 마트 외부 공간에 사람들로 북적였다. CJ 제품을 선보이는 푸드트럭을 구경하기 위해 찾은 이들이었다. 한국과 달리 베트남에서는 푸드트럭이 생소하다고 한다.  이날 CJ는 CJ제일제당 비비고의 해산물 만두, 호떡, 김스낵과 뚜레쥬르의 빵을 선보였다. CJ제일제당의 자회사인 베트남 현지 냉동식품기업 '까우제'(Cautre)의 제품도 만나볼 수 있었다.  호찌민 시민 화이빠오는 \"예전에 만두를 많이 먹어 봤지만 비비고 만두는 독특하고 맛있다\"며 \"특히 푸드트럭을 처음 봐서 신기한데, 이렇게 화려하게 시식·광고하는 건 처음 본다\"고 말했다.  CJ그룹은 지난 10일부터 9월 1일까지 베트남에서 K컬처 축제 'CJ K FESTA'를 연다.ⓒ 뉴스1/김진희 기자.  아이와 함께 푸드트럭을 방문한 주부 흐엉(34·여)은 \"거주하고 있는 아파트 로비에 뚜레쥬르 매장이 있어서 평소에도 많이 애용해 CJ를 알고 있었다\"며 \"비비고 만두, 김치는 물론 CGV 등 CJ 계열사를 평소 많이 애용하는 편\"이라고 언급했다  메가마켓 내 푸드트럭 행사는 지난 11~15일 오후 4시부터 오후 9시 30분까지 운영됐는데 하루 방문객이 최대 1000명에 달했다고 한다.  CJ는 호찌민 내 재래시장, 대공원, 호수공원 등 총 10곳에서 푸드트럭을 운영했다.  CJ그룹은 지난 10일부터 9월 1일까지 베트남에서 K컬처 축제 'CJ K FESTA'를 연다.ⓒ 뉴스1/김진희 기자.  16일 이마트 고밥점에서 열린 쿠킹쇼 행사장에도 CJ 제품을 체험하기 위해 온 방문객들로 분주했다.  CJ는 단순히 자사 제품을 선보이는 것이 아니라 셰프, 스타 유튜버 등을 초청해 현지화된 음식을 제공해 눈길을 끌었다.  베트남에서 '한꿕 브로스'(Han Quoc Bros·한국 형제들) 채널을 운영, 100만 팔로워를 보유한 한국인 인기 유튜버 최종락 씨는 이날 셰프로 나섰다.  최 씨는 \"CJ 비비고 만두, 짜조, 김과자를 베트남식으로 퓨전화해 선보였는데 현지 분들 반응이 너무 좋아 뿌듯했다\"며 \"한국인이 한국 음식을 소개하는데 너무 좋아해 주셔서 감사하다\"고 밝혔다.  이날 행사장을 찾은 황 모 씨(57·남)는 \"비비고 만두를 처음 먹어봤는데 베트남 음식이 아닌데도 잘 맞다\"며 \"비비고 만두가 베트남 유명 요리인 월남쌈을 대체할 수 있을 것 같다\"고 엄지를 치켜세웠다.  그는 이 같은 행사 취지에 대해서도 \"브랜딩 활동이 너무 신선하다\"며 \"CJ 디자인이 눈에 띄어서 굉장히 젊어 보인다\"고 말했다.  CJ그룹은 지난 10일부터 9월 1일까지 베트남에서 K컬처 축제 'CJ K FESTA'를 연다.ⓒ 뉴스1/김진희 기자.  같은 날 호찌민시 소재 반한몰 내 CGV 매장에서는 행사 대미를 장식했다.  17일 열리는 '2024 CJ 전국 청소년 태권도 선수권 대회'를 기념해 태권도 선수들을 초청해 격파, 쇼 무대를 꾸며 분위기를 띄웠다. 고객들은 CJ 제품을 맛보면서 태권도라는 K-콘텐츠를 즐겼다.  이와 함께 셰프들이 직접 CJ 제품을 활용한 메뉴를 선보이며 브랜드 홍보 효과를 동시에 누릴 수 있었다.  CJ그룹은 지난 10일부터 9월 1일까지 베트남에서 K컬처 축제 'CJ K FESTA'를 연다.ⓒ 뉴스1/김진희 기자.  CJ는 'CJ K FESTA'를 정례화해 베트남에서 'K-블랙프라이데이'를 구축할 방침이다. 태권도 선수권 대회를 전후로 페스타를 열고 CJ 계열사 5개 브랜드를 대상으로 베트남 전역에서 대규모 할인 행사를 열 계획이다.  이를 통해 베트남 내 CJ 브랜드를 제고하고 CJ가 'K컬처 대표 브랜드'라는 이미지를 각인시킨다는 전략이다.  CJ 관계자는 \"CJ가 베트남에 진출한 지 약 25년 됐는데 이제는 CJ 그룹 브랜드를 알리는 차원을 넘어 유기적으로 활용해 시너지를 추구할 것\"이라며 \"CJ K FESTA를 베트남에서 가장 사랑받는 K컬처 대표 축제로 만들겠다\"고 강조했다.  jinny1@news1.kr<|eot_id|><|start_header_id|>assistant<|end_header_id|>근거:\n"
     ]
    }
   ],
   "source": [
    "print(prompt)"
   ]
  },
  {
   "cell_type": "code",
   "execution_count": 103,
   "id": "e766bc44-fbc0-4ddc-8c85-0ff90c31d1cd",
   "metadata": {
    "scrolled": true
   },
   "outputs": [
    {
     "name": "stderr",
     "output_type": "stream",
     "text": [
      "Processed prompts: 100%|██████████| 1/1 [00:02<00:00,  2.18s/it, est. speed input: 1163.55 toks/s, output: 70.63 toks/s]"
     ]
    },
    {
     "name": "stdout",
     "output_type": "stream",
     "text": [
      "\n",
      " 이 뉴스는 CJ그룹이 베트남도 문화 콘테스트 ‘CJ K-Festa’를 진행하여 다양한 이벤트를 통해서 자신들의 상품들과 서비스를 넷째 시장 확대로 하고 있다는 내용을 다루고 있습니다. 이는 기업 간 상생 협력을 촉진하려는 긍정적인 움직임이나 관련성을 나타내기 때문에 높은 성능을 볼 가능성이 높습니다. 그러나 특별히 명확하지 않은 부분에서도 여러 분야에서의 영향도를 정확 판단하기 어렵기에 일반적인 평균값을 적용하였으며, 특히 환경(E), 사회(S)에 관한 정보로는 크거나 중요한 영향을 받지는 않음을 확인했습니다. \n",
      "ESG:\n",
      "E: 3\n",
      "S: 3\n",
      "G: 4\n"
     ]
    },
    {
     "name": "stderr",
     "output_type": "stream",
     "text": [
      "\n"
     ]
    }
   ],
   "source": [
    "# 샘플링 파라미터 설정\n",
    "sampling_params = SamplingParams(\n",
    "    temperature=0,\n",
    "    max_tokens=1024,\n",
    "    stop=[\"\\n<|end_of_text|>\", \"<|eot_id|>\"],  # 문자열로 중지 토큰 지정\n",
    "    repetition_penalty=1.5\n",
    ")\n",
    "\n",
    "# 생성\n",
    "outputs = llm.generate([prompt], sampling_params)\n",
    "\n",
    "# 결과 출력\n",
    "for output in outputs:\n",
    "    print()\n",
    "    print(output.outputs[0].text)"
   ]
  },
  {
   "cell_type": "code",
   "execution_count": 9,
   "id": "4d993bb5-6275-474a-b6d2-c53de0d2c178",
   "metadata": {},
   "outputs": [
    {
     "name": "stdout",
     "output_type": "stream",
     "text": [
      "--2024-11-19 06:36:00--  https://raw.githubusercontent.com/llm-fine-tuning/LLaMA-Factory/refs/heads/main/data/esg_data_test.json\n",
      "Resolving raw.githubusercontent.com (raw.githubusercontent.com)... "
     ]
    },
    {
     "name": "stderr",
     "output_type": "stream",
     "text": [
      "huggingface/tokenizers: The current process just got forked, after parallelism has already been used. Disabling parallelism to avoid deadlocks...\n",
      "To disable this warning, you can either:\n",
      "\t- Avoid using `tokenizers` before the fork if possible\n",
      "\t- Explicitly set the environment variable TOKENIZERS_PARALLELISM=(true | false)\n"
     ]
    },
    {
     "name": "stdout",
     "output_type": "stream",
     "text": [
      "185.199.108.133, 185.199.109.133, 185.199.111.133, ...\n",
      "Connecting to raw.githubusercontent.com (raw.githubusercontent.com)|185.199.108.133|:443... connected.\n",
      "HTTP request sent, awaiting response... 200 OK\n",
      "Length: 2806397 (2.7M) [text/plain]\n",
      "Saving to: ‘esg_data_test.json’\n",
      "\n",
      "esg_data_test.json  100%[===================>]   2.68M  --.-KB/s    in 0.06s   \n",
      "\n",
      "2024-11-19 06:36:08 (43.8 MB/s) - ‘esg_data_test.json’ saved [2806397/2806397]\n",
      "\n"
     ]
    }
   ],
   "source": [
    "!wget https://raw.githubusercontent.com/llm-fine-tuning/LLaMA-Factory/refs/heads/main/data/esg_data_test.json"
   ]
  },
  {
   "cell_type": "code",
   "execution_count": 10,
   "id": "b79329a0-f111-4b09-bd1b-a16e5128472a",
   "metadata": {},
   "outputs": [],
   "source": [
    "import pandas as pd\n",
    "\n",
    "df = pd.read_json('esg_data_test.json')"
   ]
  },
  {
   "cell_type": "code",
   "execution_count": 11,
   "id": "a59475ab-ec43-4980-91c1-ed3830bb8c08",
   "metadata": {},
   "outputs": [
    {
     "data": {
      "text/html": [
       "<div>\n",
       "<style scoped>\n",
       "    .dataframe tbody tr th:only-of-type {\n",
       "        vertical-align: middle;\n",
       "    }\n",
       "\n",
       "    .dataframe tbody tr th {\n",
       "        vertical-align: top;\n",
       "    }\n",
       "\n",
       "    .dataframe thead th {\n",
       "        text-align: right;\n",
       "    }\n",
       "</style>\n",
       "<table border=\"1\" class=\"dataframe\">\n",
       "  <thead>\n",
       "    <tr style=\"text-align: right;\">\n",
       "      <th></th>\n",
       "      <th>instruction</th>\n",
       "      <th>input</th>\n",
       "      <th>output</th>\n",
       "    </tr>\n",
       "  </thead>\n",
       "  <tbody>\n",
       "    <tr>\n",
       "      <th>0</th>\n",
       "      <td>\"월남쌈 대신 '비비고' 만두 먹고 CGV서 영화 봐요\"…'베트남 젠지' 홀린 CJ...</td>\n",
       "      <td></td>\n",
       "      <td>근거: 이 뉴스 기사는 CJ그룹이 베트남에서 K컬처 축제 'CJ K FESTA'를 ...</td>\n",
       "    </tr>\n",
       "    <tr>\n",
       "      <th>1</th>\n",
       "      <td>KDI \"한국경제 부진 지속…수출 위축에 내수도 둔화\" 국책연구원인 한국개발연구원,...</td>\n",
       "      <td></td>\n",
       "      <td>근거: 해당 뉴스 기사는 KDI가 한국 경제의 경기 부진과 수출 위축 및 내수 둔화...</td>\n",
       "    </tr>\n",
       "    <tr>\n",
       "      <th>2</th>\n",
       "      <td>개성 가득 이색 팝업 ’글로스튜디오’ 체험하는 배우 이이경 (서울=뉴스1) = BA...</td>\n",
       "      <td></td>\n",
       "      <td>근거: 이 뉴스 기사는 BAT로스만스의 이색 팝업 체험 공간인 '글로 스튜디오' 오...</td>\n",
       "    </tr>\n",
       "    <tr>\n",
       "      <th>3</th>\n",
       "      <td>삼성전자 노조, 사측에 화해 손짓…\"파업 상황 조속 해결\" 전국삼성전자노동조합 조합...</td>\n",
       "      <td></td>\n",
       "      <td>근거: 이 뉴스 기사는 삼성전자와 전국삼성전자노동조합 간의 임금 및 성과금 관련 교...</td>\n",
       "    </tr>\n",
       "    <tr>\n",
       "      <th>4</th>\n",
       "      <td>‘클라우드’ 돕는 트레이너…‘AI’까지 넘본다 [천억클럽] 인공지능(AI) 시대, ...</td>\n",
       "      <td></td>\n",
       "      <td>근거: 이 뉴스 기사에서는 베스핀글로벌이라는 클라우드 스타트업의 성장과 사업 전략에...</td>\n",
       "    </tr>\n",
       "    <tr>\n",
       "      <th>...</th>\n",
       "      <td>...</td>\n",
       "      <td>...</td>\n",
       "      <td>...</td>\n",
       "    </tr>\n",
       "    <tr>\n",
       "      <th>927</th>\n",
       "      <td>부산시 전기차 구매 보조금 지원대상 확대 [KBS 부산]부산시가 올해 상반기 전기자...</td>\n",
       "      <td></td>\n",
       "      <td>근거: 이 뉴스 기사는 부산시가 전기자동차 구매 보조금 지원 대상을 확대하고 있는 ...</td>\n",
       "    </tr>\n",
       "    <tr>\n",
       "      <th>928</th>\n",
       "      <td>KT&amp;G “세계적인 의결권자문사의 이사회 제안 안건 ‘찬성 권고’ 대환영” 글로벌 ...</td>\n",
       "      <td></td>\n",
       "      <td>근거: 이 뉴스 기사는 KT&amp;G 이사회 제안이 글로벌 의결권자문사 글래스루이스의 지...</td>\n",
       "    </tr>\n",
       "    <tr>\n",
       "      <th>929</th>\n",
       "      <td>서산 농작물 창고서 불…2백만 원 피해 [KBS 대전]오늘(27일) 오전 10시쯤 ...</td>\n",
       "      <td></td>\n",
       "      <td>근거: 이 뉴스 기사는 창고에서 발생한 화재로 인한 피해 내용에 대해 다루고 있습니...</td>\n",
       "    </tr>\n",
       "    <tr>\n",
       "      <th>930</th>\n",
       "      <td>현대차, 신형 코나 전기차 모델 첫 공개 자동요약 기사 제목과 주요 문장을 기반으로...</td>\n",
       "      <td></td>\n",
       "      <td>근거: 현대자동차는 새로운 전기차 모델 '디 올 뉴 코나 일렉트릭'을 공개하여 전기...</td>\n",
       "    </tr>\n",
       "    <tr>\n",
       "      <th>931</th>\n",
       "      <td>기아, 전기차 앞세워 中 시장 재도약 추진… ‘EV5·6·9’ 물량공세에 현지 생산...</td>\n",
       "      <td></td>\n",
       "      <td>근거: 이 뉴스 기사는 기아가 중국 시장에서 전기차를 통한 재도약을 계획하고 있는 ...</td>\n",
       "    </tr>\n",
       "  </tbody>\n",
       "</table>\n",
       "<p>932 rows × 3 columns</p>\n",
       "</div>"
      ],
      "text/plain": [
       "                                           instruction input  \\\n",
       "0    \"월남쌈 대신 '비비고' 만두 먹고 CGV서 영화 봐요\"…'베트남 젠지' 홀린 CJ...         \n",
       "1    KDI \"한국경제 부진 지속…수출 위축에 내수도 둔화\" 국책연구원인 한국개발연구원,...         \n",
       "2    개성 가득 이색 팝업 ’글로스튜디오’ 체험하는 배우 이이경 (서울=뉴스1) = BA...         \n",
       "3    삼성전자 노조, 사측에 화해 손짓…\"파업 상황 조속 해결\" 전국삼성전자노동조합 조합...         \n",
       "4    ‘클라우드’ 돕는 트레이너…‘AI’까지 넘본다 [천억클럽] 인공지능(AI) 시대, ...         \n",
       "..                                                 ...   ...   \n",
       "927  부산시 전기차 구매 보조금 지원대상 확대 [KBS 부산]부산시가 올해 상반기 전기자...         \n",
       "928  KT&G “세계적인 의결권자문사의 이사회 제안 안건 ‘찬성 권고’ 대환영” 글로벌 ...         \n",
       "929  서산 농작물 창고서 불…2백만 원 피해 [KBS 대전]오늘(27일) 오전 10시쯤 ...         \n",
       "930  현대차, 신형 코나 전기차 모델 첫 공개 자동요약 기사 제목과 주요 문장을 기반으로...         \n",
       "931  기아, 전기차 앞세워 中 시장 재도약 추진… ‘EV5·6·9’ 물량공세에 현지 생산...         \n",
       "\n",
       "                                                output  \n",
       "0    근거: 이 뉴스 기사는 CJ그룹이 베트남에서 K컬처 축제 'CJ K FESTA'를 ...  \n",
       "1    근거: 해당 뉴스 기사는 KDI가 한국 경제의 경기 부진과 수출 위축 및 내수 둔화...  \n",
       "2    근거: 이 뉴스 기사는 BAT로스만스의 이색 팝업 체험 공간인 '글로 스튜디오' 오...  \n",
       "3    근거: 이 뉴스 기사는 삼성전자와 전국삼성전자노동조합 간의 임금 및 성과금 관련 교...  \n",
       "4    근거: 이 뉴스 기사에서는 베스핀글로벌이라는 클라우드 스타트업의 성장과 사업 전략에...  \n",
       "..                                                 ...  \n",
       "927  근거: 이 뉴스 기사는 부산시가 전기자동차 구매 보조금 지원 대상을 확대하고 있는 ...  \n",
       "928  근거: 이 뉴스 기사는 KT&G 이사회 제안이 글로벌 의결권자문사 글래스루이스의 지...  \n",
       "929  근거: 이 뉴스 기사는 창고에서 발생한 화재로 인한 피해 내용에 대해 다루고 있습니...  \n",
       "930  근거: 현대자동차는 새로운 전기차 모델 '디 올 뉴 코나 일렉트릭'을 공개하여 전기...  \n",
       "931  근거: 이 뉴스 기사는 기아가 중국 시장에서 전기차를 통한 재도약을 계획하고 있는 ...  \n",
       "\n",
       "[932 rows x 3 columns]"
      ]
     },
     "execution_count": 11,
     "metadata": {},
     "output_type": "execute_result"
    }
   ],
   "source": [
    "df"
   ]
  },
  {
   "cell_type": "code",
   "execution_count": 12,
   "id": "b2561dd6-0558-46df-ba1a-02db0b4c7e91",
   "metadata": {},
   "outputs": [],
   "source": [
    "inputs = df['instruction'].to_list()"
   ]
  },
  {
   "cell_type": "code",
   "execution_count": 13,
   "id": "c9ba2ff0-5cc4-4f75-8f80-606df7be3450",
   "metadata": {},
   "outputs": [
    {
     "name": "stdout",
     "output_type": "stream",
     "text": [
      "\"월남쌈 대신 '비비고' 만두 먹고 CGV서 영화 봐요\"…'베트남 젠지' 홀린 CJ CJ그룹은 지난 10일부터 9월 1일까지 베트남에서 K컬처 축제 'CJ K FESTA'를 연다.ⓒ 뉴스1/김진희 기자.  (호찌민=뉴스1) 김진희 기자 = \"CJ(001040) 로고가 화려하고 예쁩니다. CGV를 통해 CJ를 알게 됐는데 젊고 역동적이어서 '젠지' 세대에 적합한 이미지라는 생각이 듭니다.\" -화이빠오(24·남)  지난 15~16일(현지시간) 베트남 호찌민 일대에서 열린 'CJ K FESTA'를 찾은 베트남 현지인들은 극찬을 쏟아냈다.  CJ그룹은 베트남에 진출한 계열사를 총동원해 CJ K FESTA를 올해 처음으로 개최했다. 이번 축제는 △K푸드 Week(8월 10~16일) △K스포츠 Week(8월 17~23일) △K무비 Week(8월 24일~9월 1일) 등 3가지 테마로 구성됐다.  CJ는 호찌민 소재 유명 마트와 쇼핑몰 내 CGV 매장에서 푸드쇼를 운영하며 브랜드 홍보에 적극 나섰다.  CJ그룹은 지난 10일부터 9월 1일까지 베트남에서 K컬처 축제 'CJ K FESTA'를 연다.ⓒ 뉴스1/김진희 기자.  15일 오후 호찌민 소재 메가마켓에는 더운 날씨임에도 마트 외부 공간에 사람들로 북적였다. CJ 제품을 선보이는 푸드트럭을 구경하기 위해 찾은 이들이었다. 한국과 달리 베트남에서는 푸드트럭이 생소하다고 한다.  이날 CJ는 CJ제일제당 비비고의 해산물 만두, 호떡, 김스낵과 뚜레쥬르의 빵을 선보였다. CJ제일제당의 자회사인 베트남 현지 냉동식품기업 '까우제'(Cautre)의 제품도 만나볼 수 있었다.  호찌민 시민 화이빠오는 \"예전에 만두를 많이 먹어 봤지만 비비고 만두는 독특하고 맛있다\"며 \"특히 푸드트럭을 처음 봐서 신기한데, 이렇게 화려하게 시식·광고하는 건 처음 본다\"고 말했다.  CJ그룹은 지난 10일부터 9월 1일까지 베트남에서 K컬처 축제 'CJ K FESTA'를 연다.ⓒ 뉴스1/김진희 기자.  아이와 함께 푸드트럭을 방문한 주부 흐엉(34·여)은 \"거주하고 있는 아파트 로비에 뚜레쥬르 매장이 있어서 평소에도 많이 애용해 CJ를 알고 있었다\"며 \"비비고 만두, 김치는 물론 CGV 등 CJ 계열사를 평소 많이 애용하는 편\"이라고 언급했다  메가마켓 내 푸드트럭 행사는 지난 11~15일 오후 4시부터 오후 9시 30분까지 운영됐는데 하루 방문객이 최대 1000명에 달했다고 한다.  CJ는 호찌민 내 재래시장, 대공원, 호수공원 등 총 10곳에서 푸드트럭을 운영했다.  CJ그룹은 지난 10일부터 9월 1일까지 베트남에서 K컬처 축제 'CJ K FESTA'를 연다.ⓒ 뉴스1/김진희 기자.  16일 이마트 고밥점에서 열린 쿠킹쇼 행사장에도 CJ 제품을 체험하기 위해 온 방문객들로 분주했다.  CJ는 단순히 자사 제품을 선보이는 것이 아니라 셰프, 스타 유튜버 등을 초청해 현지화된 음식을 제공해 눈길을 끌었다.  베트남에서 '한꿕 브로스'(Han Quoc Bros·한국 형제들) 채널을 운영, 100만 팔로워를 보유한 한국인 인기 유튜버 최종락 씨는 이날 셰프로 나섰다.  최 씨는 \"CJ 비비고 만두, 짜조, 김과자를 베트남식으로 퓨전화해 선보였는데 현지 분들 반응이 너무 좋아 뿌듯했다\"며 \"한국인이 한국 음식을 소개하는데 너무 좋아해 주셔서 감사하다\"고 밝혔다.  이날 행사장을 찾은 황 모 씨(57·남)는 \"비비고 만두를 처음 먹어봤는데 베트남 음식이 아닌데도 잘 맞다\"며 \"비비고 만두가 베트남 유명 요리인 월남쌈을 대체할 수 있을 것 같다\"고 엄지를 치켜세웠다.  그는 이 같은 행사 취지에 대해서도 \"브랜딩 활동이 너무 신선하다\"며 \"CJ 디자인이 눈에 띄어서 굉장히 젊어 보인다\"고 말했다.  CJ그룹은 지난 10일부터 9월 1일까지 베트남에서 K컬처 축제 'CJ K FESTA'를 연다.ⓒ 뉴스1/김진희 기자.  같은 날 호찌민시 소재 반한몰 내 CGV 매장에서는 행사 대미를 장식했다.  17일 열리는 '2024 CJ 전국 청소년 태권도 선수권 대회'를 기념해 태권도 선수들을 초청해 격파, 쇼 무대를 꾸며 분위기를 띄웠다. 고객들은 CJ 제품을 맛보면서 태권도라는 K-콘텐츠를 즐겼다.  이와 함께 셰프들이 직접 CJ 제품을 활용한 메뉴를 선보이며 브랜드 홍보 효과를 동시에 누릴 수 있었다.  CJ그룹은 지난 10일부터 9월 1일까지 베트남에서 K컬처 축제 'CJ K FESTA'를 연다.ⓒ 뉴스1/김진희 기자.  CJ는 'CJ K FESTA'를 정례화해 베트남에서 'K-블랙프라이데이'를 구축할 방침이다. 태권도 선수권 대회를 전후로 페스타를 열고 CJ 계열사 5개 브랜드를 대상으로 베트남 전역에서 대규모 할인 행사를 열 계획이다.  이를 통해 베트남 내 CJ 브랜드를 제고하고 CJ가 'K컬처 대표 브랜드'라는 이미지를 각인시킨다는 전략이다.  CJ 관계자는 \"CJ가 베트남에 진출한 지 약 25년 됐는데 이제는 CJ 그룹 브랜드를 알리는 차원을 넘어 유기적으로 활용해 시너지를 추구할 것\"이라며 \"CJ K FESTA를 베트남에서 가장 사랑받는 K컬처 대표 축제로 만들겠다\"고 강조했다.  jinny1@news1.kr\n"
     ]
    }
   ],
   "source": [
    "print(inputs[0])"
   ]
  },
  {
   "cell_type": "code",
   "execution_count": 38,
   "id": "d5d81653-d0cb-424b-a17b-a0c6cd0d46cf",
   "metadata": {},
   "outputs": [],
   "source": [
    "def make_prompt(system_prompt, news_article):\n",
    "    # 프롬프트 템플릿 준비\n",
    "    template = string.Template(\"\"\"<|begin_of_text|><|start_header_id|>system<|end_header_id|>\n",
    "    \n",
    "${system_content}<|eot_id|><|start_header_id|>user<|end_header_id|>\n",
    "    \n",
    "${user_content}<|eot_id|><|start_header_id|>assistant<|end_header_id|>\n",
    "\"\"\")\n",
    "    \n",
    "    user_prompt = news_article\n",
    "    \n",
    "    # 메시지 준비\n",
    "    messages = [\n",
    "        {\"role\": \"system\", \"content\": system_prompt},\n",
    "        {\"role\": \"user\", \"content\": user_prompt}\n",
    "    ]\n",
    "    \n",
    "    # 프롬프트 생성\n",
    "    prompt = template.safe_substitute({\n",
    "        \"system_content\": messages[0][\"content\"],\n",
    "        \"user_content\": messages[1][\"content\"]\n",
    "    })\n",
    "\n",
    "    prompt = prompt.strip() + \"근거:\"\n",
    "    return prompt"
   ]
  },
  {
   "cell_type": "code",
   "execution_count": 39,
   "id": "6d670159-8a26-45b2-a39d-c2f18b1b7584",
   "metadata": {},
   "outputs": [
    {
     "name": "stdout",
     "output_type": "stream",
     "text": [
      "<|begin_of_text|><|start_header_id|>system<|end_header_id|>\n",
      "    \n",
      "당신은 ESG에 대해서 점수를 계산하는 모델입니다. 평가 기준은 다음과 같습니다.\n",
      "\n",
      "## 지시사항\n",
      "주어진 평가 기준을 바탕으로 뉴스 기사로부터 환경, 사회, 지배 구조에 대해서 점수를 측정하십시오.\n",
      "\n",
      "## 평가 기준\n",
      "환경\n",
      "1점: 환경 오염 유발, 법적 제재, 규제 위반 등의 사건이 발생한 경우. 예: 심각한 오염 사고, 규제 위반으로 인한 벌금 부과\n",
      "2점: 환경 보호에 대한 소극적인 태도 또는 일회성 활동에 그치는 경우. 예: 임시적인 환경 캠페인 참여, 적극적인 감축 목표 미설정\n",
      "3점: 환경 보호를 위한 노력이 있으나 체계적인 전략이 부족한 경우. 예: 온실가스 감축 계획 발표, 일부 친환경 인증 획득\n",
      "4점: 체계적인 환경 관리 계획이 있으며, 목표 달성에 꾸준히 투자하는 경우. 예: 지속 가능한 에너지 사용, 체계적인 폐기물 관리 프로그램 운영\n",
      "5점: 적극적인 환경 정책과 뛰어난 실적 결과를 보이며 업계 선도적 활동을 하는 경우. 예: 탄소 배출 네트 제로(Net Zero) 목표 실현, 친환경 기술 선도\n",
      "\n",
      "사회\n",
      "1점: 인권, 근로자 안전 문제 발생, 지역 사회와의 갈등 등 부정적 이슈 발생. 예: 직원 착취 문제, 안전 관리 소홀로 인한 사고\n",
      "2점: 직원 복지나 지역 사회 기여에 대한 제한적 활동 또는 단기적인 참여. 예: 일회성 기부, 사내 복지 프로그램 부족\n",
      "3점: 직원 복지 및 사회적 기여에 관심을 가지며 일부 프로그램을 운영하는 경우. 예: 사내 복지 프로그램 운영, 특정 지역 사회 활동 참여\n",
      "4점: 직원 복지, 다양성, 지역 사회 공헌에 적극적으로 나서며 책임감 있게 운영하는 경우. 예: 다양성 강화 프로그램, 정기적인 사회공헌 활동\n",
      "5점: 사회적 가치 창출에 지속적으로 기여하며 업계 모범적인 활동을 보여주는 경우. 예: 폭넓은 사회적 책임 활동, 소외 계층 지원 프로그램\n",
      "\n",
      "지배구조\n",
      "1점: 지배구조의 투명성 부족, 부패 사건 또는 규제 위반이 발생한 경우. 예: 부패 스캔들, 재무 조작\n",
      "2점: 지배구조 개선 노력이 부족하며, 외부 감사나 투명성 문제에 있는 경우. 예: 의사 결정 과정 불투명, 주주와의 소통 부족\n",
      "3점: 기본적인 지배구조 원칙을 따르나, 일부 개선의 여지가 있는 경우. 예: 주주와의 소통 강화 중, 투명성 개선 노력\n",
      "4점: 투명하고 윤리적인 지배구조를 실천하고 있으며, 책임 있는 경영을 하는 경우. 예: 정기적인 외부 감사, 투명한 의사결정 구조\n",
      "5점: 업계에서 모범이 되는 윤리적 지배구조를 유지하고 지속적 개선을 보이는 경우. 예: 독립적 이사회 구성, 주주 및 이해관계자와의 적극적 소통\n",
      "\n",
      "## 답변 형식\n",
      "답변 형식은 반드시 아래의 형식을 따르십시오. 근거:, E:, S:, G: 외에는 그 어떠한 문장도 덧붙이지 마십시오.\n",
      "\n",
      "근거: 해당 뉴스 기사에 대해서 ESG 점수를 작성한 근거를 작성합니다.\n",
      "E: 1~5 사이의 정수\n",
      "S: 1~5 사이의 정수\n",
      "G: 1~5 사이의 정수\n",
      "\n",
      "## 뉴스 기사<|eot_id|><|start_header_id|>user<|end_header_id|>\n",
      "    \n",
      "\"월남쌈 대신 '비비고' 만두 먹고 CGV서 영화 봐요\"…'베트남 젠지' 홀린 CJ CJ그룹은 지난 10일부터 9월 1일까지 베트남에서 K컬처 축제 'CJ K FESTA'를 연다.ⓒ 뉴스1/김진희 기자.  (호찌민=뉴스1) 김진희 기자 = \"CJ(001040) 로고가 화려하고 예쁩니다. CGV를 통해 CJ를 알게 됐는데 젊고 역동적이어서 '젠지' 세대에 적합한 이미지라는 생각이 듭니다.\" -화이빠오(24·남)  지난 15~16일(현지시간) 베트남 호찌민 일대에서 열린 'CJ K FESTA'를 찾은 베트남 현지인들은 극찬을 쏟아냈다.  CJ그룹은 베트남에 진출한 계열사를 총동원해 CJ K FESTA를 올해 처음으로 개최했다. 이번 축제는 △K푸드 Week(8월 10~16일) △K스포츠 Week(8월 17~23일) △K무비 Week(8월 24일~9월 1일) 등 3가지 테마로 구성됐다.  CJ는 호찌민 소재 유명 마트와 쇼핑몰 내 CGV 매장에서 푸드쇼를 운영하며 브랜드 홍보에 적극 나섰다.  CJ그룹은 지난 10일부터 9월 1일까지 베트남에서 K컬처 축제 'CJ K FESTA'를 연다.ⓒ 뉴스1/김진희 기자.  15일 오후 호찌민 소재 메가마켓에는 더운 날씨임에도 마트 외부 공간에 사람들로 북적였다. CJ 제품을 선보이는 푸드트럭을 구경하기 위해 찾은 이들이었다. 한국과 달리 베트남에서는 푸드트럭이 생소하다고 한다.  이날 CJ는 CJ제일제당 비비고의 해산물 만두, 호떡, 김스낵과 뚜레쥬르의 빵을 선보였다. CJ제일제당의 자회사인 베트남 현지 냉동식품기업 '까우제'(Cautre)의 제품도 만나볼 수 있었다.  호찌민 시민 화이빠오는 \"예전에 만두를 많이 먹어 봤지만 비비고 만두는 독특하고 맛있다\"며 \"특히 푸드트럭을 처음 봐서 신기한데, 이렇게 화려하게 시식·광고하는 건 처음 본다\"고 말했다.  CJ그룹은 지난 10일부터 9월 1일까지 베트남에서 K컬처 축제 'CJ K FESTA'를 연다.ⓒ 뉴스1/김진희 기자.  아이와 함께 푸드트럭을 방문한 주부 흐엉(34·여)은 \"거주하고 있는 아파트 로비에 뚜레쥬르 매장이 있어서 평소에도 많이 애용해 CJ를 알고 있었다\"며 \"비비고 만두, 김치는 물론 CGV 등 CJ 계열사를 평소 많이 애용하는 편\"이라고 언급했다  메가마켓 내 푸드트럭 행사는 지난 11~15일 오후 4시부터 오후 9시 30분까지 운영됐는데 하루 방문객이 최대 1000명에 달했다고 한다.  CJ는 호찌민 내 재래시장, 대공원, 호수공원 등 총 10곳에서 푸드트럭을 운영했다.  CJ그룹은 지난 10일부터 9월 1일까지 베트남에서 K컬처 축제 'CJ K FESTA'를 연다.ⓒ 뉴스1/김진희 기자.  16일 이마트 고밥점에서 열린 쿠킹쇼 행사장에도 CJ 제품을 체험하기 위해 온 방문객들로 분주했다.  CJ는 단순히 자사 제품을 선보이는 것이 아니라 셰프, 스타 유튜버 등을 초청해 현지화된 음식을 제공해 눈길을 끌었다.  베트남에서 '한꿕 브로스'(Han Quoc Bros·한국 형제들) 채널을 운영, 100만 팔로워를 보유한 한국인 인기 유튜버 최종락 씨는 이날 셰프로 나섰다.  최 씨는 \"CJ 비비고 만두, 짜조, 김과자를 베트남식으로 퓨전화해 선보였는데 현지 분들 반응이 너무 좋아 뿌듯했다\"며 \"한국인이 한국 음식을 소개하는데 너무 좋아해 주셔서 감사하다\"고 밝혔다.  이날 행사장을 찾은 황 모 씨(57·남)는 \"비비고 만두를 처음 먹어봤는데 베트남 음식이 아닌데도 잘 맞다\"며 \"비비고 만두가 베트남 유명 요리인 월남쌈을 대체할 수 있을 것 같다\"고 엄지를 치켜세웠다.  그는 이 같은 행사 취지에 대해서도 \"브랜딩 활동이 너무 신선하다\"며 \"CJ 디자인이 눈에 띄어서 굉장히 젊어 보인다\"고 말했다.  CJ그룹은 지난 10일부터 9월 1일까지 베트남에서 K컬처 축제 'CJ K FESTA'를 연다.ⓒ 뉴스1/김진희 기자.  같은 날 호찌민시 소재 반한몰 내 CGV 매장에서는 행사 대미를 장식했다.  17일 열리는 '2024 CJ 전국 청소년 태권도 선수권 대회'를 기념해 태권도 선수들을 초청해 격파, 쇼 무대를 꾸며 분위기를 띄웠다. 고객들은 CJ 제품을 맛보면서 태권도라는 K-콘텐츠를 즐겼다.  이와 함께 셰프들이 직접 CJ 제품을 활용한 메뉴를 선보이며 브랜드 홍보 효과를 동시에 누릴 수 있었다.  CJ그룹은 지난 10일부터 9월 1일까지 베트남에서 K컬처 축제 'CJ K FESTA'를 연다.ⓒ 뉴스1/김진희 기자.  CJ는 'CJ K FESTA'를 정례화해 베트남에서 'K-블랙프라이데이'를 구축할 방침이다. 태권도 선수권 대회를 전후로 페스타를 열고 CJ 계열사 5개 브랜드를 대상으로 베트남 전역에서 대규모 할인 행사를 열 계획이다.  이를 통해 베트남 내 CJ 브랜드를 제고하고 CJ가 'K컬처 대표 브랜드'라는 이미지를 각인시킨다는 전략이다.  CJ 관계자는 \"CJ가 베트남에 진출한 지 약 25년 됐는데 이제는 CJ 그룹 브랜드를 알리는 차원을 넘어 유기적으로 활용해 시너지를 추구할 것\"이라며 \"CJ K FESTA를 베트남에서 가장 사랑받는 K컬처 대표 축제로 만들겠다\"고 강조했다.  jinny1@news1.kr<|eot_id|><|start_header_id|>assistant<|end_header_id|>근거:\n"
     ]
    }
   ],
   "source": [
    "prompt = make_prompt(system_prompt, inputs[0])\n",
    "print(prompt)"
   ]
  },
  {
   "cell_type": "code",
   "execution_count": 80,
   "id": "1dd64f3a-89b3-42c1-921b-8626347cad5b",
   "metadata": {},
   "outputs": [],
   "source": [
    "prompts = []\n",
    "for input in inputs:\n",
    "    prompts.append(make_prompt(system_prompt, input))"
   ]
  },
  {
   "cell_type": "code",
   "execution_count": 81,
   "id": "0d4f2918-5f1b-4beb-abd5-6e0500fc0cba",
   "metadata": {},
   "outputs": [
    {
     "data": {
      "text/plain": [
       "932"
      ]
     },
     "execution_count": 81,
     "metadata": {},
     "output_type": "execute_result"
    }
   ],
   "source": [
    "len(prompts)"
   ]
  },
  {
   "cell_type": "markdown",
   "id": "74e85644-6b04-469f-8cf2-c936ef9d46e2",
   "metadata": {},
   "source": [
    "## 하나의 데이터에 대한 호출"
   ]
  },
  {
   "cell_type": "code",
   "execution_count": 82,
   "id": "054cdc30-4040-4c13-82d3-afe8335a7ad2",
   "metadata": {},
   "outputs": [
    {
     "name": "stderr",
     "output_type": "stream",
     "text": [
      "Processed prompts: 100%|██████████| 1/1 [00:01<00:00,  1.71s/it, est. speed input: 1487.92 toks/s, output: 68.59 toks/s]"
     ]
    },
    {
     "name": "stdout",
     "output_type": "stream",
     "text": [
      " 이 뉴스 기사는 CJ그룹이 베트남에서 K컬처 축제 'CJ K FESTA'를 개최하여 다양한 K-콘텐츠를 홍보하는 내용을 다루고 있습니다. 환경에 대한 명시적 내용은 없으며, 사회적 측면에서는 지역 사회와의 긍정적인 상호 작용을 통해 문화 교류를 촉진하고 있습니다. 지배구조와 관련된 정보는 포함되어 있지 않습니다.\n",
      "E: 2\n",
      "S: 4\n",
      "G: 3\n"
     ]
    },
    {
     "name": "stderr",
     "output_type": "stream",
     "text": [
      "\n"
     ]
    }
   ],
   "source": [
    "results = llm.generate([prompts[0]], sampling_params)\n",
    "print(results[0].outputs[0].text)"
   ]
  },
  {
   "cell_type": "markdown",
   "id": "c0b66373-5aac-4f27-adbe-918dda8fb0ba",
   "metadata": {},
   "source": [
    "## 다수의 데이터에 대한 호출"
   ]
  },
  {
   "cell_type": "code",
   "execution_count": 83,
   "id": "f9b8b3f5-9935-4346-a139-21557a2b10fb",
   "metadata": {},
   "outputs": [
    {
     "name": "stderr",
     "output_type": "stream",
     "text": [
      "Processed prompts: 100%|██████████| 5/5 [00:03<00:00,  1.62it/s, est. speed input: 3234.65 toks/s, output: 183.79 toks/s]\n"
     ]
    }
   ],
   "source": [
    "results = llm.generate(prompts[:5], sampling_params)"
   ]
  },
  {
   "cell_type": "code",
   "execution_count": 84,
   "id": "2b8a4dd3-df21-47d1-8ba3-01de2b84b686",
   "metadata": {},
   "outputs": [
    {
     "name": "stdout",
     "output_type": "stream",
     "text": [
      " 이 뉴스 기사는 CJ그룹이 베트남에서 K컬처 축제 'CJ K FESTA'를 개최하여 브랜드 홍보를 강화하는 내용을 다루고 있습니다. 환경에 대한 명시적 내용은 없으며, 사회적 측면에서는 지역 사회와의 긍정적인 상호 작용을 통해 문화 교류를 촉진하고 있습니다. 지배구조와 관련된 정보는 포함되어 있지 않습니다.\n",
      "E: 2\n",
      "S: 4\n",
      "G: 3\n",
      "--\n",
      " 이 뉴스 기사는 한국 경제의 부진과 관련된 내용을 다루고 있습니다. 환경, 사회, 지배구조와 직접적으로 관련된 정보는 포함되어 있지 않으며, 경제 동향에 대한 분석과 예측에 초점이 맞춰져 있습니다. 따라서 ESG 평가 기준에 따라 환경, 사회, 지배구조에 대한 점수를 부여하기 어렵습니다.\n",
      "E: 3\n",
      "S: 3\n",
      "G: 3\n",
      "--\n",
      " 이 뉴스 기사는 '글로 스튜디오'라는 팝업 체험 공간의 오픈 소식을 다루고 있습니다. 환경, 사회, 지배구조와 관련된 명시적인 내용은 없습니다. 따라서 ESG 평가에 필요한 정보가 부족합니다.\n",
      "E: 3\n",
      "S: 3\n",
      "G: 3\n",
      "--\n",
      " 이 뉴스 기사는 삼성전자 노조와 사측 간의 파업 상황과 대화 재개 가능성을 다루고 있습니다. 환경에 대한 명시적 내용은 없으며, 사회적 측면에서는 노사 간의 갈등과 파업으로 인한 사회적 불안이 드러나고 있습니다. 지배구조 측면에서는 노사 간의 소통과 협상이 이루어지고 있어 투명성과 협력의 가능성이 엿보입니다.\n",
      "E: 2\n",
      "S: 2\n",
      "G: 3\n",
      "--\n",
      " 이 뉴스 기사는 클라우드 서비스 제공업체인 베스핀글로벌의 성장과 AI 분야에서의 확장을 다루고 있습니다. 환경에 대한 직접적인 언급은 없으며, 사회적 측면에서는 클라우드 서비스를 통해 기업들이 데이터 관리와 AI 활용을 돕는다는 점에서 긍정적인 기여를 하고 있다고 볼 수 있습니다. 지배구조 측면에서는 전문 인력 양성과 클라우드 자격증 취득을 통해 경쟁력을 강화하고 있으며, 이는 투명하고 윤리적인 지배구조를 유지하려는 노력으로 해석될 수 있습니다.\n",
      "E: 3\n",
      "S: 4\n",
      "G: 4\n",
      "--\n"
     ]
    }
   ],
   "source": [
    "for result in results:\n",
    "    print(result.outputs[0].text)\n",
    "    print('--')"
   ]
  },
  {
   "cell_type": "markdown",
   "id": "fe3953d4-e9de-44d2-b896-e74e1ba549cb",
   "metadata": {},
   "source": [
    "## 평가를 위한 테스트 데이터 전체에 대한 호출"
   ]
  },
  {
   "cell_type": "code",
   "execution_count": 85,
   "id": "35401ca6-9aea-403d-8e97-c7f125467bd8",
   "metadata": {},
   "outputs": [
    {
     "name": "stderr",
     "output_type": "stream",
     "text": [
      "Processed prompts: 100%|██████████| 932/932 [03:11<00:00,  4.87it/s, est. speed input: 7449.05 toks/s, output: 636.24 toks/s]\n"
     ]
    }
   ],
   "source": [
    "results = llm.generate(prompts, sampling_params)"
   ]
  },
  {
   "cell_type": "code",
   "execution_count": 95,
   "id": "26519a08-673c-48e2-8cf7-d2c582749b96",
   "metadata": {},
   "outputs": [],
   "source": [
    "preds = []\n",
    "for result in results:\n",
    "    preds.append(result.outputs[0].text)"
   ]
  },
  {
   "cell_type": "code",
   "execution_count": 96,
   "id": "04f11e6a-6786-4a7e-8321-bcfac541c587",
   "metadata": {},
   "outputs": [
    {
     "data": {
      "text/plain": [
       "932"
      ]
     },
     "execution_count": 96,
     "metadata": {},
     "output_type": "execute_result"
    }
   ],
   "source": [
    "len(preds)"
   ]
  },
  {
   "cell_type": "code",
   "execution_count": 97,
   "id": "077619ab-c0c7-4f93-b1ed-c81ffe3acae7",
   "metadata": {},
   "outputs": [
    {
     "name": "stdout",
     "output_type": "stream",
     "text": [
      " 이 뉴스 기사는 CJ그룹이 베트남에서 K컬처 축제 'CJ K FESTA'를 개최하여 브랜드 홍보를 강화하는 내용을 다루고 있습니다. 환경에 대한 명시적 내용은 없으며, 사회적 측면에서는 지역 사회와의 긍정적인 상호 작용을 통해 문화 교류를 촉진하고 있습니다. 지배구조와 관련된 정보는 포함되어 있지 않습니다.\n",
      "E: 2\n",
      "S: 4\n",
      "G: 3\n"
     ]
    }
   ],
   "source": [
    "print(preds[0])"
   ]
  },
  {
   "cell_type": "code",
   "execution_count": 122,
   "id": "7014eecc-036c-4d20-8b67-485a85ad7840",
   "metadata": {},
   "outputs": [
    {
     "name": "stdout",
     "output_type": "stream",
     "text": [
      "[Error] Failed to extract scores: ESG scores not found in the text.\n",
      "[Error] Failed to extract scores: ESG scores not found in the text.\n",
      "[Info] Prediction 1 is invalid. Applying maximum error.\n",
      "[Info] Ground truth 1 is invalid. Using default values.\n",
      "MAE: 2.0\n",
      "MSE: 8.0\n"
     ]
    }
   ],
   "source": [
    "import re\n",
    "import numpy as np\n",
    "import pandas as pd\n",
    "\n",
    "def extract_scores(text):\n",
    "    \"\"\"\n",
    "    Extract ESG scores from a given string.\n",
    "    \n",
    "    Parameters:\n",
    "        text (str): Input string containing \"E: x\", \"S: x\", \"G: x\".\n",
    "    \n",
    "    Returns:\n",
    "        dict: A dictionary with keys 'E', 'S', 'G' and corresponding integer scores.\n",
    "              Returns None if extraction fails.\n",
    "    \"\"\"\n",
    "    pattern = r'E: (\\d+)\\s+S: (\\d+)\\s+G: (\\d+)'\n",
    "    try:\n",
    "        match = re.search(pattern, text)\n",
    "        if match:\n",
    "            return {'E': int(match.group(1)), 'S': int(match.group(2)), 'G': int(match.group(3))}\n",
    "        else:\n",
    "            raise ValueError(\"ESG scores not found in the text.\")\n",
    "    except Exception as e:\n",
    "        print(f\"[Error] Failed to extract scores: {e}\")\n",
    "        return None\n",
    "\n",
    "def calculate_metrics(predictions, ground_truths):\n",
    "    \"\"\"\n",
    "    Calculate MAE and MSE for multiple predictions and ground truths.\n",
    "    Assign maximum error for invalid predictions.\n",
    "    \n",
    "    Parameters:\n",
    "        predictions (list of str): List of prediction strings containing ESG scores.\n",
    "        ground_truths (list of str): List of ground truth strings containing ESG scores.\n",
    "    \n",
    "    Returns:\n",
    "        dict: A dictionary containing 'MAE' and 'MSE'.\n",
    "    \"\"\"\n",
    "    pred_scores = [extract_scores(pred) for pred in predictions]\n",
    "    true_scores = [extract_scores(gt) for gt in ground_truths]\n",
    "\n",
    "    adjusted_preds = []\n",
    "    adjusted_trues = []\n",
    "    for i, (pred, true) in enumerate(zip(pred_scores, true_scores)):\n",
    "        # If prediction is invalid\n",
    "        if pred is None:\n",
    "            print(f\"[Info] Prediction {i} is invalid. Applying maximum error.\")\n",
    "            pred = {'E': 1, 'S': 1, 'G': 1}  # Maximum error predictions\n",
    "        # If ground truth is invalid\n",
    "        if true is None:\n",
    "            print(f\"[Info] Ground truth {i} is invalid. Using default values.\")\n",
    "            true = {'E': 5, 'S': 5, 'G': 5}  # Default values for invalid ground truths\n",
    "        adjusted_preds.append(pred)\n",
    "        adjusted_trues.append(true)\n",
    "\n",
    "    # Convert to DataFrame for easier processing\n",
    "    pred_df = pd.DataFrame(adjusted_preds)\n",
    "    true_df = pd.DataFrame(adjusted_trues)\n",
    "\n",
    "    # Calculate absolute and squared errors\n",
    "    abs_errors = np.abs(pred_df - true_df)\n",
    "    sq_errors = (pred_df - true_df) ** 2\n",
    "\n",
    "    # Calculate MAE and MSE\n",
    "    mae = abs_errors.mean().mean()\n",
    "    mse = sq_errors.mean().mean()\n",
    "\n",
    "    return {'MAE': mae, 'MSE': mse}\n",
    "\n",
    "# Example data\n",
    "predictions = [\n",
    "    '''근거: 이 뉴스 기사는 CJ그룹이 베트남에서 K컬처 축제 'CJ K FESTA'를 개최하여 브랜드 홍보를 강화하는 내용을 다루고 있습니다. 환경에 대한 명시적 내용은 없으며, 사회적 측면에서는 지역 사회와의 긍정적인 상호작용을 통해 브랜드 인지도를 높이는 활동을 하고 있습니다. 지배구조와 관련된 내용은 명시적으로 다루어지지 않았습니다. \n",
    "    E: 2\n",
    "    S: 3\n",
    "    G: 3''',\n",
    "    '''근거: 잘못된 형식의 데이터입니다.'''\n",
    "]\n",
    "\n",
    "ground_truths = [\n",
    "    '''근거: 이 뉴스 기사는 CJ그룹이 베트남에서 K컬처 축제 'CJ K FESTA'를 개최하고, 베트남 시장에서 브랜드 홍보를 적극적으로 진행하는 내용을 다루고 있습니다. 환경에 대한 직접적인 내용은 없으며, 주로 기업의 사회적 기여와 브랜드 이미지 형성에 관련된 내용이 언급됩니다. 이 행사는 지역 사회를 대상으로 한국 문화를 홍보하고, 다양한 사회적 참여를 통해 긍정적인 이미지를 구축하려는 노력이 보입니다. 지배구조에 대한 구체적인 내용은 기사에 포함되어 있지 않습니다.\n",
    "    E: 2\n",
    "    S: 3\n",
    "    G: 3''',\n",
    "    '''근거: 이 뉴스도 잘못된 형식입니다.'''\n",
    "]\n",
    "\n",
    "# Calculate metrics\n",
    "metrics = calculate_metrics(predictions, ground_truths)\n",
    "print(f\"MAE: {metrics['MAE']}\")\n",
    "print(f\"MSE: {metrics['MSE']}\")"
   ]
  },
  {
   "cell_type": "markdown",
   "id": "90f74ffb-511d-4d04-8d00-c3c9eadd71ca",
   "metadata": {},
   "source": [
    "Ground truth 문제 처리:\n",
    "- 정답(Ground truth)에 문제가 있을 경우 [Info] 메시지를 출력합니다.\n",
    "- 기본값({E: 5, S: 5, G: 5})으로 설정합니다.\n",
    "\n",
    "Prediction 문제 처리:\n",
    "- 예측값(Prediction)에 문제가 있을 경우 최대 오차를 적용합니다.\n",
    "- 정답과 관계없이 무조건 E: 1, S: 1, G: 1로 설정합니다."
   ]
  },
  {
   "cell_type": "code",
   "execution_count": 99,
   "id": "c4f603be-217f-4cd4-b178-11e9b4215b6c",
   "metadata": {},
   "outputs": [],
   "source": [
    "preds = ['근거:' + pred for pred in preds]"
   ]
  },
  {
   "cell_type": "code",
   "execution_count": 111,
   "id": "19d93e77-9800-4f15-a78a-178089a797ba",
   "metadata": {},
   "outputs": [
    {
     "name": "stdout",
     "output_type": "stream",
     "text": [
      "근거: 이 뉴스 기사는 CJ그룹이 베트남에서 K컬처 축제 'CJ K FESTA'를 개최하여 브랜드 홍보를 강화하는 내용을 다루고 있습니다. 환경에 대한 명시적 내용은 없으며, 사회적 측면에서는 지역 사회와의 긍정적인 상호 작용을 통해 문화 교류를 촉진하고 있습니다. 지배구조와 관련된 정보는 포함되어 있지 않습니다.\n",
      "E: 2\n",
      "S: 4\n",
      "G: 3\n"
     ]
    }
   ],
   "source": [
    "print(preds[0])"
   ]
  },
  {
   "cell_type": "code",
   "execution_count": 112,
   "id": "eec74c4c-c9ff-4727-8a9a-f5930ec461fb",
   "metadata": {},
   "outputs": [
    {
     "name": "stdout",
     "output_type": "stream",
     "text": [
      "근거: 이 뉴스 기사는 CJ그룹이 베트남에서 K컬처 축제 'CJ K FESTA'를 개최하고, 베트남 시장에서 브랜드 홍보를 적극적으로 진행하는 내용을 다루고 있습니다. 환경에 대한 직접적인 내용은 없으며, 주로 기업의 사회적 기여와 브랜드 이미지 형성에 관련된 내용이 언급됩니다. 이 행사는 지역 사회를 대상으로 한국 문화를 홍보하고, 다양한 사회적 참여를 통해 긍정적인 이미지를 구축하려는 노력이 보입니다. 지배구조에 대한 구체적인 내용은 기사에 포함되어 있지 않습니다.\n",
      "E: 2\n",
      "S: 4\n",
      "G: 3\n"
     ]
    }
   ],
   "source": [
    "print(df['output'].loc[0])"
   ]
  },
  {
   "cell_type": "code",
   "execution_count": 113,
   "id": "b7e1cb80-a79a-42c5-9268-49f5a90a4162",
   "metadata": {},
   "outputs": [
    {
     "name": "stdout",
     "output_type": "stream",
     "text": [
      "근거: 이 뉴스 기사는 한국 경제의 부진과 관련된 내용을 다루고 있습니다. 환경, 사회, 지배구조와 직접적으로 관련된 정보는 포함되어 있지 않으며, 경제 동향에 대한 분석과 예측에 초점이 맞춰져 있습니다. 따라서 ESG 평가 기준에 따라 환경, 사회, 지배구조에 대한 점수를 부여하기 어렵습니다.\n",
      "E: 3\n",
      "S: 3\n",
      "G: 3\n"
     ]
    }
   ],
   "source": [
    "print(preds[1])"
   ]
  },
  {
   "cell_type": "code",
   "execution_count": 114,
   "id": "3f8ff7ee-e88f-46fc-ad70-b8cb09a4a85b",
   "metadata": {},
   "outputs": [
    {
     "name": "stdout",
     "output_type": "stream",
     "text": [
      "근거: 해당 뉴스 기사는 KDI가 한국 경제의 경기 부진과 수출 위축 및 내수 둔화를 진단하는 내용을 다루고 있습니다. 환경, 사회, 지배구조와 관련된 구체적인 내용은 포함되어 있지 않으며, 경제 전반의 상황에 대한 분석에 중점을 두고 있습니다.\n",
      "E: 3\n",
      "S: 3\n",
      "G: 3\n"
     ]
    }
   ],
   "source": [
    "print(df['output'].loc[1])"
   ]
  },
  {
   "cell_type": "code",
   "execution_count": 118,
   "id": "67c0c449-2707-495d-8ceb-6ba643ce0dc7",
   "metadata": {},
   "outputs": [
    {
     "name": "stdout",
     "output_type": "stream",
     "text": [
      "[Error] Failed to extract scores: ESG scores not found in the text.\n",
      "[Error] Failed to extract scores: ESG scores not found in the text.\n",
      "[Error] Failed to extract scores: ESG scores not found in the text.\n",
      "[Error] Failed to extract scores: ESG scores not found in the text.\n",
      "[Error] Failed to extract scores: ESG scores not found in the text.\n",
      "[Error] Failed to extract scores: ESG scores not found in the text.\n",
      "[Error] Failed to extract scores: ESG scores not found in the text.\n",
      "[Error] Failed to extract scores: ESG scores not found in the text.\n",
      "[Info] Prediction 15 is invalid. Applying maximum error.\n",
      "[Info] Ground truth 20 is invalid. Using default values.\n",
      "[Info] Prediction 60 is invalid. Applying maximum error.\n",
      "[Info] Ground truth 109 is invalid. Using default values.\n",
      "[Info] Ground truth 138 is invalid. Using default values.\n",
      "[Info] Ground truth 187 is invalid. Using default values.\n",
      "[Info] Ground truth 786 is invalid. Using default values.\n",
      "[Info] Prediction 888 is invalid. Applying maximum error.\n",
      "MAE: 0.4084406294706724\n",
      "MSE: 0.48927038626609437\n"
     ]
    }
   ],
   "source": [
    "# Example data\n",
    "predictions = preds\n",
    "ground_truths = df['output'].to_list()\n",
    "\n",
    "# Calculate metrics\n",
    "metrics = calculate_metrics(predictions, ground_truths)\n",
    "print(f\"MAE: {metrics['MAE']}\")\n",
    "print(f\"MSE: {metrics['MSE']}\")"
   ]
  }
 ],
 "metadata": {
  "kernelspec": {
   "display_name": "Python 3 (ipykernel)",
   "language": "python",
   "name": "python3"
  },
  "language_info": {
   "codemirror_mode": {
    "name": "ipython",
    "version": 3
   },
   "file_extension": ".py",
   "mimetype": "text/x-python",
   "name": "python",
   "nbconvert_exporter": "python",
   "pygments_lexer": "ipython3",
   "version": "3.9.12"
  }
 },
 "nbformat": 4,
 "nbformat_minor": 5
}

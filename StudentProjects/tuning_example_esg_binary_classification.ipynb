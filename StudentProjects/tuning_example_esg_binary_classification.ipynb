{
 "cells": [
  {
   "cell_type": "code",
   "execution_count": 1,
   "id": "c5d9678a-ef92-4820-ba48-cc90591fa74e",
   "metadata": {},
   "outputs": [
    {
     "name": "stdout",
     "output_type": "stream",
     "text": [
      "Cloning into 'LLaMA-Factory'...\n",
      "remote: Enumerating objects: 12808, done.\u001b[K\n",
      "remote: Total 12808 (delta 0), reused 0 (delta 0), pack-reused 12808 (from 1)\u001b[K\n",
      "Receiving objects: 100% (12808/12808), 229.09 MiB | 11.27 MiB/s, done.\n",
      "Resolving deltas: 100% (9425/9425), done.\n",
      "Updating files: 100% (227/227), done.\n"
     ]
    }
   ],
   "source": [
    "!git clone https://github.com/llm-fine-tuning/LLaMA-Factory.git"
   ]
  },
  {
   "cell_type": "code",
   "execution_count": 2,
   "id": "b45703cd-b25c-4c93-a28c-5f57fb26431e",
   "metadata": {},
   "outputs": [
    {
     "name": "stdout",
     "output_type": "stream",
     "text": [
      "/workspace/LLaMA-Factory\n"
     ]
    },
    {
     "name": "stderr",
     "output_type": "stream",
     "text": [
      "/usr/local/lib/python3.10/dist-packages/IPython/core/magics/osm.py:417: UserWarning: using dhist requires you to install the `pickleshare` library.\n",
      "  self.shell.db['dhist'] = compress_dhist(dhist)[-100:]\n"
     ]
    }
   ],
   "source": [
    "%cd LLaMA-Factory"
   ]
  },
  {
   "cell_type": "code",
   "execution_count": 3,
   "id": "206d5a71-6ff3-4d36-ae83-585d2a2f5361",
   "metadata": {},
   "outputs": [
    {
     "name": "stdout",
     "output_type": "stream",
     "text": [
      "Collecting transformers>=4.41.2 (from -r requirements.txt (line 1))\n",
      "  Downloading transformers-4.46.3-py3-none-any.whl.metadata (44 kB)\n",
      "\u001b[2K     \u001b[90m━━━━━━━━━━━━━━━━━━━━━━━━━━━━━━━━━━━━━━━\u001b[0m \u001b[32m44.1/44.1 kB\u001b[0m \u001b[31m958.4 kB/s\u001b[0m eta \u001b[36m0:00:00\u001b[0m \u001b[36m0:00:01\u001b[0m\n",
      "\u001b[?25hCollecting datasets>=2.16.0 (from -r requirements.txt (line 2))\n",
      "  Downloading datasets-3.1.0-py3-none-any.whl.metadata (20 kB)\n",
      "Collecting accelerate>=0.30.1 (from -r requirements.txt (line 3))\n",
      "  Downloading accelerate-1.1.1-py3-none-any.whl.metadata (19 kB)\n",
      "Collecting peft>=0.11.1 (from -r requirements.txt (line 4))\n",
      "  Downloading peft-0.13.2-py3-none-any.whl.metadata (13 kB)\n",
      "Collecting trl>=0.8.6 (from -r requirements.txt (line 5))\n",
      "  Downloading trl-0.12.1-py3-none-any.whl.metadata (10 kB)\n",
      "Collecting gradio>=4.0.0 (from -r requirements.txt (line 6))\n",
      "  Downloading gradio-5.7.1-py3-none-any.whl.metadata (16 kB)\n",
      "Collecting scipy (from -r requirements.txt (line 7))\n",
      "  Downloading scipy-1.14.1-cp310-cp310-manylinux_2_17_x86_64.manylinux2014_x86_64.whl.metadata (60 kB)\n",
      "\u001b[2K     \u001b[90m━━━━━━━━━━━━━━━━━━━━━━━━━━━━━━━━━━━━━━━━\u001b[0m \u001b[32m60.8/60.8 kB\u001b[0m \u001b[31m4.5 MB/s\u001b[0m eta \u001b[36m0:00:00\u001b[0m\n",
      "\u001b[?25hCollecting einops (from -r requirements.txt (line 8))\n",
      "  Downloading einops-0.8.0-py3-none-any.whl.metadata (12 kB)\n",
      "Collecting sentencepiece (from -r requirements.txt (line 9))\n",
      "  Downloading sentencepiece-0.2.0-cp310-cp310-manylinux_2_17_x86_64.manylinux2014_x86_64.whl.metadata (7.7 kB)\n",
      "Collecting protobuf (from -r requirements.txt (line 10))\n",
      "  Downloading protobuf-5.29.0-cp38-abi3-manylinux2014_x86_64.whl.metadata (592 bytes)\n",
      "Collecting uvicorn (from -r requirements.txt (line 11))\n",
      "  Downloading uvicorn-0.32.1-py3-none-any.whl.metadata (6.6 kB)\n",
      "Collecting pydantic (from -r requirements.txt (line 12))\n",
      "  Downloading pydantic-2.10.2-py3-none-any.whl.metadata (170 kB)\n",
      "\u001b[2K     \u001b[90m━━━━━━━━━━━━━━━━━━━━━━━━━━━━━━━━━━━━━━━\u001b[0m \u001b[32m170.8/170.8 kB\u001b[0m \u001b[31m4.1 MB/s\u001b[0m eta \u001b[36m0:00:00\u001b[0ma \u001b[36m0:00:01\u001b[0m\n",
      "\u001b[?25hCollecting fastapi (from -r requirements.txt (line 13))\n",
      "  Downloading fastapi-0.115.5-py3-none-any.whl.metadata (27 kB)\n",
      "Collecting sse-starlette (from -r requirements.txt (line 14))\n",
      "  Downloading sse_starlette-2.1.3-py3-none-any.whl.metadata (5.8 kB)\n",
      "Collecting matplotlib>=3.7.0 (from -r requirements.txt (line 15))\n",
      "  Downloading matplotlib-3.9.3-cp310-cp310-manylinux_2_17_x86_64.manylinux2014_x86_64.whl.metadata (11 kB)\n",
      "Collecting fire (from -r requirements.txt (line 16))\n",
      "  Downloading fire-0.7.0.tar.gz (87 kB)\n",
      "\u001b[2K     \u001b[90m━━━━━━━━━━━━━━━━━━━━━━━━━━━━━━━━━━━━━━━━\u001b[0m \u001b[32m87.2/87.2 kB\u001b[0m \u001b[31m17.5 MB/s\u001b[0m eta \u001b[36m0:00:00\u001b[0m\n",
      "\u001b[?25h  Preparing metadata (setup.py) ... \u001b[?25ldone\n",
      "\u001b[?25hRequirement already satisfied: packaging in /usr/local/lib/python3.10/dist-packages (from -r requirements.txt (line 17)) (23.2)\n",
      "Requirement already satisfied: pyyaml in /usr/local/lib/python3.10/dist-packages (from -r requirements.txt (line 18)) (6.0.1)\n",
      "Requirement already satisfied: filelock in /usr/local/lib/python3.10/dist-packages (from transformers>=4.41.2->-r requirements.txt (line 1)) (3.9.0)\n",
      "Collecting huggingface-hub<1.0,>=0.23.2 (from transformers>=4.41.2->-r requirements.txt (line 1))\n",
      "  Downloading huggingface_hub-0.26.3-py3-none-any.whl.metadata (13 kB)\n",
      "Requirement already satisfied: numpy>=1.17 in /usr/local/lib/python3.10/dist-packages (from transformers>=4.41.2->-r requirements.txt (line 1)) (1.24.1)\n",
      "Collecting regex!=2019.12.17 (from transformers>=4.41.2->-r requirements.txt (line 1))\n",
      "  Downloading regex-2024.11.6-cp310-cp310-manylinux_2_17_x86_64.manylinux2014_x86_64.whl.metadata (40 kB)\n",
      "\u001b[2K     \u001b[90m━━━━━━━━━━━━━━━━━━━━━━━━━━━━━━━━━━━━━━━━\u001b[0m \u001b[32m40.5/40.5 kB\u001b[0m \u001b[31m12.8 MB/s\u001b[0m eta \u001b[36m0:00:00\u001b[0m\n",
      "\u001b[?25hRequirement already satisfied: requests in /usr/local/lib/python3.10/dist-packages (from transformers>=4.41.2->-r requirements.txt (line 1)) (2.31.0)\n",
      "Collecting tokenizers<0.21,>=0.20 (from transformers>=4.41.2->-r requirements.txt (line 1))\n",
      "  Downloading tokenizers-0.20.3-cp310-cp310-manylinux_2_17_x86_64.manylinux2014_x86_64.whl.metadata (6.7 kB)\n",
      "Collecting safetensors>=0.4.1 (from transformers>=4.41.2->-r requirements.txt (line 1))\n",
      "  Downloading safetensors-0.4.5-cp310-cp310-manylinux_2_17_x86_64.manylinux2014_x86_64.whl.metadata (3.8 kB)\n",
      "Collecting tqdm>=4.27 (from transformers>=4.41.2->-r requirements.txt (line 1))\n",
      "  Downloading tqdm-4.67.1-py3-none-any.whl.metadata (57 kB)\n",
      "\u001b[2K     \u001b[90m━━━━━━━━━━━━━━━━━━━━━━━━━━━━━━━━━━━━━━━━\u001b[0m \u001b[32m57.7/57.7 kB\u001b[0m \u001b[31m25.4 MB/s\u001b[0m eta \u001b[36m0:00:00\u001b[0m\n",
      "\u001b[?25hCollecting pyarrow>=15.0.0 (from datasets>=2.16.0->-r requirements.txt (line 2))\n",
      "  Downloading pyarrow-18.1.0-cp310-cp310-manylinux_2_28_x86_64.whl.metadata (3.3 kB)\n",
      "Collecting dill<0.3.9,>=0.3.0 (from datasets>=2.16.0->-r requirements.txt (line 2))\n",
      "  Downloading dill-0.3.8-py3-none-any.whl.metadata (10 kB)\n",
      "Collecting pandas (from datasets>=2.16.0->-r requirements.txt (line 2))\n",
      "  Downloading pandas-2.2.3-cp310-cp310-manylinux_2_17_x86_64.manylinux2014_x86_64.whl.metadata (89 kB)\n",
      "\u001b[2K     \u001b[90m━━━━━━━━━━━━━━━━━━━━━━━━━━━━━━━━━━━━━━━\u001b[0m \u001b[32m89.9/89.9 kB\u001b[0m \u001b[31m177.3 kB/s\u001b[0m eta \u001b[36m0:00:00\u001b[0ma \u001b[36m0:00:01\u001b[0m\n",
      "\u001b[?25hCollecting requests (from transformers>=4.41.2->-r requirements.txt (line 1))\n",
      "  Downloading requests-2.32.3-py3-none-any.whl.metadata (4.6 kB)\n",
      "Collecting xxhash (from datasets>=2.16.0->-r requirements.txt (line 2))\n",
      "  Downloading xxhash-3.5.0-cp310-cp310-manylinux_2_17_x86_64.manylinux2014_x86_64.whl.metadata (12 kB)\n",
      "Collecting multiprocess<0.70.17 (from datasets>=2.16.0->-r requirements.txt (line 2))\n",
      "  Downloading multiprocess-0.70.16-py310-none-any.whl.metadata (7.2 kB)\n",
      "Requirement already satisfied: fsspec<=2024.9.0,>=2023.1.0 in /usr/local/lib/python3.10/dist-packages (from fsspec[http]<=2024.9.0,>=2023.1.0->datasets>=2.16.0->-r requirements.txt (line 2)) (2023.4.0)\n",
      "Collecting aiohttp (from datasets>=2.16.0->-r requirements.txt (line 2))\n",
      "  Downloading aiohttp-3.11.9-cp310-cp310-manylinux_2_17_x86_64.manylinux2014_x86_64.whl.metadata (7.7 kB)\n",
      "Requirement already satisfied: psutil in /usr/local/lib/python3.10/dist-packages (from accelerate>=0.30.1->-r requirements.txt (line 3)) (5.9.6)\n",
      "Requirement already satisfied: torch>=1.10.0 in /usr/local/lib/python3.10/dist-packages (from accelerate>=0.30.1->-r requirements.txt (line 3)) (2.1.0+cu118)\n",
      "Collecting rich (from trl>=0.8.6->-r requirements.txt (line 5))\n",
      "  Downloading rich-13.9.4-py3-none-any.whl.metadata (18 kB)\n",
      "Collecting aiofiles<24.0,>=22.0 (from gradio>=4.0.0->-r requirements.txt (line 6))\n",
      "  Downloading aiofiles-23.2.1-py3-none-any.whl.metadata (9.7 kB)\n",
      "Requirement already satisfied: anyio<5.0,>=3.0 in /usr/local/lib/python3.10/dist-packages (from gradio>=4.0.0->-r requirements.txt (line 6)) (4.0.0)\n",
      "Collecting ffmpy (from gradio>=4.0.0->-r requirements.txt (line 6))\n",
      "  Downloading ffmpy-0.4.0-py3-none-any.whl.metadata (2.9 kB)\n",
      "Collecting gradio-client==1.5.0 (from gradio>=4.0.0->-r requirements.txt (line 6))\n",
      "  Downloading gradio_client-1.5.0-py3-none-any.whl.metadata (7.1 kB)\n",
      "Collecting httpx>=0.24.1 (from gradio>=4.0.0->-r requirements.txt (line 6))\n",
      "  Downloading httpx-0.28.0-py3-none-any.whl.metadata (7.1 kB)\n",
      "Requirement already satisfied: jinja2<4.0 in /usr/local/lib/python3.10/dist-packages (from gradio>=4.0.0->-r requirements.txt (line 6)) (3.1.2)\n",
      "Requirement already satisfied: markupsafe~=2.0 in /usr/local/lib/python3.10/dist-packages (from gradio>=4.0.0->-r requirements.txt (line 6)) (2.1.2)\n",
      "Collecting orjson~=3.0 (from gradio>=4.0.0->-r requirements.txt (line 6))\n",
      "  Downloading orjson-3.10.12-cp310-cp310-manylinux_2_17_x86_64.manylinux2014_x86_64.whl.metadata (41 kB)\n",
      "\u001b[2K     \u001b[90m━━━━━━━━━━━━━━━━━━━━━━━━━━━━━━━━━━━━━━━━\u001b[0m \u001b[32m41.8/41.8 kB\u001b[0m \u001b[31m1.0 MB/s\u001b[0m eta \u001b[36m0:00:00\u001b[0m00:01\u001b[0m\n",
      "\u001b[?25hRequirement already satisfied: pillow<12.0,>=8.0 in /usr/local/lib/python3.10/dist-packages (from gradio>=4.0.0->-r requirements.txt (line 6)) (9.3.0)\n",
      "Collecting pydub (from gradio>=4.0.0->-r requirements.txt (line 6))\n",
      "  Downloading pydub-0.25.1-py2.py3-none-any.whl.metadata (1.4 kB)\n",
      "Collecting python-multipart==0.0.12 (from gradio>=4.0.0->-r requirements.txt (line 6))\n",
      "  Downloading python_multipart-0.0.12-py3-none-any.whl.metadata (1.9 kB)\n",
      "Collecting ruff>=0.2.2 (from gradio>=4.0.0->-r requirements.txt (line 6))\n",
      "  Downloading ruff-0.8.1-py3-none-manylinux_2_17_x86_64.manylinux2014_x86_64.whl.metadata (25 kB)\n",
      "Collecting safehttpx<1.0,>=0.1.1 (from gradio>=4.0.0->-r requirements.txt (line 6))\n",
      "  Downloading safehttpx-0.1.6-py3-none-any.whl.metadata (4.2 kB)\n",
      "Collecting semantic-version~=2.0 (from gradio>=4.0.0->-r requirements.txt (line 6))\n",
      "  Downloading semantic_version-2.10.0-py2.py3-none-any.whl.metadata (9.7 kB)\n",
      "Collecting starlette<1.0,>=0.40.0 (from gradio>=4.0.0->-r requirements.txt (line 6))\n",
      "  Downloading starlette-0.41.3-py3-none-any.whl.metadata (6.0 kB)\n",
      "Collecting tomlkit==0.12.0 (from gradio>=4.0.0->-r requirements.txt (line 6))\n",
      "  Downloading tomlkit-0.12.0-py3-none-any.whl.metadata (2.7 kB)\n",
      "Collecting typer<1.0,>=0.12 (from gradio>=4.0.0->-r requirements.txt (line 6))\n",
      "  Downloading typer-0.14.0-py3-none-any.whl.metadata (15 kB)\n",
      "Requirement already satisfied: typing-extensions~=4.0 in /usr/local/lib/python3.10/dist-packages (from gradio>=4.0.0->-r requirements.txt (line 6)) (4.4.0)\n",
      "Collecting websockets<13.0,>=10.0 (from gradio-client==1.5.0->gradio>=4.0.0->-r requirements.txt (line 6))\n",
      "  Downloading websockets-12.0-cp310-cp310-manylinux_2_5_x86_64.manylinux1_x86_64.manylinux_2_17_x86_64.manylinux2014_x86_64.whl.metadata (6.6 kB)\n",
      "Collecting click>=7.0 (from uvicorn->-r requirements.txt (line 11))\n",
      "  Downloading click-8.1.7-py3-none-any.whl.metadata (3.0 kB)\n",
      "Collecting h11>=0.8 (from uvicorn->-r requirements.txt (line 11))\n",
      "  Downloading h11-0.14.0-py3-none-any.whl.metadata (8.2 kB)\n",
      "Collecting annotated-types>=0.6.0 (from pydantic->-r requirements.txt (line 12))\n",
      "  Downloading annotated_types-0.7.0-py3-none-any.whl.metadata (15 kB)\n",
      "Collecting pydantic-core==2.27.1 (from pydantic->-r requirements.txt (line 12))\n",
      "  Downloading pydantic_core-2.27.1-cp310-cp310-manylinux_2_17_x86_64.manylinux2014_x86_64.whl.metadata (6.6 kB)\n",
      "Collecting typing-extensions~=4.0 (from gradio>=4.0.0->-r requirements.txt (line 6))\n",
      "  Downloading typing_extensions-4.12.2-py3-none-any.whl.metadata (3.0 kB)\n",
      "Collecting contourpy>=1.0.1 (from matplotlib>=3.7.0->-r requirements.txt (line 15))\n",
      "  Downloading contourpy-1.3.1-cp310-cp310-manylinux_2_17_x86_64.manylinux2014_x86_64.whl.metadata (5.4 kB)\n",
      "Collecting cycler>=0.10 (from matplotlib>=3.7.0->-r requirements.txt (line 15))\n",
      "  Downloading cycler-0.12.1-py3-none-any.whl.metadata (3.8 kB)\n",
      "Collecting fonttools>=4.22.0 (from matplotlib>=3.7.0->-r requirements.txt (line 15))\n",
      "  Downloading fonttools-4.55.1-cp310-cp310-manylinux_2_17_x86_64.manylinux2014_x86_64.whl.metadata (164 kB)\n",
      "\u001b[2K     \u001b[90m━━━━━━━━━━━━━━━━━━━━━━━━━━━━━━━━━━━━━\u001b[0m \u001b[32m164.7/164.7 kB\u001b[0m \u001b[31m314.7 kB/s\u001b[0m eta \u001b[36m0:00:00\u001b[0m00:01\u001b[0m00:01\u001b[0m\n",
      "\u001b[?25hCollecting kiwisolver>=1.3.1 (from matplotlib>=3.7.0->-r requirements.txt (line 15))\n",
      "  Downloading kiwisolver-1.4.7-cp310-cp310-manylinux_2_12_x86_64.manylinux2010_x86_64.whl.metadata (6.3 kB)\n",
      "Requirement already satisfied: pyparsing>=2.3.1 in /usr/lib/python3/dist-packages (from matplotlib>=3.7.0->-r requirements.txt (line 15)) (2.4.7)\n",
      "Requirement already satisfied: python-dateutil>=2.7 in /usr/local/lib/python3.10/dist-packages (from matplotlib>=3.7.0->-r requirements.txt (line 15)) (2.8.2)\n",
      "Collecting termcolor (from fire->-r requirements.txt (line 16))\n",
      "  Downloading termcolor-2.5.0-py3-none-any.whl.metadata (6.1 kB)\n",
      "Requirement already satisfied: idna>=2.8 in /usr/local/lib/python3.10/dist-packages (from anyio<5.0,>=3.0->gradio>=4.0.0->-r requirements.txt (line 6)) (3.4)\n",
      "Requirement already satisfied: sniffio>=1.1 in /usr/local/lib/python3.10/dist-packages (from anyio<5.0,>=3.0->gradio>=4.0.0->-r requirements.txt (line 6)) (1.3.0)\n",
      "Requirement already satisfied: exceptiongroup>=1.0.2 in /usr/local/lib/python3.10/dist-packages (from anyio<5.0,>=3.0->gradio>=4.0.0->-r requirements.txt (line 6)) (1.1.3)\n",
      "Collecting aiohappyeyeballs>=2.3.0 (from aiohttp->datasets>=2.16.0->-r requirements.txt (line 2))\n",
      "  Downloading aiohappyeyeballs-2.4.4-py3-none-any.whl.metadata (6.1 kB)\n",
      "Collecting aiosignal>=1.1.2 (from aiohttp->datasets>=2.16.0->-r requirements.txt (line 2))\n",
      "  Downloading aiosignal-1.3.1-py3-none-any.whl.metadata (4.0 kB)\n",
      "Collecting async-timeout<6.0,>=4.0 (from aiohttp->datasets>=2.16.0->-r requirements.txt (line 2))\n",
      "  Downloading async_timeout-5.0.1-py3-none-any.whl.metadata (5.1 kB)\n",
      "Requirement already satisfied: attrs>=17.3.0 in /usr/local/lib/python3.10/dist-packages (from aiohttp->datasets>=2.16.0->-r requirements.txt (line 2)) (23.1.0)\n",
      "Collecting frozenlist>=1.1.1 (from aiohttp->datasets>=2.16.0->-r requirements.txt (line 2))\n",
      "  Downloading frozenlist-1.5.0-cp310-cp310-manylinux_2_5_x86_64.manylinux1_x86_64.manylinux_2_17_x86_64.manylinux2014_x86_64.whl.metadata (13 kB)\n",
      "Collecting multidict<7.0,>=4.5 (from aiohttp->datasets>=2.16.0->-r requirements.txt (line 2))\n",
      "  Downloading multidict-6.1.0-cp310-cp310-manylinux_2_17_x86_64.manylinux2014_x86_64.whl.metadata (5.0 kB)\n",
      "Collecting propcache>=0.2.0 (from aiohttp->datasets>=2.16.0->-r requirements.txt (line 2))\n",
      "  Downloading propcache-0.2.1-cp310-cp310-manylinux_2_17_x86_64.manylinux2014_x86_64.whl.metadata (9.2 kB)\n",
      "Collecting yarl<2.0,>=1.17.0 (from aiohttp->datasets>=2.16.0->-r requirements.txt (line 2))\n",
      "  Downloading yarl-1.18.3-cp310-cp310-manylinux_2_17_x86_64.manylinux2014_x86_64.whl.metadata (69 kB)\n",
      "\u001b[2K     \u001b[90m━━━━━━━━━━━━━━━━━━━━━━━━━━━━━━━━━━━━━━━\u001b[0m \u001b[32m69.2/69.2 kB\u001b[0m \u001b[31m584.2 kB/s\u001b[0m eta \u001b[36m0:00:00\u001b[0ma \u001b[36m0:00:01\u001b[0m\n",
      "\u001b[?25hRequirement already satisfied: certifi in /usr/local/lib/python3.10/dist-packages (from httpx>=0.24.1->gradio>=4.0.0->-r requirements.txt (line 6)) (2022.12.7)\n",
      "Collecting httpcore==1.* (from httpx>=0.24.1->gradio>=4.0.0->-r requirements.txt (line 6))\n",
      "  Downloading httpcore-1.0.7-py3-none-any.whl.metadata (21 kB)\n",
      "INFO: pip is looking at multiple versions of huggingface-hub to determine which version is compatible with other requirements. This could take a while.\n",
      "Collecting huggingface-hub<1.0,>=0.23.2 (from transformers>=4.41.2->-r requirements.txt (line 1))\n",
      "  Downloading huggingface_hub-0.26.2-py3-none-any.whl.metadata (13 kB)\n",
      "  Downloading huggingface_hub-0.26.1-py3-none-any.whl.metadata (13 kB)\n",
      "  Downloading huggingface_hub-0.26.0-py3-none-any.whl.metadata (13 kB)\n",
      "  Downloading huggingface_hub-0.25.2-py3-none-any.whl.metadata (13 kB)\n",
      "  Downloading huggingface_hub-0.25.1-py3-none-any.whl.metadata (13 kB)\n",
      "Collecting fsspec[http]<=2024.9.0,>=2023.1.0 (from datasets>=2.16.0->-r requirements.txt (line 2))\n",
      "  Downloading fsspec-2024.9.0-py3-none-any.whl.metadata (11 kB)\n",
      "Collecting pytz>=2020.1 (from pandas->datasets>=2.16.0->-r requirements.txt (line 2))\n",
      "  Downloading pytz-2024.2-py2.py3-none-any.whl.metadata (22 kB)\n",
      "Collecting tzdata>=2022.7 (from pandas->datasets>=2.16.0->-r requirements.txt (line 2))\n",
      "  Downloading tzdata-2024.2-py2.py3-none-any.whl.metadata (1.4 kB)\n",
      "Requirement already satisfied: six>=1.5 in /usr/lib/python3/dist-packages (from python-dateutil>=2.7->matplotlib>=3.7.0->-r requirements.txt (line 15)) (1.16.0)\n",
      "Requirement already satisfied: charset-normalizer<4,>=2 in /usr/local/lib/python3.10/dist-packages (from requests->transformers>=4.41.2->-r requirements.txt (line 1)) (2.1.1)\n",
      "Requirement already satisfied: urllib3<3,>=1.21.1 in /usr/local/lib/python3.10/dist-packages (from requests->transformers>=4.41.2->-r requirements.txt (line 1)) (1.26.13)\n",
      "Requirement already satisfied: sympy in /usr/local/lib/python3.10/dist-packages (from torch>=1.10.0->accelerate>=0.30.1->-r requirements.txt (line 3)) (1.12)\n",
      "Requirement already satisfied: networkx in /usr/local/lib/python3.10/dist-packages (from torch>=1.10.0->accelerate>=0.30.1->-r requirements.txt (line 3)) (3.0)\n",
      "Requirement already satisfied: triton==2.1.0 in /usr/local/lib/python3.10/dist-packages (from torch>=1.10.0->accelerate>=0.30.1->-r requirements.txt (line 3)) (2.1.0)\n",
      "Collecting shellingham>=1.3.0 (from typer<1.0,>=0.12->gradio>=4.0.0->-r requirements.txt (line 6))\n",
      "  Downloading shellingham-1.5.4-py2.py3-none-any.whl.metadata (3.5 kB)\n",
      "Collecting markdown-it-py>=2.2.0 (from rich->trl>=0.8.6->-r requirements.txt (line 5))\n",
      "  Downloading markdown_it_py-3.0.0-py3-none-any.whl.metadata (6.9 kB)\n",
      "Requirement already satisfied: pygments<3.0.0,>=2.13.0 in /usr/local/lib/python3.10/dist-packages (from rich->trl>=0.8.6->-r requirements.txt (line 5)) (2.16.1)\n",
      "Collecting mdurl~=0.1 (from markdown-it-py>=2.2.0->rich->trl>=0.8.6->-r requirements.txt (line 5))\n",
      "  Downloading mdurl-0.1.2-py3-none-any.whl.metadata (1.6 kB)\n",
      "Requirement already satisfied: mpmath>=0.19 in /usr/local/lib/python3.10/dist-packages (from sympy->torch>=1.10.0->accelerate>=0.30.1->-r requirements.txt (line 3)) (1.3.0)\n",
      "Downloading transformers-4.46.3-py3-none-any.whl (10.0 MB)\n",
      "\u001b[2K   \u001b[90m━━━━━━━━━━━━━━━━━━━━━━━━━━━━━━━━━━━━━━━━\u001b[0m \u001b[32m10.0/10.0 MB\u001b[0m \u001b[31m392.7 kB/s\u001b[0m eta \u001b[36m0:00:00\u001b[0m00:01\u001b[0m0:01\u001b[0m\n",
      "\u001b[?25hDownloading datasets-3.1.0-py3-none-any.whl (480 kB)\n",
      "\u001b[2K   \u001b[90m━━━━━━━━━━━━━━━━━━━━━━━━━━━━━━━━━━━━━━━━\u001b[0m \u001b[32m480.6/480.6 kB\u001b[0m \u001b[31m1.8 MB/s\u001b[0m eta \u001b[36m0:00:00\u001b[0ma \u001b[36m0:00:01\u001b[0m\n",
      "\u001b[?25hDownloading accelerate-1.1.1-py3-none-any.whl (333 kB)\n",
      "\u001b[2K   \u001b[90m━━━━━━━━━━━━━━━━━━━━━━━━━━━━━━━━━━━━━━━━\u001b[0m \u001b[32m333.2/333.2 kB\u001b[0m \u001b[31m1.9 MB/s\u001b[0m eta \u001b[36m0:00:00\u001b[0ma \u001b[36m0:00:01\u001b[0m\n",
      "\u001b[?25hDownloading peft-0.13.2-py3-none-any.whl (320 kB)\n",
      "\u001b[2K   \u001b[90m━━━━━━━━━━━━━━━━━━━━━━━━━━━━━━━━━━━━━━━━\u001b[0m \u001b[32m320.7/320.7 kB\u001b[0m \u001b[31m2.1 MB/s\u001b[0m eta \u001b[36m0:00:00\u001b[0ma \u001b[36m0:00:01\u001b[0m\n",
      "\u001b[?25hDownloading trl-0.12.1-py3-none-any.whl (310 kB)\n",
      "\u001b[2K   \u001b[90m━━━━━━━━━━━━━━━━━━━━━━━━━━━━━━━━━━━━━━━━\u001b[0m \u001b[32m310.9/310.9 kB\u001b[0m \u001b[31m2.1 MB/s\u001b[0m eta \u001b[36m0:00:00\u001b[0ma \u001b[36m0:00:01\u001b[0m\n",
      "\u001b[?25hDownloading gradio-5.7.1-py3-none-any.whl (57.1 MB)\n",
      "\u001b[2K   \u001b[90m━━━━━━━━━━━━━━━━━━━━━━━━━━━━━━━━━━━━━━━━\u001b[0m \u001b[32m57.1/57.1 MB\u001b[0m \u001b[31m7.2 MB/s\u001b[0m eta \u001b[36m0:00:00\u001b[0m00:01\u001b[0m00:01\u001b[0m\n",
      "\u001b[?25hDownloading gradio_client-1.5.0-py3-none-any.whl (320 kB)\n",
      "\u001b[2K   \u001b[90m━━━━━━━━━━━━━━━━━━━━━━━━━━━━━━━━━━━━━━━━\u001b[0m \u001b[32m320.1/320.1 kB\u001b[0m \u001b[31m8.0 MB/s\u001b[0m eta \u001b[36m0:00:00\u001b[0ma \u001b[36m0:00:01\u001b[0m\n",
      "\u001b[?25hDownloading python_multipart-0.0.12-py3-none-any.whl (23 kB)\n",
      "Downloading tomlkit-0.12.0-py3-none-any.whl (37 kB)\n",
      "Downloading scipy-1.14.1-cp310-cp310-manylinux_2_17_x86_64.manylinux2014_x86_64.whl (41.2 MB)\n",
      "\u001b[2K   \u001b[90m━━━━━━━━━━━━━━━━━━━━━━━━━━━━━━━━━━━━━━━━\u001b[0m \u001b[32m41.2/41.2 MB\u001b[0m \u001b[31m4.8 MB/s\u001b[0m eta \u001b[36m0:00:00\u001b[0m00:01\u001b[0m00:01\u001b[0m\n",
      "\u001b[?25hDownloading einops-0.8.0-py3-none-any.whl (43 kB)\n",
      "\u001b[2K   \u001b[90m━━━━━━━━━━━━━━━━━━━━━━━━━━━━━━━━━━━━━━━━\u001b[0m \u001b[32m43.2/43.2 kB\u001b[0m \u001b[31m5.4 MB/s\u001b[0m eta \u001b[36m0:00:00\u001b[0m\n",
      "\u001b[?25hDownloading sentencepiece-0.2.0-cp310-cp310-manylinux_2_17_x86_64.manylinux2014_x86_64.whl (1.3 MB)\n",
      "\u001b[2K   \u001b[90m━━━━━━━━━━━━━━━━━━━━━━━━━━━━━━━━━━━━━━━━\u001b[0m \u001b[32m1.3/1.3 MB\u001b[0m \u001b[31m3.4 MB/s\u001b[0m eta \u001b[36m0:00:00\u001b[0ma \u001b[36m0:00:01\u001b[0m\n",
      "\u001b[?25hDownloading protobuf-5.29.0-cp38-abi3-manylinux2014_x86_64.whl (319 kB)\n",
      "\u001b[2K   \u001b[90m━━━━━━━━━━━━━━━━━━━━━━━━━━━━━━━━━━━━━━━━\u001b[0m \u001b[32m319.7/319.7 kB\u001b[0m \u001b[31m3.3 MB/s\u001b[0m eta \u001b[36m0:00:00\u001b[0ma \u001b[36m0:00:01\u001b[0m\n",
      "\u001b[?25hDownloading uvicorn-0.32.1-py3-none-any.whl (63 kB)\n",
      "\u001b[2K   \u001b[90m━━━━━━━━━━━━━━━━━━━━━━━━━━━━━━━━━━━━━━━━\u001b[0m \u001b[32m63.8/63.8 kB\u001b[0m \u001b[31m3.8 MB/s\u001b[0m eta \u001b[36m0:00:00\u001b[0m\n",
      "\u001b[?25hDownloading pydantic-2.10.2-py3-none-any.whl (456 kB)\n",
      "\u001b[2K   \u001b[90m━━━━━━━━━━━━━━━━━━━━━━━━━━━━━━━━━━━━━━━━\u001b[0m \u001b[32m456.4/456.4 kB\u001b[0m \u001b[31m3.2 MB/s\u001b[0m eta \u001b[36m0:00:00\u001b[0ma \u001b[36m0:00:01\u001b[0m\n",
      "\u001b[?25hDownloading pydantic_core-2.27.1-cp310-cp310-manylinux_2_17_x86_64.manylinux2014_x86_64.whl (2.1 MB)\n",
      "\u001b[2K   \u001b[90m━━━━━━━━━━━━━━━━━━━━━━━━━━━━━━━━━━━━━━━━\u001b[0m \u001b[32m2.1/2.1 MB\u001b[0m \u001b[31m2.6 MB/s\u001b[0m eta \u001b[36m0:00:00\u001b[0ma \u001b[36m0:00:01\u001b[0m\n",
      "\u001b[?25hDownloading fastapi-0.115.5-py3-none-any.whl (94 kB)\n",
      "\u001b[2K   \u001b[90m━━━━━━━━━━━━━━━━━━━━━━━━━━━━━━━━━━━━━━━━\u001b[0m \u001b[32m94.9/94.9 kB\u001b[0m \u001b[31m2.4 MB/s\u001b[0m eta \u001b[36m0:00:00\u001b[0ma \u001b[36m0:00:01\u001b[0m\n",
      "\u001b[?25hDownloading sse_starlette-2.1.3-py3-none-any.whl (9.4 kB)\n",
      "Downloading matplotlib-3.9.3-cp310-cp310-manylinux_2_17_x86_64.manylinux2014_x86_64.whl (8.3 MB)\n",
      "\u001b[2K   \u001b[90m━━━━━━━━━━━━━━━━━━━━━━━━━━━━━━━━━━━━━━━━\u001b[0m \u001b[32m8.3/8.3 MB\u001b[0m \u001b[31m2.4 MB/s\u001b[0m eta \u001b[36m0:00:00\u001b[0m00:01\u001b[0m00:01\u001b[0m\n",
      "\u001b[?25hDownloading aiofiles-23.2.1-py3-none-any.whl (15 kB)\n",
      "Downloading annotated_types-0.7.0-py3-none-any.whl (13 kB)\n",
      "Downloading click-8.1.7-py3-none-any.whl (97 kB)\n",
      "\u001b[2K   \u001b[90m━━━━━━━━━━━━━━━━━━━━━━━━━━━━━━━━━━━━━━━━\u001b[0m \u001b[32m97.9/97.9 kB\u001b[0m \u001b[31m2.1 MB/s\u001b[0m eta \u001b[36m0:00:00\u001b[0ma \u001b[36m0:00:01\u001b[0m\n",
      "\u001b[?25hDownloading contourpy-1.3.1-cp310-cp310-manylinux_2_17_x86_64.manylinux2014_x86_64.whl (324 kB)\n",
      "\u001b[2K   \u001b[90m━━━━━━━━━━━━━━━━━━━━━━━━━━━━━━━━━━━━━━━━\u001b[0m \u001b[32m325.0/325.0 kB\u001b[0m \u001b[31m2.0 MB/s\u001b[0m eta \u001b[36m0:00:00\u001b[0ma \u001b[36m0:00:01\u001b[0m\n",
      "\u001b[?25hDownloading cycler-0.12.1-py3-none-any.whl (8.3 kB)\n",
      "Downloading dill-0.3.8-py3-none-any.whl (116 kB)\n",
      "\u001b[2K   \u001b[90m━━━━━━━━━━━━━━━━━━━━━━━━━━━━━━━━━━━━━━━━\u001b[0m \u001b[32m116.3/116.3 kB\u001b[0m \u001b[31m2.3 MB/s\u001b[0m eta \u001b[36m0:00:00\u001b[0m \u001b[36m0:00:01\u001b[0m\n",
      "\u001b[?25hDownloading fonttools-4.55.1-cp310-cp310-manylinux_2_17_x86_64.manylinux2014_x86_64.whl (4.6 MB)\n",
      "\u001b[2K   \u001b[90m━━━━━━━━━━━━━━━━━━━━━━━━━━━━━━━━━━━━━━━━\u001b[0m \u001b[32m4.6/4.6 MB\u001b[0m \u001b[31m1.7 MB/s\u001b[0m eta \u001b[36m0:00:00\u001b[0m00:01\u001b[0m00:01\u001b[0m\n",
      "\u001b[?25hDownloading fsspec-2024.9.0-py3-none-any.whl (179 kB)\n",
      "\u001b[2K   \u001b[90m━━━━━━━━━━━━━━━━━━━━━━━━━━━━━━━━━━━━━━━━\u001b[0m \u001b[32m179.3/179.3 kB\u001b[0m \u001b[31m2.3 MB/s\u001b[0m eta \u001b[36m0:00:00\u001b[0ma \u001b[36m0:00:01\u001b[0m\n",
      "\u001b[?25hDownloading huggingface_hub-0.26.3-py3-none-any.whl (447 kB)\n",
      "\u001b[2K   \u001b[90m━━━━━━━━━━━━━━━━━━━━━━━━━━━━━━━━━━━━━━━━\u001b[0m \u001b[32m447.6/447.6 kB\u001b[0m \u001b[31m1.5 MB/s\u001b[0m eta \u001b[36m0:00:00\u001b[0m00:01\u001b[0m00:01\u001b[0m\n",
      "\u001b[?25hDownloading aiohttp-3.11.9-cp310-cp310-manylinux_2_17_x86_64.manylinux2014_x86_64.whl (1.6 MB)\n",
      "\u001b[2K   \u001b[90m━━━━━━━━━━━━━━━━━━━━━━━━━━━━━━━━━━━━━━━━\u001b[0m \u001b[32m1.6/1.6 MB\u001b[0m \u001b[31m2.8 MB/s\u001b[0m eta \u001b[36m0:00:00\u001b[0m00:01\u001b[0m00:01\u001b[0m\n",
      "\u001b[?25hDownloading h11-0.14.0-py3-none-any.whl (58 kB)\n",
      "\u001b[2K   \u001b[90m━━━━━━━━━━━━━━━━━━━━━━━━━━━━━━━━━━━━━━━━\u001b[0m \u001b[32m58.3/58.3 kB\u001b[0m \u001b[31m3.6 MB/s\u001b[0m eta \u001b[36m0:00:00\u001b[0m\n",
      "\u001b[?25hDownloading httpx-0.28.0-py3-none-any.whl (73 kB)\n",
      "\u001b[2K   \u001b[90m━━━━━━━━━━━━━━━━━━━━━━━━━━━━━━━━━━━━━━━━\u001b[0m \u001b[32m73.6/73.6 kB\u001b[0m \u001b[31m3.6 MB/s\u001b[0m eta \u001b[36m0:00:00\u001b[0m\n",
      "\u001b[?25hDownloading httpcore-1.0.7-py3-none-any.whl (78 kB)\n",
      "\u001b[2K   \u001b[90m━━━━━━━━━━━━━━━━━━━━━━━━━━━━━━━━━━━━━━━━\u001b[0m \u001b[32m78.6/78.6 kB\u001b[0m \u001b[31m3.6 MB/s\u001b[0m eta \u001b[36m0:00:00\u001b[0m\n",
      "\u001b[?25hDownloading kiwisolver-1.4.7-cp310-cp310-manylinux_2_12_x86_64.manylinux2010_x86_64.whl (1.6 MB)\n",
      "\u001b[2K   \u001b[90m━━━━━━━━━━━━━━━━━━━━━━━━━━━━━━━━━━━━━━━━\u001b[0m \u001b[32m1.6/1.6 MB\u001b[0m \u001b[31m3.1 MB/s\u001b[0m eta \u001b[36m0:00:00\u001b[0ma \u001b[36m0:00:01\u001b[0m\n",
      "\u001b[?25hDownloading multiprocess-0.70.16-py310-none-any.whl (134 kB)\n",
      "\u001b[2K   \u001b[90m━━━━━━━━━━━━━━━━━━━━━━━━━━━━━━━━━━━━━━━━\u001b[0m \u001b[32m134.8/134.8 kB\u001b[0m \u001b[31m3.3 MB/s\u001b[0m eta \u001b[36m0:00:00\u001b[0ma \u001b[36m0:00:01\u001b[0m\n",
      "\u001b[?25hDownloading orjson-3.10.12-cp310-cp310-manylinux_2_17_x86_64.manylinux2014_x86_64.whl (131 kB)\n",
      "\u001b[2K   \u001b[90m━━━━━━━━━━━━━━━━━━━━━━━━━━━━━━━━━━━━━━━━\u001b[0m \u001b[32m131.3/131.3 kB\u001b[0m \u001b[31m3.2 MB/s\u001b[0m eta \u001b[36m0:00:00\u001b[0ma \u001b[36m0:00:01\u001b[0m\n",
      "\u001b[?25hDownloading pandas-2.2.3-cp310-cp310-manylinux_2_17_x86_64.manylinux2014_x86_64.whl (13.1 MB)\n",
      "\u001b[2K   \u001b[90m━━━━━━━━━━━━━━━━━━━━━━━━━━━━━━━━━━━━━━━━\u001b[0m \u001b[32m13.1/13.1 MB\u001b[0m \u001b[31m3.7 MB/s\u001b[0m eta \u001b[36m0:00:00\u001b[0m00:01\u001b[0m00:01\u001b[0m\n",
      "\u001b[?25hDownloading pyarrow-18.1.0-cp310-cp310-manylinux_2_28_x86_64.whl (40.1 MB)\n",
      "\u001b[2K   \u001b[90m━━━━━━━━━━━━━━━━━━━━━━━━━━━━━━━━━━━━━━━━\u001b[0m \u001b[32m40.1/40.1 MB\u001b[0m \u001b[31m7.6 MB/s\u001b[0m eta \u001b[36m0:00:00\u001b[0m00:01\u001b[0m00:01\u001b[0m\n",
      "\u001b[?25hDownloading regex-2024.11.6-cp310-cp310-manylinux_2_17_x86_64.manylinux2014_x86_64.whl (781 kB)\n",
      "\u001b[2K   \u001b[90m━━━━━━━━━━━━━━━━━━━━━━━━━━━━━━━━━━━━━━━━\u001b[0m \u001b[32m781.7/781.7 kB\u001b[0m \u001b[31m8.6 MB/s\u001b[0m eta \u001b[36m0:00:00\u001b[0ma \u001b[36m0:00:01\u001b[0m\n",
      "\u001b[?25hDownloading requests-2.32.3-py3-none-any.whl (64 kB)\n",
      "\u001b[2K   \u001b[90m━━━━━━━━━━━━━━━━━━━━━━━━━━━━━━━━━━━━━━━━\u001b[0m \u001b[32m64.9/64.9 kB\u001b[0m \u001b[31m11.4 MB/s\u001b[0m eta \u001b[36m0:00:00\u001b[0m\n",
      "\u001b[?25hDownloading ruff-0.8.1-py3-none-manylinux_2_17_x86_64.manylinux2014_x86_64.whl (11.2 MB)\n",
      "\u001b[2K   \u001b[90m━━━━━━━━━━━━━━━━━━━━━━━━━━━━━━━━━━━━━━━━\u001b[0m \u001b[32m11.2/11.2 MB\u001b[0m \u001b[31m8.6 MB/s\u001b[0m eta \u001b[36m0:00:00\u001b[0m00:01\u001b[0m00:01\u001b[0m\n",
      "\u001b[?25hDownloading safehttpx-0.1.6-py3-none-any.whl (8.7 kB)\n",
      "Downloading safetensors-0.4.5-cp310-cp310-manylinux_2_17_x86_64.manylinux2014_x86_64.whl (435 kB)\n",
      "\u001b[2K   \u001b[90m━━━━━━━━━━━━━━━━━━━━━━━━━━━━━━━━━━━━━━━━\u001b[0m \u001b[32m435.0/435.0 kB\u001b[0m \u001b[31m9.9 MB/s\u001b[0m eta \u001b[36m0:00:00\u001b[0mta \u001b[36m0:00:01\u001b[0m\n",
      "\u001b[?25hDownloading semantic_version-2.10.0-py2.py3-none-any.whl (15 kB)\n",
      "Downloading starlette-0.41.3-py3-none-any.whl (73 kB)\n",
      "\u001b[2K   \u001b[90m━━━━━━━━━━━━━━━━━━━━━━━━━━━━━━━━━━━━━━━━\u001b[0m \u001b[32m73.2/73.2 kB\u001b[0m \u001b[31m11.4 MB/s\u001b[0m eta \u001b[36m0:00:00\u001b[0m\n",
      "\u001b[?25hDownloading tokenizers-0.20.3-cp310-cp310-manylinux_2_17_x86_64.manylinux2014_x86_64.whl (3.0 MB)\n",
      "\u001b[2K   \u001b[90m━━━━━━━━━━━━━━━━━━━━━━━━━━━━━━━━━━━━━━━━\u001b[0m \u001b[32m3.0/3.0 MB\u001b[0m \u001b[31m9.9 MB/s\u001b[0m eta \u001b[36m0:00:00\u001b[0mta \u001b[36m0:00:01\u001b[0m\n",
      "\u001b[?25hDownloading tqdm-4.67.1-py3-none-any.whl (78 kB)\n",
      "\u001b[2K   \u001b[90m━━━━━━━━━━━━━━━━━━━━━━━━━━━━━━━━━━━━━━━━\u001b[0m \u001b[32m78.5/78.5 kB\u001b[0m \u001b[31m14.0 MB/s\u001b[0m eta \u001b[36m0:00:00\u001b[0m\n",
      "\u001b[?25hDownloading typer-0.14.0-py3-none-any.whl (44 kB)\n",
      "\u001b[2K   \u001b[90m━━━━━━━━━━━━━━━━━━━━━━━━━━━━━━━━━━━━━━━━\u001b[0m \u001b[32m44.7/44.7 kB\u001b[0m \u001b[31m16.4 MB/s\u001b[0m eta \u001b[36m0:00:00\u001b[0m\n",
      "\u001b[?25hDownloading rich-13.9.4-py3-none-any.whl (242 kB)\n",
      "\u001b[2K   \u001b[90m━━━━━━━━━━━━━━━━━━━━━━━━━━━━━━━━━━━━━━━━\u001b[0m \u001b[32m242.4/242.4 kB\u001b[0m \u001b[31m13.1 MB/s\u001b[0m eta \u001b[36m0:00:00\u001b[0m\n",
      "\u001b[?25hDownloading typing_extensions-4.12.2-py3-none-any.whl (37 kB)\n",
      "Downloading ffmpy-0.4.0-py3-none-any.whl (5.8 kB)\n",
      "Downloading pydub-0.25.1-py2.py3-none-any.whl (32 kB)\n",
      "Downloading termcolor-2.5.0-py3-none-any.whl (7.8 kB)\n",
      "Downloading xxhash-3.5.0-cp310-cp310-manylinux_2_17_x86_64.manylinux2014_x86_64.whl (194 kB)\n",
      "\u001b[2K   \u001b[90m━━━━━━━━━━━━━━━━━━━━━━━━━━━━━━━━━━━━━━━━\u001b[0m \u001b[32m194.1/194.1 kB\u001b[0m \u001b[31m12.6 MB/s\u001b[0m eta \u001b[36m0:00:00\u001b[0m\n",
      "\u001b[?25hDownloading aiohappyeyeballs-2.4.4-py3-none-any.whl (14 kB)\n",
      "Downloading aiosignal-1.3.1-py3-none-any.whl (7.6 kB)\n",
      "Downloading async_timeout-5.0.1-py3-none-any.whl (6.2 kB)\n",
      "Downloading frozenlist-1.5.0-cp310-cp310-manylinux_2_5_x86_64.manylinux1_x86_64.manylinux_2_17_x86_64.manylinux2014_x86_64.whl (241 kB)\n",
      "\u001b[2K   \u001b[90m━━━━━━━━━━━━━━━━━━━━━━━━━━━━━━━━━━━━━━━━\u001b[0m \u001b[32m241.9/241.9 kB\u001b[0m \u001b[31m12.5 MB/s\u001b[0m eta \u001b[36m0:00:00\u001b[0m\n",
      "\u001b[?25hDownloading markdown_it_py-3.0.0-py3-none-any.whl (87 kB)\n",
      "\u001b[2K   \u001b[90m━━━━━━━━━━━━━━━━━━━━━━━━━━━━━━━━━━━━━━━━\u001b[0m \u001b[32m87.5/87.5 kB\u001b[0m \u001b[31m13.2 MB/s\u001b[0m eta \u001b[36m0:00:00\u001b[0m\n",
      "\u001b[?25hDownloading multidict-6.1.0-cp310-cp310-manylinux_2_17_x86_64.manylinux2014_x86_64.whl (124 kB)\n",
      "\u001b[2K   \u001b[90m━━━━━━━━━━━━━━━━━━━━━━━━━━━━━━━━━━━━━━━━\u001b[0m \u001b[32m124.6/124.6 kB\u001b[0m \u001b[31m12.2 MB/s\u001b[0m eta \u001b[36m0:00:00\u001b[0m\n",
      "\u001b[?25hDownloading propcache-0.2.1-cp310-cp310-manylinux_2_17_x86_64.manylinux2014_x86_64.whl (205 kB)\n",
      "\u001b[2K   \u001b[90m━━━━━━━━━━━━━━━━━━━━━━━━━━━━━━━━━━━━━━━━\u001b[0m \u001b[32m205.1/205.1 kB\u001b[0m \u001b[31m12.9 MB/s\u001b[0m eta \u001b[36m0:00:00\u001b[0m\n",
      "\u001b[?25hDownloading pytz-2024.2-py2.py3-none-any.whl (508 kB)\n",
      "\u001b[2K   \u001b[90m━━━━━━━━━━━━━━━━━━━━━━━━━━━━━━━━━━━━━━━━\u001b[0m \u001b[32m508.0/508.0 kB\u001b[0m \u001b[31m10.9 MB/s\u001b[0m eta \u001b[36m0:00:00\u001b[0ma \u001b[36m0:00:01\u001b[0m\n",
      "\u001b[?25hDownloading shellingham-1.5.4-py2.py3-none-any.whl (9.8 kB)\n",
      "Downloading tzdata-2024.2-py2.py3-none-any.whl (346 kB)\n",
      "\u001b[2K   \u001b[90m━━━━━━━━━━━━━━━━━━━━━━━━━━━━━━━━━━━━━━━━\u001b[0m \u001b[32m346.6/346.6 kB\u001b[0m \u001b[31m13.2 MB/s\u001b[0m eta \u001b[36m0:00:00\u001b[0m\n",
      "\u001b[?25hDownloading websockets-12.0-cp310-cp310-manylinux_2_5_x86_64.manylinux1_x86_64.manylinux_2_17_x86_64.manylinux2014_x86_64.whl (130 kB)\n",
      "\u001b[2K   \u001b[90m━━━━━━━━━━━━━━━━━━━━━━━━━━━━━━━━━━━━━━━━\u001b[0m \u001b[32m130.2/130.2 kB\u001b[0m \u001b[31m13.5 MB/s\u001b[0m eta \u001b[36m0:00:00\u001b[0m\n",
      "\u001b[?25hDownloading yarl-1.18.3-cp310-cp310-manylinux_2_17_x86_64.manylinux2014_x86_64.whl (319 kB)\n",
      "\u001b[2K   \u001b[90m━━━━━━━━━━━━━━━━━━━━━━━━━━━━━━━━━━━━━━━━\u001b[0m \u001b[32m319.7/319.7 kB\u001b[0m \u001b[31m12.9 MB/s\u001b[0m eta \u001b[36m0:00:00\u001b[0m\n",
      "\u001b[?25hDownloading mdurl-0.1.2-py3-none-any.whl (10.0 kB)\n",
      "Building wheels for collected packages: fire\n",
      "  Building wheel for fire (setup.py) ... \u001b[?25ldone\n",
      "\u001b[?25h  Created wheel for fire: filename=fire-0.7.0-py3-none-any.whl size=114248 sha256=48e59ea5f1edd9c532eac3a362d5f017f785e8954c1fdc0038fea7e58fecd83f\n",
      "  Stored in directory: /root/.cache/pip/wheels/19/39/2f/2d3cadc408a8804103f1c34ddd4b9f6a93497b11fa96fe738e\n",
      "Successfully built fire\n",
      "Installing collected packages: sentencepiece, pytz, pydub, xxhash, websockets, tzdata, typing-extensions, tqdm, tomlkit, termcolor, shellingham, semantic-version, scipy, safetensors, ruff, requests, regex, python-multipart, pyarrow, protobuf, propcache, orjson, mdurl, kiwisolver, h11, fsspec, frozenlist, fonttools, ffmpy, einops, dill, cycler, contourpy, click, async-timeout, annotated-types, aiohappyeyeballs, aiofiles, uvicorn, starlette, pydantic-core, pandas, multiprocess, multidict, matplotlib, markdown-it-py, huggingface-hub, httpcore, fire, aiosignal, yarl, tokenizers, sse-starlette, rich, pydantic, httpx, accelerate, typer, transformers, safehttpx, gradio-client, fastapi, aiohttp, peft, gradio, datasets, trl\n",
      "  Attempting uninstall: typing-extensions\n",
      "    Found existing installation: typing_extensions 4.4.0\n",
      "    Uninstalling typing_extensions-4.4.0:\n",
      "      Successfully uninstalled typing_extensions-4.4.0\n",
      "  Attempting uninstall: requests\n",
      "    Found existing installation: requests 2.31.0\n",
      "    Uninstalling requests-2.31.0:\n",
      "      Successfully uninstalled requests-2.31.0\n",
      "  Attempting uninstall: fsspec\n",
      "    Found existing installation: fsspec 2023.4.0\n",
      "    Uninstalling fsspec-2023.4.0:\n",
      "      Successfully uninstalled fsspec-2023.4.0\n",
      "Successfully installed accelerate-1.1.1 aiofiles-23.2.1 aiohappyeyeballs-2.4.4 aiohttp-3.11.9 aiosignal-1.3.1 annotated-types-0.7.0 async-timeout-5.0.1 click-8.1.7 contourpy-1.3.1 cycler-0.12.1 datasets-3.1.0 dill-0.3.8 einops-0.8.0 fastapi-0.115.5 ffmpy-0.4.0 fire-0.7.0 fonttools-4.55.1 frozenlist-1.5.0 fsspec-2024.9.0 gradio-5.7.1 gradio-client-1.5.0 h11-0.14.0 httpcore-1.0.7 httpx-0.28.0 huggingface-hub-0.26.3 kiwisolver-1.4.7 markdown-it-py-3.0.0 matplotlib-3.9.3 mdurl-0.1.2 multidict-6.1.0 multiprocess-0.70.16 orjson-3.10.12 pandas-2.2.3 peft-0.13.2 propcache-0.2.1 protobuf-5.29.0 pyarrow-18.1.0 pydantic-2.10.2 pydantic-core-2.27.1 pydub-0.25.1 python-multipart-0.0.12 pytz-2024.2 regex-2024.11.6 requests-2.32.3 rich-13.9.4 ruff-0.8.1 safehttpx-0.1.6 safetensors-0.4.5 scipy-1.14.1 semantic-version-2.10.0 sentencepiece-0.2.0 shellingham-1.5.4 sse-starlette-2.1.3 starlette-0.41.3 termcolor-2.5.0 tokenizers-0.20.3 tomlkit-0.12.0 tqdm-4.67.1 transformers-4.46.3 trl-0.12.1 typer-0.14.0 typing-extensions-4.12.2 tzdata-2024.2 uvicorn-0.32.1 websockets-12.0 xxhash-3.5.0 yarl-1.18.3\n",
      "\u001b[33mWARNING: Running pip as the 'root' user can result in broken permissions and conflicting behaviour with the system package manager. It is recommended to use a virtual environment instead: https://pip.pypa.io/warnings/venv\u001b[0m\u001b[33m\n",
      "\u001b[0m\n",
      "\u001b[1m[\u001b[0m\u001b[34;49mnotice\u001b[0m\u001b[1;39;49m]\u001b[0m\u001b[39;49m A new release of pip is available: \u001b[0m\u001b[31;49m23.3.1\u001b[0m\u001b[39;49m -> \u001b[0m\u001b[32;49m24.3.1\u001b[0m\n",
      "\u001b[1m[\u001b[0m\u001b[34;49mnotice\u001b[0m\u001b[1;39;49m]\u001b[0m\u001b[39;49m To update, run: \u001b[0m\u001b[32;49mpython -m pip install --upgrade pip\u001b[0m\n"
     ]
    }
   ],
   "source": [
    "!pip install -r requirements.txt"
   ]
  },
  {
   "cell_type": "code",
   "execution_count": 9,
   "id": "33ade127-b2a4-4132-9c81-de974ad01ccd",
   "metadata": {},
   "outputs": [
    {
     "name": "stdout",
     "output_type": "stream",
     "text": [
      "Collecting deepspeed==0.14.4\n",
      "  Downloading deepspeed-0.14.4.tar.gz (1.3 MB)\n",
      "\u001b[2K     \u001b[90m━━━━━━━━━━━━━━━━━━━━━━━━━━━━━━━━━━━━━━━━\u001b[0m \u001b[32m1.3/1.3 MB\u001b[0m \u001b[31m6.9 MB/s\u001b[0m eta \u001b[36m0:00:00\u001b[0ma \u001b[36m0:00:01\u001b[0m\n",
      "\u001b[?25h  Preparing metadata (setup.py) ... \u001b[?25ldone\n",
      "\u001b[?25hRequirement already satisfied: hjson in /usr/local/lib/python3.10/dist-packages (from deepspeed==0.14.4) (3.1.0)\n",
      "Requirement already satisfied: ninja in /usr/local/lib/python3.10/dist-packages (from deepspeed==0.14.4) (1.11.1.2)\n",
      "Requirement already satisfied: numpy in /usr/local/lib/python3.10/dist-packages (from deepspeed==0.14.4) (1.26.4)\n",
      "Requirement already satisfied: nvidia-ml-py in /usr/local/lib/python3.10/dist-packages (from deepspeed==0.14.4) (12.560.30)\n",
      "Requirement already satisfied: packaging>=20.0 in /usr/local/lib/python3.10/dist-packages (from deepspeed==0.14.4) (23.2)\n",
      "Requirement already satisfied: psutil in /usr/local/lib/python3.10/dist-packages (from deepspeed==0.14.4) (5.9.6)\n",
      "Requirement already satisfied: py-cpuinfo in /usr/local/lib/python3.10/dist-packages (from deepspeed==0.14.4) (9.0.0)\n",
      "Requirement already satisfied: pydantic in /usr/local/lib/python3.10/dist-packages (from deepspeed==0.14.4) (2.10.2)\n",
      "Requirement already satisfied: torch in /usr/local/lib/python3.10/dist-packages (from deepspeed==0.14.4) (2.4.0)\n",
      "Requirement already satisfied: tqdm in /usr/local/lib/python3.10/dist-packages (from deepspeed==0.14.4) (4.67.1)\n",
      "Requirement already satisfied: annotated-types>=0.6.0 in /usr/local/lib/python3.10/dist-packages (from pydantic->deepspeed==0.14.4) (0.7.0)\n",
      "Requirement already satisfied: pydantic-core==2.27.1 in /usr/local/lib/python3.10/dist-packages (from pydantic->deepspeed==0.14.4) (2.27.1)\n",
      "Requirement already satisfied: typing-extensions>=4.12.2 in /usr/local/lib/python3.10/dist-packages (from pydantic->deepspeed==0.14.4) (4.12.2)\n",
      "Requirement already satisfied: filelock in /usr/local/lib/python3.10/dist-packages (from torch->deepspeed==0.14.4) (3.16.1)\n",
      "Requirement already satisfied: sympy in /usr/local/lib/python3.10/dist-packages (from torch->deepspeed==0.14.4) (1.12)\n",
      "Requirement already satisfied: networkx in /usr/local/lib/python3.10/dist-packages (from torch->deepspeed==0.14.4) (3.0)\n",
      "Requirement already satisfied: jinja2 in /usr/local/lib/python3.10/dist-packages (from torch->deepspeed==0.14.4) (3.1.2)\n",
      "Requirement already satisfied: fsspec in /usr/local/lib/python3.10/dist-packages (from torch->deepspeed==0.14.4) (2024.9.0)\n",
      "Requirement already satisfied: nvidia-cuda-nvrtc-cu12==12.1.105 in /usr/local/lib/python3.10/dist-packages (from torch->deepspeed==0.14.4) (12.1.105)\n",
      "Requirement already satisfied: nvidia-cuda-runtime-cu12==12.1.105 in /usr/local/lib/python3.10/dist-packages (from torch->deepspeed==0.14.4) (12.1.105)\n",
      "Requirement already satisfied: nvidia-cuda-cupti-cu12==12.1.105 in /usr/local/lib/python3.10/dist-packages (from torch->deepspeed==0.14.4) (12.1.105)\n",
      "Requirement already satisfied: nvidia-cudnn-cu12==9.1.0.70 in /usr/local/lib/python3.10/dist-packages (from torch->deepspeed==0.14.4) (9.1.0.70)\n",
      "Requirement already satisfied: nvidia-cublas-cu12==12.1.3.1 in /usr/local/lib/python3.10/dist-packages (from torch->deepspeed==0.14.4) (12.1.3.1)\n",
      "Requirement already satisfied: nvidia-cufft-cu12==11.0.2.54 in /usr/local/lib/python3.10/dist-packages (from torch->deepspeed==0.14.4) (11.0.2.54)\n",
      "Requirement already satisfied: nvidia-curand-cu12==10.3.2.106 in /usr/local/lib/python3.10/dist-packages (from torch->deepspeed==0.14.4) (10.3.2.106)\n",
      "Requirement already satisfied: nvidia-cusolver-cu12==11.4.5.107 in /usr/local/lib/python3.10/dist-packages (from torch->deepspeed==0.14.4) (11.4.5.107)\n",
      "Requirement already satisfied: nvidia-cusparse-cu12==12.1.0.106 in /usr/local/lib/python3.10/dist-packages (from torch->deepspeed==0.14.4) (12.1.0.106)\n",
      "Requirement already satisfied: nvidia-nccl-cu12==2.20.5 in /usr/local/lib/python3.10/dist-packages (from torch->deepspeed==0.14.4) (2.20.5)\n",
      "Requirement already satisfied: nvidia-nvtx-cu12==12.1.105 in /usr/local/lib/python3.10/dist-packages (from torch->deepspeed==0.14.4) (12.1.105)\n",
      "Requirement already satisfied: triton==3.0.0 in /usr/local/lib/python3.10/dist-packages (from torch->deepspeed==0.14.4) (3.0.0)\n",
      "Requirement already satisfied: nvidia-nvjitlink-cu12 in /usr/local/lib/python3.10/dist-packages (from nvidia-cusolver-cu12==11.4.5.107->torch->deepspeed==0.14.4) (12.6.85)\n",
      "Requirement already satisfied: MarkupSafe>=2.0 in /usr/local/lib/python3.10/dist-packages (from jinja2->torch->deepspeed==0.14.4) (2.1.2)\n",
      "Requirement already satisfied: mpmath>=0.19 in /usr/local/lib/python3.10/dist-packages (from sympy->torch->deepspeed==0.14.4) (1.3.0)\n",
      "Building wheels for collected packages: deepspeed\n",
      "  Building wheel for deepspeed (setup.py) ... \u001b[?25ldone\n",
      "\u001b[?25h  Created wheel for deepspeed: filename=deepspeed-0.14.4-py3-none-any.whl size=1445507 sha256=0df9a4055ff57d38750ad88dec14213dd9c04fad76b4c1fc988da33903e8fdc1\n",
      "  Stored in directory: /root/.cache/pip/wheels/8e/bc/a3/608e90bbb301848b78fd75d24d6d43ba3074de968fc0e397ac\n",
      "Successfully built deepspeed\n",
      "Installing collected packages: deepspeed\n",
      "  Attempting uninstall: deepspeed\n",
      "    Found existing installation: deepspeed 0.14.0\n",
      "    Uninstalling deepspeed-0.14.0:\n",
      "      Successfully uninstalled deepspeed-0.14.0\n",
      "Successfully installed deepspeed-0.14.4\n",
      "\u001b[33mWARNING: Running pip as the 'root' user can result in broken permissions and conflicting behaviour with the system package manager. It is recommended to use a virtual environment instead: https://pip.pypa.io/warnings/venv\u001b[0m\u001b[33m\n",
      "\u001b[0m\n",
      "\u001b[1m[\u001b[0m\u001b[34;49mnotice\u001b[0m\u001b[1;39;49m]\u001b[0m\u001b[39;49m A new release of pip is available: \u001b[0m\u001b[31;49m23.3.1\u001b[0m\u001b[39;49m -> \u001b[0m\u001b[32;49m24.3.1\u001b[0m\n",
      "\u001b[1m[\u001b[0m\u001b[34;49mnotice\u001b[0m\u001b[1;39;49m]\u001b[0m\u001b[39;49m To update, run: \u001b[0m\u001b[32;49mpython -m pip install --upgrade pip\u001b[0m\n"
     ]
    }
   ],
   "source": [
    "!pip install deepspeed==0.14.4"
   ]
  },
  {
   "cell_type": "markdown",
   "id": "9e6adb45-ebe8-47a0-ae0b-ea0c3c3b5ed6",
   "metadata": {},
   "source": [
    "## train_sft.sh"
   ]
  },
  {
   "cell_type": "markdown",
   "id": "8cebb95f-851b-4876-9f04-d49a8111e7f5",
   "metadata": {},
   "source": [
    "deepspeed --num_gpus 6 --master_port=9901 src/train.py \\\n",
    "\t--deepspeed ds_z3_config.json \\\n",
    "    --stage sft \\\n",
    "    --do_train \\\n",
    "    --model_name_or_path allganize/Llama-3-Alpha-Ko-8B-Instruct \\\n",
    "    --dataset esg_binary_classification \\\n",
    "    --template llama3-esg-binary-classification \\\n",
    "    --finetuning_type lora \\\n",
    "    --lora_target all \\\n",
    "    --output_dir checkpoint \\\n",
    "    --overwrite_cache \\\n",
    "    --per_device_train_batch_size 4 \\\n",
    "    --gradient_accumulation_steps 4 \\\n",
    "    --lr_scheduler_type cosine \\\n",
    "    --logging_steps 10 \\\n",
    "    --save_steps 100 \\\n",
    "    --learning_rate 1e-4 \\\n",
    "    --num_train_epochs 10.0 \\\n",
    "    --report_to none \\\n",
    "    --cutoff_len 2000\n",
    "    --bf16"
   ]
  },
  {
   "cell_type": "code",
   "execution_count": 34,
   "id": "d1be2d01-d92e-4f7d-80fd-5c7f8ada6493",
   "metadata": {},
   "outputs": [
    {
     "name": "stderr",
     "output_type": "stream",
     "text": [
      "huggingface/tokenizers: The current process just got forked, after parallelism has already been used. Disabling parallelism to avoid deadlocks...\n",
      "To disable this warning, you can either:\n",
      "\t- Avoid using `tokenizers` before the fork if possible\n",
      "\t- Explicitly set the environment variable TOKENIZERS_PARALLELISM=(true | false)\n"
     ]
    },
    {
     "name": "stdout",
     "output_type": "stream",
     "text": [
      "Loading base model: allganize/Llama-3-Alpha-Ko-8B-Instruct\n",
      "Loading checkpoint shards: 100%|██████████████████| 4/4 [00:06<00:00,  1.56s/it]\n",
      "Loading PEFT: ./checkpoint/checkpoint-160\n",
      "Running merge_and_unload\n",
      "[2024-12-03 13:31:49,690] [INFO] [real_accelerator.py:203:get_accelerator] Setting ds_accelerator to cuda (auto detect)\n",
      "\u001b[93m [WARNING] \u001b[0m async_io requires the dev libaio .so object and headers but these were not found.\n",
      "\u001b[93m [WARNING] \u001b[0m async_io: please install the libaio-dev package with apt\n",
      "\u001b[93m [WARNING] \u001b[0m If libaio is already installed (perhaps from source), try setting the CFLAGS and LDFLAGS environment variables to where it can be found.\n",
      "\u001b[93m [WARNING] \u001b[0m Please specify the CUTLASS repo directory as environment variable $CUTLASS_PATH\n",
      "\u001b[93m [WARNING] \u001b[0m sparse_attn requires a torch version >= 1.5 and < 2.0 but detected 2.4\n",
      "\u001b[93m [WARNING] \u001b[0m using untested triton version (3.0.0), only 1.0.0 is known to be compatible\n",
      "/usr/local/lib/python3.10/dist-packages/deepspeed/runtime/zero/linear.py:49: FutureWarning: `torch.cuda.amp.custom_fwd(args...)` is deprecated. Please use `torch.amp.custom_fwd(args..., device_type='cuda')` instead.\n",
      "  def forward(ctx, input, weight, bias=None):\n",
      "/usr/local/lib/python3.10/dist-packages/deepspeed/runtime/zero/linear.py:67: FutureWarning: `torch.cuda.amp.custom_bwd(args...)` is deprecated. Please use `torch.amp.custom_bwd(args..., device_type='cuda')` instead.\n",
      "  def backward(ctx, grad_output):\n",
      "Model saved to ./output_dir_2\n"
     ]
    }
   ],
   "source": [
    "!python merge.py \\\n",
    "    --base_model_name_or_path allganize/Llama-3-Alpha-Ko-8B-Instruct \\\n",
    "    --peft_model_path ./checkpoint/checkpoint-140 \\\n",
    "    --output_dir ./output_dir"
   ]
  },
  {
   "cell_type": "code",
   "execution_count": 11,
   "id": "1a1b8385-db54-40d8-befe-45b1f91dca22",
   "metadata": {},
   "outputs": [],
   "source": [
    "from huggingface_hub import HfApi\n",
    "api = HfApi()\n",
    "username = \"iamjoon\""
   ]
  },
  {
   "cell_type": "code",
   "execution_count": 36,
   "id": "6c4f2fc3-cd08-437c-aa18-ed0f294e4847",
   "metadata": {},
   "outputs": [],
   "source": [
    "MODEL_NAME = 'Llama-3-ESG-BINARY-CLASSIFIER'"
   ]
  },
  {
   "cell_type": "code",
   "execution_count": 37,
   "id": "7d39d4f9-b516-419e-b12f-9ac6a4505c07",
   "metadata": {
    "scrolled": true
   },
   "outputs": [
    {
     "data": {
      "application/vnd.jupyter.widget-view+json": {
       "model_id": "354c481cfa7a4a48b5500c8079428ded",
       "version_major": 2,
       "version_minor": 0
      },
      "text/plain": [
       "Upload 5 LFS files:   0%|          | 0/5 [00:00<?, ?it/s]"
      ]
     },
     "metadata": {},
     "output_type": "display_data"
    },
    {
     "data": {
      "application/vnd.jupyter.widget-view+json": {
       "model_id": "29930315fa004c3a820c0213ab48fc09",
       "version_major": 2,
       "version_minor": 0
      },
      "text/plain": [
       "model-00001-of-00004.safetensors:   0%|          | 0.00/4.98G [00:00<?, ?B/s]"
      ]
     },
     "metadata": {},
     "output_type": "display_data"
    },
    {
     "data": {
      "application/vnd.jupyter.widget-view+json": {
       "model_id": "9385a8af6b144dbfb83d34369a82d54d",
       "version_major": 2,
       "version_minor": 0
      },
      "text/plain": [
       "model-00004-of-00004.safetensors:   0%|          | 0.00/1.17G [00:00<?, ?B/s]"
      ]
     },
     "metadata": {},
     "output_type": "display_data"
    },
    {
     "data": {
      "application/vnd.jupyter.widget-view+json": {
       "model_id": "ebd24bf520ef4fab8b02f548e534d636",
       "version_major": 2,
       "version_minor": 0
      },
      "text/plain": [
       "model-00003-of-00004.safetensors:   0%|          | 0.00/4.92G [00:00<?, ?B/s]"
      ]
     },
     "metadata": {},
     "output_type": "display_data"
    },
    {
     "data": {
      "application/vnd.jupyter.widget-view+json": {
       "model_id": "10fe72d787884dab86ce2641b0254e62",
       "version_major": 2,
       "version_minor": 0
      },
      "text/plain": [
       "tokenizer.json:   0%|          | 0.00/17.2M [00:00<?, ?B/s]"
      ]
     },
     "metadata": {},
     "output_type": "display_data"
    },
    {
     "data": {
      "application/vnd.jupyter.widget-view+json": {
       "model_id": "77c0e981b50841b39b08c9229bb17e33",
       "version_major": 2,
       "version_minor": 0
      },
      "text/plain": [
       "model-00002-of-00004.safetensors:   0%|          | 0.00/5.00G [00:00<?, ?B/s]"
      ]
     },
     "metadata": {},
     "output_type": "display_data"
    },
    {
     "data": {
      "text/plain": [
       "CommitInfo(commit_url='https://huggingface.co/iamjoon/Llama-3-ESG-BINARY-CLASSIFIER-2/commit/b0f6439be7d8f60ced6f5d27101bc5c87e7c7a16', commit_message='Upload folder using huggingface_hub', commit_description='', oid='b0f6439be7d8f60ced6f5d27101bc5c87e7c7a16', pr_url=None, repo_url=RepoUrl('https://huggingface.co/iamjoon/Llama-3-ESG-BINARY-CLASSIFIER-2', endpoint='https://huggingface.co', repo_type='model', repo_id='iamjoon/Llama-3-ESG-BINARY-CLASSIFIER-2'), pr_revision=None, pr_num=None)"
      ]
     },
     "execution_count": 37,
     "metadata": {},
     "output_type": "execute_result"
    }
   ],
   "source": [
    "api.create_repo(\n",
    "    token=\"hf_키값\",\n",
    "    repo_id=f\"{username}/{MODEL_NAME}\",\n",
    "    repo_type=\"model\"\n",
    ")\n",
    "\n",
    "api.upload_folder(\n",
    "    token=\"hf_키값\",\n",
    "    repo_id=f\"{username}/{MODEL_NAME}\",\n",
    "    folder_path=\"output_dir_2\",\n",
    ")"
   ]
  },
  {
   "cell_type": "code",
   "execution_count": 5,
   "id": "42877ce6-18a6-4fac-a3c9-4457e6121843",
   "metadata": {},
   "outputs": [
    {
     "name": "stdout",
     "output_type": "stream",
     "text": [
      "Collecting vllm==0.6.0\n",
      "  Downloading vllm-0.6.0-cp38-abi3-manylinux1_x86_64.whl.metadata (2.2 kB)\n",
      "Requirement already satisfied: psutil in /usr/local/lib/python3.10/dist-packages (from vllm==0.6.0) (5.9.6)\n",
      "Requirement already satisfied: sentencepiece in /usr/local/lib/python3.10/dist-packages (from vllm==0.6.0) (0.2.0)\n",
      "Requirement already satisfied: numpy<2.0.0 in /usr/local/lib/python3.10/dist-packages (from vllm==0.6.0) (1.24.1)\n",
      "Requirement already satisfied: requests in /usr/local/lib/python3.10/dist-packages (from vllm==0.6.0) (2.32.3)\n",
      "Requirement already satisfied: tqdm in /usr/local/lib/python3.10/dist-packages (from vllm==0.6.0) (4.67.1)\n",
      "Requirement already satisfied: py-cpuinfo in /usr/local/lib/python3.10/dist-packages (from vllm==0.6.0) (9.0.0)\n",
      "Requirement already satisfied: transformers>=4.43.2 in /usr/local/lib/python3.10/dist-packages (from vllm==0.6.0) (4.46.3)\n",
      "Requirement already satisfied: tokenizers>=0.19.1 in /usr/local/lib/python3.10/dist-packages (from vllm==0.6.0) (0.20.3)\n",
      "Requirement already satisfied: protobuf in /usr/local/lib/python3.10/dist-packages (from vllm==0.6.0) (5.29.0)\n",
      "Requirement already satisfied: fastapi in /usr/local/lib/python3.10/dist-packages (from vllm==0.6.0) (0.115.5)\n",
      "Requirement already satisfied: aiohttp in /usr/local/lib/python3.10/dist-packages (from vllm==0.6.0) (3.11.9)\n",
      "Collecting openai>=1.0 (from vllm==0.6.0)\n",
      "  Downloading openai-1.56.0-py3-none-any.whl.metadata (24 kB)\n",
      "Requirement already satisfied: uvicorn[standard] in /usr/local/lib/python3.10/dist-packages (from vllm==0.6.0) (0.32.1)\n",
      "Requirement already satisfied: pydantic>=2.8 in /usr/local/lib/python3.10/dist-packages (from vllm==0.6.0) (2.10.2)\n",
      "Requirement already satisfied: pillow in /usr/local/lib/python3.10/dist-packages (from vllm==0.6.0) (9.3.0)\n",
      "Requirement already satisfied: prometheus-client>=0.18.0 in /usr/local/lib/python3.10/dist-packages (from vllm==0.6.0) (0.18.0)\n",
      "Collecting prometheus-fastapi-instrumentator>=7.0.0 (from vllm==0.6.0)\n",
      "  Downloading prometheus_fastapi_instrumentator-7.0.0-py3-none-any.whl.metadata (13 kB)\n",
      "Collecting tiktoken>=0.6.0 (from vllm==0.6.0)\n",
      "  Downloading tiktoken-0.8.0-cp310-cp310-manylinux_2_17_x86_64.manylinux2014_x86_64.whl.metadata (6.6 kB)\n",
      "Collecting lm-format-enforcer==0.10.6 (from vllm==0.6.0)\n",
      "  Downloading lm_format_enforcer-0.10.6-py3-none-any.whl.metadata (16 kB)\n",
      "Collecting outlines<0.1,>=0.0.43 (from vllm==0.6.0)\n",
      "  Downloading outlines-0.0.46-py3-none-any.whl.metadata (15 kB)\n",
      "Requirement already satisfied: typing-extensions>=4.10 in /usr/local/lib/python3.10/dist-packages (from vllm==0.6.0) (4.12.2)\n",
      "Collecting filelock>=3.10.4 (from vllm==0.6.0)\n",
      "  Downloading filelock-3.16.1-py3-none-any.whl.metadata (2.9 kB)\n",
      "Collecting partial-json-parser (from vllm==0.6.0)\n",
      "  Downloading partial_json_parser-0.2.1.1.post4-py3-none-any.whl.metadata (6.2 kB)\n",
      "Requirement already satisfied: pyzmq in /usr/local/lib/python3.10/dist-packages (from vllm==0.6.0) (24.0.1)\n",
      "Collecting msgspec (from vllm==0.6.0)\n",
      "  Downloading msgspec-0.18.6-cp310-cp310-manylinux_2_17_x86_64.manylinux2014_x86_64.whl.metadata (6.9 kB)\n",
      "Collecting gguf==0.9.1 (from vllm==0.6.0)\n",
      "  Downloading gguf-0.9.1-py3-none-any.whl.metadata (3.3 kB)\n",
      "Requirement already satisfied: importlib-metadata in /usr/lib/python3/dist-packages (from vllm==0.6.0) (4.6.4)\n",
      "Collecting mistral-common>=1.3.4 (from vllm==0.6.0)\n",
      "  Downloading mistral_common-1.5.1-py3-none-any.whl.metadata (4.6 kB)\n",
      "Requirement already satisfied: pyyaml in /usr/local/lib/python3.10/dist-packages (from vllm==0.6.0) (6.0.1)\n",
      "Collecting ray>=2.9 (from vllm==0.6.0)\n",
      "  Downloading ray-2.39.0-cp310-cp310-manylinux2014_x86_64.whl.metadata (17 kB)\n",
      "Requirement already satisfied: nvidia-ml-py in /usr/local/lib/python3.10/dist-packages (from vllm==0.6.0) (12.560.30)\n",
      "Collecting torch==2.4.0 (from vllm==0.6.0)\n",
      "  Downloading torch-2.4.0-cp310-cp310-manylinux1_x86_64.whl.metadata (26 kB)\n",
      "Collecting torchvision==0.19 (from vllm==0.6.0)\n",
      "  Downloading torchvision-0.19.0-cp310-cp310-manylinux1_x86_64.whl.metadata (6.0 kB)\n",
      "Collecting xformers==0.0.27.post2 (from vllm==0.6.0)\n",
      "  Downloading xformers-0.0.27.post2-cp310-cp310-manylinux2014_x86_64.whl.metadata (1.0 kB)\n",
      "Collecting vllm-flash-attn==2.6.1 (from vllm==0.6.0)\n",
      "  Downloading vllm_flash_attn-2.6.1-cp310-cp310-manylinux1_x86_64.whl.metadata (476 bytes)\n",
      "Collecting interegular>=0.3.2 (from lm-format-enforcer==0.10.6->vllm==0.6.0)\n",
      "  Downloading interegular-0.3.3-py37-none-any.whl.metadata (3.0 kB)\n",
      "Requirement already satisfied: packaging in /usr/local/lib/python3.10/dist-packages (from lm-format-enforcer==0.10.6->vllm==0.6.0) (23.2)\n",
      "Requirement already satisfied: sympy in /usr/local/lib/python3.10/dist-packages (from torch==2.4.0->vllm==0.6.0) (1.12)\n",
      "Requirement already satisfied: networkx in /usr/local/lib/python3.10/dist-packages (from torch==2.4.0->vllm==0.6.0) (3.0)\n",
      "Requirement already satisfied: jinja2 in /usr/local/lib/python3.10/dist-packages (from torch==2.4.0->vllm==0.6.0) (3.1.2)\n",
      "Requirement already satisfied: fsspec in /usr/local/lib/python3.10/dist-packages (from torch==2.4.0->vllm==0.6.0) (2024.9.0)\n",
      "Collecting nvidia-cuda-nvrtc-cu12==12.1.105 (from torch==2.4.0->vllm==0.6.0)\n",
      "  Downloading nvidia_cuda_nvrtc_cu12-12.1.105-py3-none-manylinux1_x86_64.whl.metadata (1.5 kB)\n",
      "Collecting nvidia-cuda-runtime-cu12==12.1.105 (from torch==2.4.0->vllm==0.6.0)\n",
      "  Downloading nvidia_cuda_runtime_cu12-12.1.105-py3-none-manylinux1_x86_64.whl.metadata (1.5 kB)\n",
      "Collecting nvidia-cuda-cupti-cu12==12.1.105 (from torch==2.4.0->vllm==0.6.0)\n",
      "  Downloading nvidia_cuda_cupti_cu12-12.1.105-py3-none-manylinux1_x86_64.whl.metadata (1.6 kB)\n",
      "Collecting nvidia-cudnn-cu12==9.1.0.70 (from torch==2.4.0->vllm==0.6.0)\n",
      "  Downloading nvidia_cudnn_cu12-9.1.0.70-py3-none-manylinux2014_x86_64.whl.metadata (1.6 kB)\n",
      "Collecting nvidia-cublas-cu12==12.1.3.1 (from torch==2.4.0->vllm==0.6.0)\n",
      "  Downloading nvidia_cublas_cu12-12.1.3.1-py3-none-manylinux1_x86_64.whl.metadata (1.5 kB)\n",
      "Collecting nvidia-cufft-cu12==11.0.2.54 (from torch==2.4.0->vllm==0.6.0)\n",
      "  Downloading nvidia_cufft_cu12-11.0.2.54-py3-none-manylinux1_x86_64.whl.metadata (1.5 kB)\n",
      "Collecting nvidia-curand-cu12==10.3.2.106 (from torch==2.4.0->vllm==0.6.0)\n",
      "  Downloading nvidia_curand_cu12-10.3.2.106-py3-none-manylinux1_x86_64.whl.metadata (1.5 kB)\n",
      "Collecting nvidia-cusolver-cu12==11.4.5.107 (from torch==2.4.0->vllm==0.6.0)\n",
      "  Downloading nvidia_cusolver_cu12-11.4.5.107-py3-none-manylinux1_x86_64.whl.metadata (1.6 kB)\n",
      "Collecting nvidia-cusparse-cu12==12.1.0.106 (from torch==2.4.0->vllm==0.6.0)\n",
      "  Downloading nvidia_cusparse_cu12-12.1.0.106-py3-none-manylinux1_x86_64.whl.metadata (1.6 kB)\n",
      "Collecting nvidia-nccl-cu12==2.20.5 (from torch==2.4.0->vllm==0.6.0)\n",
      "  Downloading nvidia_nccl_cu12-2.20.5-py3-none-manylinux2014_x86_64.whl.metadata (1.8 kB)\n",
      "Collecting nvidia-nvtx-cu12==12.1.105 (from torch==2.4.0->vllm==0.6.0)\n",
      "  Downloading nvidia_nvtx_cu12-12.1.105-py3-none-manylinux1_x86_64.whl.metadata (1.7 kB)\n",
      "Collecting triton==3.0.0 (from torch==2.4.0->vllm==0.6.0)\n",
      "  Downloading triton-3.0.0-1-cp310-cp310-manylinux2014_x86_64.manylinux_2_17_x86_64.whl.metadata (1.3 kB)\n",
      "Collecting nvidia-nvjitlink-cu12 (from nvidia-cusolver-cu12==11.4.5.107->torch==2.4.0->vllm==0.6.0)\n",
      "  Downloading nvidia_nvjitlink_cu12-12.6.85-py3-none-manylinux2010_x86_64.manylinux_2_12_x86_64.whl.metadata (1.5 kB)\n",
      "Collecting jsonschema<5.0.0,>=4.21.1 (from mistral-common>=1.3.4->vllm==0.6.0)\n",
      "  Downloading jsonschema-4.23.0-py3-none-any.whl.metadata (7.9 kB)\n",
      "Collecting numpy<2.0.0 (from vllm==0.6.0)\n",
      "  Downloading numpy-1.26.4-cp310-cp310-manylinux_2_17_x86_64.manylinux2014_x86_64.whl.metadata (61 kB)\n",
      "\u001b[2K     \u001b[90m━━━━━━━━━━━━━━━━━━━━━━━━━━━━━━━━━━━━━━━━\u001b[0m \u001b[32m61.0/61.0 kB\u001b[0m \u001b[31m1.4 MB/s\u001b[0m eta \u001b[36m0:00:00\u001b[0ma \u001b[36m0:00:01\u001b[0m\n",
      "\u001b[?25hCollecting pillow (from vllm==0.6.0)\n",
      "  Downloading pillow-10.4.0-cp310-cp310-manylinux_2_28_x86_64.whl.metadata (9.2 kB)\n",
      "Collecting tiktoken>=0.6.0 (from vllm==0.6.0)\n",
      "  Downloading tiktoken-0.7.0-cp310-cp310-manylinux_2_17_x86_64.manylinux2014_x86_64.whl.metadata (6.6 kB)\n",
      "Requirement already satisfied: anyio<5,>=3.5.0 in /usr/local/lib/python3.10/dist-packages (from openai>=1.0->vllm==0.6.0) (4.0.0)\n",
      "Requirement already satisfied: distro<2,>=1.7.0 in /usr/lib/python3/dist-packages (from openai>=1.0->vllm==0.6.0) (1.7.0)\n",
      "Requirement already satisfied: httpx<1,>=0.23.0 in /usr/local/lib/python3.10/dist-packages (from openai>=1.0->vllm==0.6.0) (0.28.0)\n",
      "Collecting jiter<1,>=0.4.0 (from openai>=1.0->vllm==0.6.0)\n",
      "  Downloading jiter-0.8.0-cp310-cp310-manylinux_2_17_x86_64.manylinux2014_x86_64.whl.metadata (5.2 kB)\n",
      "Requirement already satisfied: sniffio in /usr/local/lib/python3.10/dist-packages (from openai>=1.0->vllm==0.6.0) (1.3.0)\n",
      "Collecting lark (from outlines<0.1,>=0.0.43->vllm==0.6.0)\n",
      "  Downloading lark-1.2.2-py3-none-any.whl.metadata (1.8 kB)\n",
      "Requirement already satisfied: nest-asyncio in /usr/local/lib/python3.10/dist-packages (from outlines<0.1,>=0.0.43->vllm==0.6.0) (1.5.8)\n",
      "Collecting cloudpickle (from outlines<0.1,>=0.0.43->vllm==0.6.0)\n",
      "  Downloading cloudpickle-3.1.0-py3-none-any.whl.metadata (7.0 kB)\n",
      "Collecting diskcache (from outlines<0.1,>=0.0.43->vllm==0.6.0)\n",
      "  Downloading diskcache-5.6.3-py3-none-any.whl.metadata (20 kB)\n",
      "Collecting numba (from outlines<0.1,>=0.0.43->vllm==0.6.0)\n",
      "  Downloading numba-0.60.0-cp310-cp310-manylinux2014_x86_64.manylinux_2_17_x86_64.whl.metadata (2.7 kB)\n",
      "Requirement already satisfied: referencing in /usr/local/lib/python3.10/dist-packages (from outlines<0.1,>=0.0.43->vllm==0.6.0) (0.30.2)\n",
      "Requirement already satisfied: datasets in /usr/local/lib/python3.10/dist-packages (from outlines<0.1,>=0.0.43->vllm==0.6.0) (3.1.0)\n",
      "Collecting pycountry (from outlines<0.1,>=0.0.43->vllm==0.6.0)\n",
      "  Downloading pycountry-24.6.1-py3-none-any.whl.metadata (12 kB)\n",
      "Collecting pyairports (from outlines<0.1,>=0.0.43->vllm==0.6.0)\n",
      "  Downloading pyairports-2.1.1-py3-none-any.whl.metadata (1.7 kB)\n",
      "Requirement already satisfied: starlette<1.0.0,>=0.30.0 in /usr/local/lib/python3.10/dist-packages (from prometheus-fastapi-instrumentator>=7.0.0->vllm==0.6.0) (0.41.3)\n",
      "Requirement already satisfied: annotated-types>=0.6.0 in /usr/local/lib/python3.10/dist-packages (from pydantic>=2.8->vllm==0.6.0) (0.7.0)\n",
      "Requirement already satisfied: pydantic-core==2.27.1 in /usr/local/lib/python3.10/dist-packages (from pydantic>=2.8->vllm==0.6.0) (2.27.1)\n",
      "Requirement already satisfied: click>=7.0 in /usr/local/lib/python3.10/dist-packages (from ray>=2.9->vllm==0.6.0) (8.1.7)\n",
      "Collecting msgpack<2.0.0,>=1.0.0 (from ray>=2.9->vllm==0.6.0)\n",
      "  Downloading msgpack-1.1.0-cp310-cp310-manylinux_2_17_x86_64.manylinux2014_x86_64.whl.metadata (8.4 kB)\n",
      "Requirement already satisfied: aiosignal in /usr/local/lib/python3.10/dist-packages (from ray>=2.9->vllm==0.6.0) (1.3.1)\n",
      "Requirement already satisfied: frozenlist in /usr/local/lib/python3.10/dist-packages (from ray>=2.9->vllm==0.6.0) (1.5.0)\n",
      "Requirement already satisfied: charset-normalizer<4,>=2 in /usr/local/lib/python3.10/dist-packages (from requests->vllm==0.6.0) (2.1.1)\n",
      "Requirement already satisfied: idna<4,>=2.5 in /usr/local/lib/python3.10/dist-packages (from requests->vllm==0.6.0) (3.4)\n",
      "Requirement already satisfied: urllib3<3,>=1.21.1 in /usr/local/lib/python3.10/dist-packages (from requests->vllm==0.6.0) (1.26.13)\n",
      "Requirement already satisfied: certifi>=2017.4.17 in /usr/local/lib/python3.10/dist-packages (from requests->vllm==0.6.0) (2022.12.7)\n",
      "Requirement already satisfied: regex>=2022.1.18 in /usr/local/lib/python3.10/dist-packages (from tiktoken>=0.6.0->vllm==0.6.0) (2024.11.6)\n",
      "Requirement already satisfied: huggingface-hub<1.0,>=0.16.4 in /usr/local/lib/python3.10/dist-packages (from tokenizers>=0.19.1->vllm==0.6.0) (0.26.3)\n",
      "Requirement already satisfied: safetensors>=0.4.1 in /usr/local/lib/python3.10/dist-packages (from transformers>=4.43.2->vllm==0.6.0) (0.4.5)\n",
      "Requirement already satisfied: aiohappyeyeballs>=2.3.0 in /usr/local/lib/python3.10/dist-packages (from aiohttp->vllm==0.6.0) (2.4.4)\n",
      "Requirement already satisfied: async-timeout<6.0,>=4.0 in /usr/local/lib/python3.10/dist-packages (from aiohttp->vllm==0.6.0) (5.0.1)\n",
      "Requirement already satisfied: attrs>=17.3.0 in /usr/local/lib/python3.10/dist-packages (from aiohttp->vllm==0.6.0) (23.1.0)\n",
      "Requirement already satisfied: multidict<7.0,>=4.5 in /usr/local/lib/python3.10/dist-packages (from aiohttp->vllm==0.6.0) (6.1.0)\n",
      "Requirement already satisfied: propcache>=0.2.0 in /usr/local/lib/python3.10/dist-packages (from aiohttp->vllm==0.6.0) (0.2.1)\n",
      "Requirement already satisfied: yarl<2.0,>=1.17.0 in /usr/local/lib/python3.10/dist-packages (from aiohttp->vllm==0.6.0) (1.18.3)\n",
      "Requirement already satisfied: h11>=0.8 in /usr/local/lib/python3.10/dist-packages (from uvicorn[standard]->vllm==0.6.0) (0.14.0)\n",
      "Collecting httptools>=0.6.3 (from uvicorn[standard]->vllm==0.6.0)\n",
      "  Downloading httptools-0.6.4-cp310-cp310-manylinux_2_5_x86_64.manylinux1_x86_64.manylinux_2_17_x86_64.manylinux2014_x86_64.whl.metadata (3.6 kB)\n",
      "Collecting python-dotenv>=0.13 (from uvicorn[standard]->vllm==0.6.0)\n",
      "  Downloading python_dotenv-1.0.1-py3-none-any.whl.metadata (23 kB)\n",
      "Collecting uvloop!=0.15.0,!=0.15.1,>=0.14.0 (from uvicorn[standard]->vllm==0.6.0)\n",
      "  Downloading uvloop-0.21.0-cp310-cp310-manylinux_2_17_x86_64.manylinux2014_x86_64.whl.metadata (4.9 kB)\n",
      "Collecting watchfiles>=0.13 (from uvicorn[standard]->vllm==0.6.0)\n",
      "  Downloading watchfiles-1.0.0-cp310-cp310-manylinux_2_17_x86_64.manylinux2014_x86_64.whl.metadata (4.9 kB)\n",
      "Requirement already satisfied: websockets>=10.4 in /usr/local/lib/python3.10/dist-packages (from uvicorn[standard]->vllm==0.6.0) (12.0)\n",
      "Requirement already satisfied: exceptiongroup>=1.0.2 in /usr/local/lib/python3.10/dist-packages (from anyio<5,>=3.5.0->openai>=1.0->vllm==0.6.0) (1.1.3)\n",
      "Requirement already satisfied: httpcore==1.* in /usr/local/lib/python3.10/dist-packages (from httpx<1,>=0.23.0->openai>=1.0->vllm==0.6.0) (1.0.7)\n",
      "Requirement already satisfied: jsonschema-specifications>=2023.03.6 in /usr/local/lib/python3.10/dist-packages (from jsonschema<5.0.0,>=4.21.1->mistral-common>=1.3.4->vllm==0.6.0) (2023.7.1)\n",
      "Requirement already satisfied: rpds-py>=0.7.1 in /usr/local/lib/python3.10/dist-packages (from jsonschema<5.0.0,>=4.21.1->mistral-common>=1.3.4->vllm==0.6.0) (0.12.0)\n",
      "Requirement already satisfied: pyarrow>=15.0.0 in /usr/local/lib/python3.10/dist-packages (from datasets->outlines<0.1,>=0.0.43->vllm==0.6.0) (18.1.0)\n",
      "Requirement already satisfied: dill<0.3.9,>=0.3.0 in /usr/local/lib/python3.10/dist-packages (from datasets->outlines<0.1,>=0.0.43->vllm==0.6.0) (0.3.8)\n",
      "Requirement already satisfied: pandas in /usr/local/lib/python3.10/dist-packages (from datasets->outlines<0.1,>=0.0.43->vllm==0.6.0) (2.2.3)\n",
      "Requirement already satisfied: xxhash in /usr/local/lib/python3.10/dist-packages (from datasets->outlines<0.1,>=0.0.43->vllm==0.6.0) (3.5.0)\n",
      "Requirement already satisfied: multiprocess<0.70.17 in /usr/local/lib/python3.10/dist-packages (from datasets->outlines<0.1,>=0.0.43->vllm==0.6.0) (0.70.16)\n",
      "Requirement already satisfied: MarkupSafe>=2.0 in /usr/local/lib/python3.10/dist-packages (from jinja2->torch==2.4.0->vllm==0.6.0) (2.1.2)\n",
      "Collecting llvmlite<0.44,>=0.43.0dev0 (from numba->outlines<0.1,>=0.0.43->vllm==0.6.0)\n",
      "  Downloading llvmlite-0.43.0-cp310-cp310-manylinux_2_17_x86_64.manylinux2014_x86_64.whl.metadata (4.8 kB)\n",
      "Requirement already satisfied: mpmath>=0.19 in /usr/local/lib/python3.10/dist-packages (from sympy->torch==2.4.0->vllm==0.6.0) (1.3.0)\n",
      "Requirement already satisfied: python-dateutil>=2.8.2 in /usr/local/lib/python3.10/dist-packages (from pandas->datasets->outlines<0.1,>=0.0.43->vllm==0.6.0) (2.8.2)\n",
      "Requirement already satisfied: pytz>=2020.1 in /usr/local/lib/python3.10/dist-packages (from pandas->datasets->outlines<0.1,>=0.0.43->vllm==0.6.0) (2024.2)\n",
      "Requirement already satisfied: tzdata>=2022.7 in /usr/local/lib/python3.10/dist-packages (from pandas->datasets->outlines<0.1,>=0.0.43->vllm==0.6.0) (2024.2)\n",
      "Requirement already satisfied: six>=1.5 in /usr/lib/python3/dist-packages (from python-dateutil>=2.8.2->pandas->datasets->outlines<0.1,>=0.0.43->vllm==0.6.0) (1.16.0)\n",
      "Downloading vllm-0.6.0-cp38-abi3-manylinux1_x86_64.whl (170.6 MB)\n",
      "\u001b[2K   \u001b[90m━━━━━━━━━━━━━━━━━━━━━━━━━━━━━━━━━━━━━━━━\u001b[0m \u001b[32m170.6/170.6 MB\u001b[0m \u001b[31m4.2 MB/s\u001b[0m eta \u001b[36m0:00:00\u001b[0m00:01\u001b[0m00:02\u001b[0mm\n",
      "\u001b[?25hDownloading gguf-0.9.1-py3-none-any.whl (49 kB)\n",
      "\u001b[2K   \u001b[90m━━━━━━━━━━━━━━━━━━━━━━━━━━━━━━━━━━━━━━━━\u001b[0m \u001b[32m49.1/49.1 kB\u001b[0m \u001b[31m4.9 MB/s\u001b[0m eta \u001b[36m0:00:00\u001b[0m\n",
      "\u001b[?25hDownloading lm_format_enforcer-0.10.6-py3-none-any.whl (43 kB)\n",
      "\u001b[2K   \u001b[90m━━━━━━━━━━━━━━━━━━━━━━━━━━━━━━━━━━━━━━━━\u001b[0m \u001b[32m43.7/43.7 kB\u001b[0m \u001b[31m4.4 MB/s\u001b[0m eta \u001b[36m0:00:00\u001b[0m\n",
      "\u001b[?25hDownloading torch-2.4.0-cp310-cp310-manylinux1_x86_64.whl (797.2 MB)\n",
      "\u001b[2K   \u001b[90m━━━━━━━━━━━━━━━━━━━━━━━━━━━━━━━━━━━━━━━━\u001b[0m \u001b[32m797.2/797.2 MB\u001b[0m \u001b[31m3.9 MB/s\u001b[0m eta \u001b[36m0:00:00\u001b[0m00:01\u001b[0m00:04\u001b[0mm\n",
      "\u001b[?25hDownloading torchvision-0.19.0-cp310-cp310-manylinux1_x86_64.whl (7.0 MB)\n",
      "\u001b[2K   \u001b[90m━━━━━━━━━━━━━━━━━━━━━━━━━━━━━━━━━━━━━━━━\u001b[0m \u001b[32m7.0/7.0 MB\u001b[0m \u001b[31m2.5 MB/s\u001b[0m eta \u001b[36m0:00:00\u001b[0m00:01\u001b[0m00:01\u001b[0m\n",
      "\u001b[?25hDownloading vllm_flash_attn-2.6.1-cp310-cp310-manylinux1_x86_64.whl (75.9 MB)\n",
      "\u001b[2K   \u001b[90m━━━━━━━━━━━━━━━━━━━━━━━━━━━━━━━━━━━━━━━━\u001b[0m \u001b[32m75.9/75.9 MB\u001b[0m \u001b[31m14.8 MB/s\u001b[0m eta \u001b[36m0:00:00\u001b[0m00:01\u001b[0m00:01\u001b[0m\n",
      "\u001b[?25hDownloading xformers-0.0.27.post2-cp310-cp310-manylinux2014_x86_64.whl (20.8 MB)\n",
      "\u001b[2K   \u001b[90m━━━━━━━━━━━━━━━━━━━━━━━━━━━━━━━━━━━━━━━━\u001b[0m \u001b[32m20.8/20.8 MB\u001b[0m \u001b[31m21.9 MB/s\u001b[0m eta \u001b[36m0:00:00\u001b[0m00:01\u001b[0m00:01\u001b[0m\n",
      "\u001b[?25hDownloading nvidia_cublas_cu12-12.1.3.1-py3-none-manylinux1_x86_64.whl (410.6 MB)\n",
      "\u001b[2K   \u001b[90m━━━━━━━━━━━━━━━━━━━━━━━━━━━━━━━━━━━━━━━━\u001b[0m \u001b[32m410.6/410.6 MB\u001b[0m \u001b[31m13.0 MB/s\u001b[0m eta \u001b[36m0:00:00\u001b[0m00:01\u001b[0m00:01\u001b[0m\n",
      "\u001b[?25hDownloading nvidia_cuda_cupti_cu12-12.1.105-py3-none-manylinux1_x86_64.whl (14.1 MB)\n",
      "\u001b[2K   \u001b[90m━━━━━━━━━━━━━━━━━━━━━━━━━━━━━━━━━━━━━━━━\u001b[0m \u001b[32m14.1/14.1 MB\u001b[0m \u001b[31m25.3 MB/s\u001b[0m eta \u001b[36m0:00:00\u001b[0ma \u001b[36m0:00:01\u001b[0m\n",
      "\u001b[?25hDownloading nvidia_cuda_nvrtc_cu12-12.1.105-py3-none-manylinux1_x86_64.whl (23.7 MB)\n",
      "\u001b[2K   \u001b[90m━━━━━━━━━━━━━━━━━━━━━━━━━━━━━━━━━━━━━━━━\u001b[0m \u001b[32m23.7/23.7 MB\u001b[0m \u001b[31m25.9 MB/s\u001b[0m eta \u001b[36m0:00:00\u001b[0m00:01\u001b[0m00:01\u001b[0m\n",
      "\u001b[?25hDownloading nvidia_cuda_runtime_cu12-12.1.105-py3-none-manylinux1_x86_64.whl (823 kB)\n",
      "\u001b[2K   \u001b[90m━━━━━━━━━━━━━━━━━━━━━━━━━━━━━━━━━━━━━━━━\u001b[0m \u001b[32m823.6/823.6 kB\u001b[0m \u001b[31m34.3 MB/s\u001b[0m eta \u001b[36m0:00:00\u001b[0m\n",
      "\u001b[?25hDownloading nvidia_cudnn_cu12-9.1.0.70-py3-none-manylinux2014_x86_64.whl (664.8 MB)\n",
      "\u001b[2K   \u001b[90m━━━━━━━━━━━━━━━━━━━━━━━━━━━━━━━━━━━━━━━━\u001b[0m \u001b[32m664.8/664.8 MB\u001b[0m \u001b[31m11.6 MB/s\u001b[0m eta \u001b[36m0:00:00\u001b[0m00:01\u001b[0m00:01\u001b[0m\n",
      "\u001b[?25hDownloading nvidia_cufft_cu12-11.0.2.54-py3-none-manylinux1_x86_64.whl (121.6 MB)\n",
      "\u001b[2K   \u001b[90m━━━━━━━━━━━━━━━━━━━━━━━━━━━━━━━━━━━━━━━━\u001b[0m \u001b[32m121.6/121.6 MB\u001b[0m \u001b[31m19.7 MB/s\u001b[0m eta \u001b[36m0:00:00\u001b[0m00:01\u001b[0m00:01\u001b[0m\n",
      "\u001b[?25hDownloading nvidia_curand_cu12-10.3.2.106-py3-none-manylinux1_x86_64.whl (56.5 MB)\n",
      "\u001b[2K   \u001b[90m━━━━━━━━━━━━━━━━━━━━━━━━━━━━━━━━━━━━━━━━\u001b[0m \u001b[32m56.5/56.5 MB\u001b[0m \u001b[31m25.6 MB/s\u001b[0m eta \u001b[36m0:00:00\u001b[0m00:01\u001b[0m00:01\u001b[0m\n",
      "\u001b[?25hDownloading nvidia_cusolver_cu12-11.4.5.107-py3-none-manylinux1_x86_64.whl (124.2 MB)\n",
      "\u001b[2K   \u001b[90m━━━━━━━━━━━━━━━━━━━━━━━━━━━━━━━━━━━━━━━━\u001b[0m \u001b[32m124.2/124.2 MB\u001b[0m \u001b[31m25.6 MB/s\u001b[0m eta \u001b[36m0:00:00\u001b[0m00:01\u001b[0m00:01\u001b[0m\n",
      "\u001b[?25hDownloading nvidia_cusparse_cu12-12.1.0.106-py3-none-manylinux1_x86_64.whl (196.0 MB)\n",
      "\u001b[2K   \u001b[90m━━━━━━━━━━━━━━━━━━━━━━━━━━━━━━━━━━━━━━━━\u001b[0m \u001b[32m196.0/196.0 MB\u001b[0m \u001b[31m23.4 MB/s\u001b[0m eta \u001b[36m0:00:00\u001b[0m00:01\u001b[0m00:01\u001b[0m\n",
      "\u001b[?25hDownloading nvidia_nccl_cu12-2.20.5-py3-none-manylinux2014_x86_64.whl (176.2 MB)\n",
      "\u001b[2K   \u001b[90m━━━━━━━━━━━━━━━━━━━━━━━━━━━━━━━━━━━━━━━━\u001b[0m \u001b[32m176.2/176.2 MB\u001b[0m \u001b[31m28.7 MB/s\u001b[0m eta \u001b[36m0:00:00\u001b[0m00:01\u001b[0m00:01\u001b[0m\n",
      "\u001b[?25hDownloading nvidia_nvtx_cu12-12.1.105-py3-none-manylinux1_x86_64.whl (99 kB)\n",
      "\u001b[2K   \u001b[90m━━━━━━━━━━━━━━━━━━━━━━━━━━━━━━━━━━━━━━━━\u001b[0m \u001b[32m99.1/99.1 kB\u001b[0m \u001b[31m45.4 MB/s\u001b[0m eta \u001b[36m0:00:00\u001b[0m\n",
      "\u001b[?25hDownloading triton-3.0.0-1-cp310-cp310-manylinux2014_x86_64.manylinux_2_17_x86_64.whl (209.4 MB)\n",
      "\u001b[2K   \u001b[90m━━━━━━━━━━━━━━━━━━━━━━━━━━━━━━━━━━━━━━━━\u001b[0m \u001b[32m209.4/209.4 MB\u001b[0m \u001b[31m27.3 MB/s\u001b[0m eta \u001b[36m0:00:00\u001b[0m00:01\u001b[0m00:01\u001b[0m\n",
      "\u001b[?25hDownloading filelock-3.16.1-py3-none-any.whl (16 kB)\n",
      "Downloading mistral_common-1.5.1-py3-none-any.whl (6.5 MB)\n",
      "\u001b[2K   \u001b[90m━━━━━━━━━━━━━━━━━━━━━━━━━━━━━━━━━━━━━━━━\u001b[0m \u001b[32m6.5/6.5 MB\u001b[0m \u001b[31m43.3 MB/s\u001b[0m eta \u001b[36m0:00:00\u001b[0ma \u001b[36m0:00:01\u001b[0m\n",
      "\u001b[?25hDownloading numpy-1.26.4-cp310-cp310-manylinux_2_17_x86_64.manylinux2014_x86_64.whl (18.2 MB)\n",
      "\u001b[2K   \u001b[90m━━━━━━━━━━━━━━━━━━━━━━━━━━━━━━━━━━━━━━━━\u001b[0m \u001b[32m18.2/18.2 MB\u001b[0m \u001b[31m42.2 MB/s\u001b[0m eta \u001b[36m0:00:00\u001b[0m00:01\u001b[0m00:01\u001b[0m\n",
      "\u001b[?25hDownloading openai-1.56.0-py3-none-any.whl (389 kB)\n",
      "\u001b[2K   \u001b[90m━━━━━━━━━━━━━━━━━━━━━━━━━━━━━━━━━━━━━━━━\u001b[0m \u001b[32m389.8/389.8 kB\u001b[0m \u001b[31m63.6 MB/s\u001b[0m eta \u001b[36m0:00:00\u001b[0m\n",
      "\u001b[?25hDownloading outlines-0.0.46-py3-none-any.whl (101 kB)\n",
      "\u001b[2K   \u001b[90m━━━━━━━━━━━━━━━━━━━━━━━━━━━━━━━━━━━━━━━━\u001b[0m \u001b[32m101.9/101.9 kB\u001b[0m \u001b[31m51.2 MB/s\u001b[0m eta \u001b[36m0:00:00\u001b[0m\n",
      "\u001b[?25hDownloading pillow-10.4.0-cp310-cp310-manylinux_2_28_x86_64.whl (4.5 MB)\n",
      "\u001b[2K   \u001b[90m━━━━━━━━━━━━━━━━━━━━━━━━━━━━━━━━━━━━━━━━\u001b[0m \u001b[32m4.5/4.5 MB\u001b[0m \u001b[31m44.5 MB/s\u001b[0m eta \u001b[36m0:00:00\u001b[0ma \u001b[36m0:00:01\u001b[0m\n",
      "\u001b[?25hDownloading prometheus_fastapi_instrumentator-7.0.0-py3-none-any.whl (19 kB)\n",
      "Downloading ray-2.39.0-cp310-cp310-manylinux2014_x86_64.whl (66.3 MB)\n",
      "\u001b[2K   \u001b[90m━━━━━━━━━━━━━━━━━━━━━━━━━━━━━━━━━━━━━━━━\u001b[0m \u001b[32m66.3/66.3 MB\u001b[0m \u001b[31m35.7 MB/s\u001b[0m eta \u001b[36m0:00:00\u001b[0m00:01\u001b[0m00:01\u001b[0m\n",
      "\u001b[?25hDownloading tiktoken-0.7.0-cp310-cp310-manylinux_2_17_x86_64.manylinux2014_x86_64.whl (1.1 MB)\n",
      "\u001b[2K   \u001b[90m━━━━━━━━━━━━━━━━━━━━━━━━━━━━━━━━━━━━━━━━\u001b[0m \u001b[32m1.1/1.1 MB\u001b[0m \u001b[31m59.5 MB/s\u001b[0m eta \u001b[36m0:00:00\u001b[0m\n",
      "\u001b[?25hDownloading msgspec-0.18.6-cp310-cp310-manylinux_2_17_x86_64.manylinux2014_x86_64.whl (210 kB)\n",
      "\u001b[2K   \u001b[90m━━━━━━━━━━━━━━━━━━━━━━━━━━━━━━━━━━━━━━━━\u001b[0m \u001b[32m210.3/210.3 kB\u001b[0m \u001b[31m68.6 MB/s\u001b[0m eta \u001b[36m0:00:00\u001b[0m\n",
      "\u001b[?25hDownloading partial_json_parser-0.2.1.1.post4-py3-none-any.whl (9.9 kB)\n",
      "Downloading httptools-0.6.4-cp310-cp310-manylinux_2_5_x86_64.manylinux1_x86_64.manylinux_2_17_x86_64.manylinux2014_x86_64.whl (442 kB)\n",
      "\u001b[2K   \u001b[90m━━━━━━━━━━━━━━━━━━━━━━━━━━━━━━━━━━━━━━━━\u001b[0m \u001b[32m442.1/442.1 kB\u001b[0m \u001b[31m53.1 MB/s\u001b[0m eta \u001b[36m0:00:00\u001b[0m\n",
      "\u001b[?25hDownloading interegular-0.3.3-py37-none-any.whl (23 kB)\n",
      "Downloading jiter-0.8.0-cp310-cp310-manylinux_2_17_x86_64.manylinux2014_x86_64.whl (343 kB)\n",
      "\u001b[2K   \u001b[90m━━━━━━━━━━━━━━━━━━━━━━━━━━━━━━━━━━━━━━━━\u001b[0m \u001b[32m343.6/343.6 kB\u001b[0m \u001b[31m65.7 MB/s\u001b[0m eta \u001b[36m0:00:00\u001b[0m\n",
      "\u001b[?25hDownloading jsonschema-4.23.0-py3-none-any.whl (88 kB)\n",
      "\u001b[2K   \u001b[90m━━━━━━━━━━━━━━━━━━━━━━━━━━━━━━━━━━━━━━━━\u001b[0m \u001b[32m88.5/88.5 kB\u001b[0m \u001b[31m37.9 MB/s\u001b[0m eta \u001b[36m0:00:00\u001b[0m\n",
      "\u001b[?25hDownloading msgpack-1.1.0-cp310-cp310-manylinux_2_17_x86_64.manylinux2014_x86_64.whl (378 kB)\n",
      "\u001b[2K   \u001b[90m━━━━━━━━━━━━━━━━━━━━━━━━━━━━━━━━━━━━━━━━\u001b[0m \u001b[32m378.0/378.0 kB\u001b[0m \u001b[31m59.6 MB/s\u001b[0m eta \u001b[36m0:00:00\u001b[0m\n",
      "\u001b[?25hDownloading python_dotenv-1.0.1-py3-none-any.whl (19 kB)\n",
      "Downloading uvloop-0.21.0-cp310-cp310-manylinux_2_17_x86_64.manylinux2014_x86_64.whl (3.8 MB)\n",
      "\u001b[2K   \u001b[90m━━━━━━━━━━━━━━━━━━━━━━━━━━━━━━━━━━━━━━━━\u001b[0m \u001b[32m3.8/3.8 MB\u001b[0m \u001b[31m45.2 MB/s\u001b[0m eta \u001b[36m0:00:00\u001b[0ma \u001b[36m0:00:01\u001b[0m\n",
      "\u001b[?25hDownloading watchfiles-1.0.0-cp310-cp310-manylinux_2_17_x86_64.manylinux2014_x86_64.whl (442 kB)\n",
      "\u001b[2K   \u001b[90m━━━━━━━━━━━━━━━━━━━━━━━━━━━━━━━━━━━━━━━━\u001b[0m \u001b[32m442.6/442.6 kB\u001b[0m \u001b[31m59.7 MB/s\u001b[0m eta \u001b[36m0:00:00\u001b[0m\n",
      "\u001b[?25hDownloading cloudpickle-3.1.0-py3-none-any.whl (22 kB)\n",
      "Downloading diskcache-5.6.3-py3-none-any.whl (45 kB)\n",
      "\u001b[2K   \u001b[90m━━━━━━━━━━━━━━━━━━━━━━━━━━━━━━━━━━━━━━━━\u001b[0m \u001b[32m45.5/45.5 kB\u001b[0m \u001b[31m22.9 MB/s\u001b[0m eta \u001b[36m0:00:00\u001b[0m\n",
      "\u001b[?25hDownloading lark-1.2.2-py3-none-any.whl (111 kB)\n",
      "\u001b[2K   \u001b[90m━━━━━━━━━━━━━━━━━━━━━━━━━━━━━━━━━━━━━━━━\u001b[0m \u001b[32m111.0/111.0 kB\u001b[0m \u001b[31m52.5 MB/s\u001b[0m eta \u001b[36m0:00:00\u001b[0m\n",
      "\u001b[?25hDownloading numba-0.60.0-cp310-cp310-manylinux2014_x86_64.manylinux_2_17_x86_64.whl (3.7 MB)\n",
      "\u001b[2K   \u001b[90m━━━━━━━━━━━━━━━━━━━━━━━━━━━━━━━━━━━━━━━━\u001b[0m \u001b[32m3.7/3.7 MB\u001b[0m \u001b[31m44.3 MB/s\u001b[0m eta \u001b[36m0:00:00\u001b[0ma \u001b[36m0:00:01\u001b[0m\n",
      "\u001b[?25hDownloading pyairports-2.1.1-py3-none-any.whl (371 kB)\n",
      "\u001b[2K   \u001b[90m━━━━━━━━━━━━━━━━━━━━━━━━━━━━━━━━━━━━━━━━\u001b[0m \u001b[32m371.7/371.7 kB\u001b[0m \u001b[31m70.1 MB/s\u001b[0m eta \u001b[36m0:00:00\u001b[0m\n",
      "\u001b[?25hDownloading pycountry-24.6.1-py3-none-any.whl (6.3 MB)\n",
      "\u001b[2K   \u001b[90m━━━━━━━━━━━━━━━━━━━━━━━━━━━━━━━━━━━━━━━━\u001b[0m \u001b[32m6.3/6.3 MB\u001b[0m \u001b[31m47.5 MB/s\u001b[0m eta \u001b[36m0:00:00\u001b[0ma \u001b[36m0:00:01\u001b[0m\n",
      "\u001b[?25hDownloading llvmlite-0.43.0-cp310-cp310-manylinux_2_17_x86_64.manylinux2014_x86_64.whl (43.9 MB)\n",
      "\u001b[2K   \u001b[90m━━━━━━━━━━━━━━━━━━━━━━━━━━━━━━━━━━━━━━━━\u001b[0m \u001b[32m43.9/43.9 MB\u001b[0m \u001b[31m42.5 MB/s\u001b[0m eta \u001b[36m0:00:00\u001b[0m00:01\u001b[0m00:01\u001b[0m\n",
      "\u001b[?25hDownloading nvidia_nvjitlink_cu12-12.6.85-py3-none-manylinux2010_x86_64.manylinux_2_12_x86_64.whl (19.7 MB)\n",
      "\u001b[2K   \u001b[90m━━━━━━━━━━━━━━━━━━━━━━━━━━━━━━━━━━━━━━━━\u001b[0m \u001b[32m19.7/19.7 MB\u001b[0m \u001b[31m45.8 MB/s\u001b[0m eta \u001b[36m0:00:00\u001b[0ma \u001b[36m0:00:01\u001b[0m\n",
      "\u001b[?25hInstalling collected packages: pyairports, uvloop, python-dotenv, pycountry, pillow, partial-json-parser, nvidia-nvtx-cu12, nvidia-nvjitlink-cu12, nvidia-nccl-cu12, nvidia-curand-cu12, nvidia-cufft-cu12, nvidia-cuda-runtime-cu12, nvidia-cuda-nvrtc-cu12, nvidia-cuda-cupti-cu12, nvidia-cublas-cu12, numpy, msgspec, msgpack, llvmlite, lark, jiter, interegular, httptools, filelock, diskcache, cloudpickle, watchfiles, triton, tiktoken, nvidia-cusparse-cu12, nvidia-cudnn-cu12, numba, gguf, prometheus-fastapi-instrumentator, openai, nvidia-cusolver-cu12, lm-format-enforcer, jsonschema, torch, ray, mistral-common, xformers, vllm-flash-attn, torchvision, outlines, vllm\n",
      "  Attempting uninstall: pillow\n",
      "    Found existing installation: Pillow 9.3.0\n",
      "    Uninstalling Pillow-9.3.0:\n",
      "      Successfully uninstalled Pillow-9.3.0\n",
      "  Attempting uninstall: numpy\n",
      "    Found existing installation: numpy 1.24.1\n",
      "    Uninstalling numpy-1.24.1:\n",
      "      Successfully uninstalled numpy-1.24.1\n",
      "  Attempting uninstall: filelock\n",
      "    Found existing installation: filelock 3.9.0\n",
      "    Uninstalling filelock-3.9.0:\n",
      "      Successfully uninstalled filelock-3.9.0\n",
      "  Attempting uninstall: triton\n",
      "    Found existing installation: triton 2.1.0\n",
      "    Uninstalling triton-2.1.0:\n",
      "      Successfully uninstalled triton-2.1.0\n",
      "  Attempting uninstall: jsonschema\n",
      "    Found existing installation: jsonschema 4.19.2\n",
      "    Uninstalling jsonschema-4.19.2:\n",
      "      Successfully uninstalled jsonschema-4.19.2\n",
      "  Attempting uninstall: torch\n",
      "    Found existing installation: torch 2.1.0+cu118\n",
      "    Uninstalling torch-2.1.0+cu118:\n",
      "      Successfully uninstalled torch-2.1.0+cu118\n",
      "  Attempting uninstall: torchvision\n",
      "    Found existing installation: torchvision 0.16.0+cu118\n",
      "    Uninstalling torchvision-0.16.0+cu118:\n",
      "      Successfully uninstalled torchvision-0.16.0+cu118\n",
      "\u001b[31mERROR: pip's dependency resolver does not currently take into account all the packages that are installed. This behaviour is the source of the following dependency conflicts.\n",
      "torchaudio 2.1.0+cu118 requires torch==2.1.0, but you have torch 2.4.0 which is incompatible.\u001b[0m\u001b[31m\n",
      "\u001b[0mSuccessfully installed cloudpickle-3.1.0 diskcache-5.6.3 filelock-3.16.1 gguf-0.9.1 httptools-0.6.4 interegular-0.3.3 jiter-0.8.0 jsonschema-4.23.0 lark-1.2.2 llvmlite-0.43.0 lm-format-enforcer-0.10.6 mistral-common-1.5.1 msgpack-1.1.0 msgspec-0.18.6 numba-0.60.0 numpy-1.26.4 nvidia-cublas-cu12-12.1.3.1 nvidia-cuda-cupti-cu12-12.1.105 nvidia-cuda-nvrtc-cu12-12.1.105 nvidia-cuda-runtime-cu12-12.1.105 nvidia-cudnn-cu12-9.1.0.70 nvidia-cufft-cu12-11.0.2.54 nvidia-curand-cu12-10.3.2.106 nvidia-cusolver-cu12-11.4.5.107 nvidia-cusparse-cu12-12.1.0.106 nvidia-nccl-cu12-2.20.5 nvidia-nvjitlink-cu12-12.6.85 nvidia-nvtx-cu12-12.1.105 openai-1.56.0 outlines-0.0.46 partial-json-parser-0.2.1.1.post4 pillow-10.4.0 prometheus-fastapi-instrumentator-7.0.0 pyairports-2.1.1 pycountry-24.6.1 python-dotenv-1.0.1 ray-2.39.0 tiktoken-0.7.0 torch-2.4.0 torchvision-0.19.0 triton-3.0.0 uvloop-0.21.0 vllm-0.6.0 vllm-flash-attn-2.6.1 watchfiles-1.0.0 xformers-0.0.27.post2\n",
      "\u001b[33mWARNING: Running pip as the 'root' user can result in broken permissions and conflicting behaviour with the system package manager. It is recommended to use a virtual environment instead: https://pip.pypa.io/warnings/venv\u001b[0m\u001b[33m\n",
      "\u001b[0m\n",
      "\u001b[1m[\u001b[0m\u001b[34;49mnotice\u001b[0m\u001b[1;39;49m]\u001b[0m\u001b[39;49m A new release of pip is available: \u001b[0m\u001b[31;49m23.3.1\u001b[0m\u001b[39;49m -> \u001b[0m\u001b[32;49m24.3.1\u001b[0m\n",
      "\u001b[1m[\u001b[0m\u001b[34;49mnotice\u001b[0m\u001b[1;39;49m]\u001b[0m\u001b[39;49m To update, run: \u001b[0m\u001b[32;49mpython -m pip install --upgrade pip\u001b[0m\n"
     ]
    }
   ],
   "source": [
    "!pip install vllm==0.6.0"
   ]
  },
  {
   "cell_type": "code",
   "execution_count": 14,
   "id": "0f85d6b0-0266-4061-81c8-25277f292a4c",
   "metadata": {
    "scrolled": true
   },
   "outputs": [
    {
     "data": {
      "application/vnd.jupyter.widget-view+json": {
       "model_id": "9666adaeba0c4032b560396739f31774",
       "version_major": 2,
       "version_minor": 0
      },
      "text/plain": [
       "config.json:   0%|          | 0.00/806 [00:00<?, ?B/s]"
      ]
     },
     "metadata": {},
     "output_type": "display_data"
    },
    {
     "name": "stdout",
     "output_type": "stream",
     "text": [
      "INFO 12-03 13:21:48 llm_engine.py:213] Initializing an LLM engine (v0.6.0) with config: model='iamjoon/Llama-3-ESG-BINARY-CLASSIFIER', speculative_config=None, tokenizer='iamjoon/Llama-3-ESG-BINARY-CLASSIFIER', skip_tokenizer_init=False, tokenizer_mode=auto, revision=None, override_neuron_config=None, rope_scaling=None, rope_theta=None, tokenizer_revision=None, trust_remote_code=False, dtype=torch.float16, max_seq_len=8192, download_dir=None, load_format=LoadFormat.AUTO, tensor_parallel_size=1, pipeline_parallel_size=1, disable_custom_all_reduce=False, quantization=None, enforce_eager=False, kv_cache_dtype=auto, quantization_param_path=None, device_config=cuda, decoding_config=DecodingConfig(guided_decoding_backend='outlines'), observability_config=ObservabilityConfig(otlp_traces_endpoint=None, collect_model_forward_time=False, collect_model_execute_time=False), seed=0, served_model_name=iamjoon/Llama-3-ESG-BINARY-CLASSIFIER, use_v2_block_manager=False, num_scheduler_steps=1, enable_prefix_caching=False, use_async_output_proc=True)\n"
     ]
    },
    {
     "data": {
      "application/vnd.jupyter.widget-view+json": {
       "model_id": "a784fe304c9a4a4597b8f2756a1f39a3",
       "version_major": 2,
       "version_minor": 0
      },
      "text/plain": [
       "tokenizer_config.json:   0%|          | 0.00/51.0k [00:00<?, ?B/s]"
      ]
     },
     "metadata": {},
     "output_type": "display_data"
    },
    {
     "data": {
      "application/vnd.jupyter.widget-view+json": {
       "model_id": "afb7ac0a88eb42bca6797d0d1c0cbbeb",
       "version_major": 2,
       "version_minor": 0
      },
      "text/plain": [
       "tokenizer.json:   0%|          | 0.00/17.2M [00:00<?, ?B/s]"
      ]
     },
     "metadata": {},
     "output_type": "display_data"
    },
    {
     "data": {
      "application/vnd.jupyter.widget-view+json": {
       "model_id": "7bd443b0d7454d0c85c9aa7a64de7a71",
       "version_major": 2,
       "version_minor": 0
      },
      "text/plain": [
       "special_tokens_map.json:   0%|          | 0.00/464 [00:00<?, ?B/s]"
      ]
     },
     "metadata": {},
     "output_type": "display_data"
    },
    {
     "data": {
      "application/vnd.jupyter.widget-view+json": {
       "model_id": "a0237daaf94943038d80bd76803edd65",
       "version_major": 2,
       "version_minor": 0
      },
      "text/plain": [
       "generation_config.json:   0%|          | 0.00/121 [00:00<?, ?B/s]"
      ]
     },
     "metadata": {},
     "output_type": "display_data"
    },
    {
     "name": "stdout",
     "output_type": "stream",
     "text": [
      "INFO 12-03 13:21:53 model_runner.py:915] Starting to load model iamjoon/Llama-3-ESG-BINARY-CLASSIFIER...\n",
      "INFO 12-03 13:21:53 weight_utils.py:236] Using model weights format ['*.safetensors']\n"
     ]
    },
    {
     "data": {
      "application/vnd.jupyter.widget-view+json": {
       "model_id": "1a38c4c182d543e5808bacf44aab3b61",
       "version_major": 2,
       "version_minor": 0
      },
      "text/plain": [
       "model-00004-of-00004.safetensors:   0%|          | 0.00/1.17G [00:00<?, ?B/s]"
      ]
     },
     "metadata": {},
     "output_type": "display_data"
    },
    {
     "data": {
      "application/vnd.jupyter.widget-view+json": {
       "model_id": "4cf90bec64c84a10995fa5aa4b5e9ea4",
       "version_major": 2,
       "version_minor": 0
      },
      "text/plain": [
       "model-00003-of-00004.safetensors:   0%|          | 0.00/4.92G [00:00<?, ?B/s]"
      ]
     },
     "metadata": {},
     "output_type": "display_data"
    },
    {
     "data": {
      "application/vnd.jupyter.widget-view+json": {
       "model_id": "a0b0a8df5bd0451a802e5acc3b4792a2",
       "version_major": 2,
       "version_minor": 0
      },
      "text/plain": [
       "model-00002-of-00004.safetensors:   0%|          | 0.00/5.00G [00:00<?, ?B/s]"
      ]
     },
     "metadata": {},
     "output_type": "display_data"
    },
    {
     "data": {
      "application/vnd.jupyter.widget-view+json": {
       "model_id": "c30e678c2d9c4bcc8b01af6f94d0dbcc",
       "version_major": 2,
       "version_minor": 0
      },
      "text/plain": [
       "model-00001-of-00004.safetensors:   0%|          | 0.00/4.98G [00:00<?, ?B/s]"
      ]
     },
     "metadata": {},
     "output_type": "display_data"
    },
    {
     "data": {
      "application/vnd.jupyter.widget-view+json": {
       "model_id": "610be6ec30124bfe97b5dbc7841acc72",
       "version_major": 2,
       "version_minor": 0
      },
      "text/plain": [
       "model.safetensors.index.json:   0%|          | 0.00/23.9k [00:00<?, ?B/s]"
      ]
     },
     "metadata": {},
     "output_type": "display_data"
    },
    {
     "data": {
      "application/vnd.jupyter.widget-view+json": {
       "model_id": "b6527820342e43c8930be35f0f34d2fd",
       "version_major": 2,
       "version_minor": 0
      },
      "text/plain": [
       "Loading safetensors checkpoint shards:   0% Completed | 0/4 [00:00<?, ?it/s]\n"
      ]
     },
     "metadata": {},
     "output_type": "display_data"
    },
    {
     "name": "stdout",
     "output_type": "stream",
     "text": [
      "INFO 12-03 13:24:00 model_runner.py:926] Loading model weights took 14.9595 GB\n",
      "INFO 12-03 13:24:01 gpu_executor.py:122] # GPU blocks: 27978, # CPU blocks: 2048\n",
      "INFO 12-03 13:24:04 model_runner.py:1217] Capturing the model for CUDA graphs. This may lead to unexpected consequences if the model is not static. To run the model in eager mode, set 'enforce_eager=True' or use '--enforce-eager' in the CLI.\n",
      "INFO 12-03 13:24:04 model_runner.py:1221] CUDA graphs can take additional 1~3 GiB memory per GPU. If you are running out of memory, consider decreasing `gpu_memory_utilization` or enforcing eager mode. You can also reduce the `max_num_seqs` as needed to decrease memory usage.\n",
      "INFO 12-03 13:24:14 model_runner.py:1335] Graph capturing finished in 10 secs.\n"
     ]
    }
   ],
   "source": [
    "import string\n",
    "from vllm import LLM, SamplingParams\n",
    "\n",
    "# LLM\n",
    "llm = LLM(model=\"iamjoon/Llama-3-ESG-BINARY-CLASSIFIER\")"
   ]
  },
  {
   "cell_type": "code",
   "execution_count": 38,
   "id": "25bc87b0-27f5-4029-a47f-d43a412fa42f",
   "metadata": {},
   "outputs": [],
   "source": [
    "# 프롬프트 템플릿 준비\n",
    "template = string.Template(\"\"\"<|begin_of_text|><|start_header_id|>system<|end_header_id|>\n",
    "\n",
    "${system_content}<|eot_id|><|start_header_id|>user<|end_header_id|>\n",
    "\n",
    "${user_content}<|eot_id|><|start_header_id|>assistant<|end_header_id|>\n",
    "\"\"\")\n",
    "\n",
    "system_prompt = '''1. 상장사의 뉴스를 보고 ESG 관련 기사인지 판단하시오.\n",
    "2. ESG 각각에 대한 핵심 키워드는 아래의 10개 키워드를 참고해서 판단하시오.\n",
    "- 환경 (Environmental) : 탄소 배출 감소 (Carbon Emission Reduction), 재생 에너지 사용 (Renewable Energy Usage), 자원 효율성 (Resource Efficiency), 폐기물 관리 (Waste Management), 친환경 제품 개발 (Eco-Friendly Product Development), 기후 변화 대응 (Climate Change Mitigation), 오염 방지 (Pollution Prevention), 생물 다양성 보호 (Biodiversity Protection), 물 관리 (Water Management)\n",
    "순환 경제 (Circular Economy)\n",
    "- 사회 (Social) : 노동 인권 보호 (Labor Rights Protection), 다양성 및 포용성 (Diversity and Inclusion), 직원 안전 및 건강 (Employee Health & Safety), 공정한 노동 관행 (Fair Labor Practices), 커뮤니티 참여 및 개발 (Community Engagement & Development), 제품 책임 및 안전 (Product Responsibility & Safety), 공급망 책임 (Supply Chain Responsibility), 데이터 보호 및 프라이버시 (Data Protection & Privacy), 인재 개발 및 교육 (Talent Development & Education), 고객 만족도 (Customer Satisfaction)\n",
    "- 지배구조 (Governance) : 이사회 독립성 (Board Independence), 윤리적 경영 (Ethical Management), 주주 권리 보호 (Shareholder Rights Protection), 내부 통제 및 감사 (Internal Controls & Audits), 리스크 관리 (Risk Management), 투명한 정보 공개 (Transparent Disclosure), 기업 윤리 및 부패 방지 (Corporate Ethics & Anti-Corruption), 경영진 보상 구조 (Executive Compensation Structure), 컴플라이언스 (Regulatory Compliance), 이해관계자 참여 (Stakeholder Engagement)\n",
    "3. 입력이 주어지면 근거를 작성하고 ESG 관련 기사이면 => True 아니면 => False를 작성합니다.\n",
    "4. 답변은 항상 '=> True' 또는 '=> False'로 끝나야 하며 그 뒤에 아무 것도 적지마세요.\n",
    "5. 지역의 정책이나 장소에 대한 내용이거나, 개인의 사건과 같이 특정 기업에 대한 이야기가 아닌 경우에는 아니라고 판단하세요. 저는 상장 '기업'의 내용에 집중하고 있습니다.\n",
    "6. 기업의 경영권 분쟁과 같은 경우에는 단순히 개인의 이야기라고 볼 수 없습니다. 이 경우에도 ESG라고 판단할 수 있습니다.\n",
    "7. 개인적인 부고의 기사는 ESG와 관련이 없다고 판단하세요.'''\n",
    "\n",
    "user_prompt = '''LG에너지솔루션, 배터리 관리 분야 새 얼굴 '비 어라운드' 만들었다 LG에너지솔루션의 배터리 관리 토털 설루션(BMTS) 브랜드 'B.around'(비.어라운드) 로고. LG에너지솔루션 제공  잇단 화재로 전기차 배터리에 불안과 공포(전기차 포비아)가 확산한 가운데 LG에너지솔루션(LG엔솔)이 배터리 관리 토털 설루션(BMTS) 브랜드를 만들고 사업 확장에 나선다. 전기차 배터리 생산을 넘어 소프트웨어 부문 강화로 수익원을 넓히려는 움직임으로 풀이된다.  LG엔솔은 25일 '항상 고객의 곁에'(Be around your side)란 뜻의 BMTS 브랜드 'B.around'(비.어라운드)를 공개했다. 어떤 상황에서든 배터리 상태를 실시간 모니터링하는 LG엔솔 BMTS의 기술 경쟁력을 상징한다는 설명이다.  비.어라운드 제품에는 기존 배터리 관리 시스템(BMS)에 클라우드와 인공지능(AI) 기술을 결합해 화재방지 등을 위한 안전 진단, 퇴화·수명 예측 등을 더 쉽게 할 계획이다. 배터리 불량 유형을 사전에 진단하고 퇴화 상태를 점검하는 소프트웨어를 통해 오랫동안 쓸 수 있게 할 방침이다.  이달훈 LG에너지솔루션 BMS개발센터장 상무는 \"오랜 기간 안전 진단 시스템을 위해 노력했고 이제는 배터리 관리 소프트웨어 사업으로 확장해 배터리의 건강한 사용을 위해 설루션을 제공하는 기업이 되려고 한다\"고 말했다.  김청환 기자 chk@hankookilbo.com'''\n",
    "\n",
    "# 메시지 준비\n",
    "messages = [\n",
    "    {\"role\": \"system\", \"content\": system_prompt},\n",
    "    {\"role\": \"user\", \"content\": user_prompt}\n",
    "]\n",
    "\n",
    "# 프롬프트 생성\n",
    "prompt = template.safe_substitute({\n",
    "    \"system_content\": messages[0][\"content\"],\n",
    "    \"user_content\": messages[1][\"content\"]\n",
    "})"
   ]
  },
  {
   "cell_type": "code",
   "execution_count": 39,
   "id": "1393b72a-c6ef-45d7-b821-a2daff8b0a35",
   "metadata": {},
   "outputs": [],
   "source": [
    "prompt = prompt.strip() + '근거:'"
   ]
  },
  {
   "cell_type": "code",
   "execution_count": 40,
   "id": "15457113-1421-488c-82e8-8126111dc1e9",
   "metadata": {},
   "outputs": [
    {
     "name": "stdout",
     "output_type": "stream",
     "text": [
      "<|begin_of_text|><|start_header_id|>system<|end_header_id|>\n",
      "\n",
      "1. 상장사의 뉴스를 보고 ESG 관련 기사인지 판단하시오.\n",
      "2. ESG 각각에 대한 핵심 키워드는 아래의 10개 키워드를 참고해서 판단하시오.\n",
      "- 환경 (Environmental) : 탄소 배출 감소 (Carbon Emission Reduction), 재생 에너지 사용 (Renewable Energy Usage), 자원 효율성 (Resource Efficiency), 폐기물 관리 (Waste Management), 친환경 제품 개발 (Eco-Friendly Product Development), 기후 변화 대응 (Climate Change Mitigation), 오염 방지 (Pollution Prevention), 생물 다양성 보호 (Biodiversity Protection), 물 관리 (Water Management)\n",
      "순환 경제 (Circular Economy)\n",
      "- 사회 (Social) : 노동 인권 보호 (Labor Rights Protection), 다양성 및 포용성 (Diversity and Inclusion), 직원 안전 및 건강 (Employee Health & Safety), 공정한 노동 관행 (Fair Labor Practices), 커뮤니티 참여 및 개발 (Community Engagement & Development), 제품 책임 및 안전 (Product Responsibility & Safety), 공급망 책임 (Supply Chain Responsibility), 데이터 보호 및 프라이버시 (Data Protection & Privacy), 인재 개발 및 교육 (Talent Development & Education), 고객 만족도 (Customer Satisfaction)\n",
      "- 지배구조 (Governance) : 이사회 독립성 (Board Independence), 윤리적 경영 (Ethical Management), 주주 권리 보호 (Shareholder Rights Protection), 내부 통제 및 감사 (Internal Controls & Audits), 리스크 관리 (Risk Management), 투명한 정보 공개 (Transparent Disclosure), 기업 윤리 및 부패 방지 (Corporate Ethics & Anti-Corruption), 경영진 보상 구조 (Executive Compensation Structure), 컴플라이언스 (Regulatory Compliance), 이해관계자 참여 (Stakeholder Engagement)\n",
      "3. 입력이 주어지면 근거를 작성하고 ESG 관련 기사이면 => True 아니면 => False를 작성합니다.\n",
      "4. 답변은 항상 '=> True' 또는 '=> False'로 끝나야 하며 그 뒤에 아무 것도 적지마세요.\n",
      "5. 지역의 정책이나 장소에 대한 내용이거나, 개인의 사건과 같이 특정 기업에 대한 이야기가 아닌 경우에는 아니라고 판단하세요. 저는 상장 '기업'의 내용에 집중하고 있습니다.\n",
      "6. 기업의 경영권 분쟁과 같은 경우에는 단순히 개인의 이야기라고 볼 수 없습니다. 이 경우에도 ESG라고 판단할 수 있습니다.\n",
      "7. 개인적인 부고의 기사는 ESG와 관련이 없다고 판단하세요.<|eot_id|><|start_header_id|>user<|end_header_id|>\n",
      "\n",
      "LG에너지솔루션, 배터리 관리 분야 새 얼굴 '비 어라운드' 만들었다 LG에너지솔루션의 배터리 관리 토털 설루션(BMTS) 브랜드 'B.around'(비.어라운드) 로고. LG에너지솔루션 제공  잇단 화재로 전기차 배터리에 불안과 공포(전기차 포비아)가 확산한 가운데 LG에너지솔루션(LG엔솔)이 배터리 관리 토털 설루션(BMTS) 브랜드를 만들고 사업 확장에 나선다. 전기차 배터리 생산을 넘어 소프트웨어 부문 강화로 수익원을 넓히려는 움직임으로 풀이된다.  LG엔솔은 25일 '항상 고객의 곁에'(Be around your side)란 뜻의 BMTS 브랜드 'B.around'(비.어라운드)를 공개했다. 어떤 상황에서든 배터리 상태를 실시간 모니터링하는 LG엔솔 BMTS의 기술 경쟁력을 상징한다는 설명이다.  비.어라운드 제품에는 기존 배터리 관리 시스템(BMS)에 클라우드와 인공지능(AI) 기술을 결합해 화재방지 등을 위한 안전 진단, 퇴화·수명 예측 등을 더 쉽게 할 계획이다. 배터리 불량 유형을 사전에 진단하고 퇴화 상태를 점검하는 소프트웨어를 통해 오랫동안 쓸 수 있게 할 방침이다.  이달훈 LG에너지솔루션 BMS개발센터장 상무는 \"오랜 기간 안전 진단 시스템을 위해 노력했고 이제는 배터리 관리 소프트웨어 사업으로 확장해 배터리의 건강한 사용을 위해 설루션을 제공하는 기업이 되려고 한다\"고 말했다.  김청환 기자 chk@hankookilbo.com<|eot_id|><|start_header_id|>assistant<|end_header_id|>근거:\n"
     ]
    }
   ],
   "source": [
    "print(prompt)"
   ]
  },
  {
   "cell_type": "code",
   "execution_count": 41,
   "id": "fc10f755-7836-4539-9a3c-7dceb0f76d01",
   "metadata": {},
   "outputs": [
    {
     "name": "stderr",
     "output_type": "stream",
     "text": [
      "Processed prompts: 100%|██████████| 1/1 [00:02<00:00,  2.62s/it, est. speed input: 381.03 toks/s, output: 79.03 toks/s]"
     ]
    },
    {
     "name": "stdout",
     "output_type": "stream",
     "text": [
      "\n",
      " LG에너지솔루션이 배터리 관리 분야에서 새로운 브랜드 'B.around'을 출시하고, 소프트웨어 부문 강화를 통해 수익원을 넓히려는 움직임은 ESG와 관련이 있습니다. 첫째, 환경 측면에서 배터리 관리 기술을 통해 전기차 배터리의 안전성을 높이고 화재 방지 및 퇴화 예측을 통해 자원 효율성을 개선하려는 노력은 환경 보호와 관련이 있습니다. 둘째, 사회적 측면에서는 배터리 관리 소프트웨어를 통해 배터리의 건강한 사용을 촉진하고, 고객에게 안전한 제품을 제공하려는 노력은 제품 책임 및 안전과 관련이 있습니다. 마지막으로 지배구조 측면에서는 기술 혁신을 통해 기업의 책임 있는 경영을 보여주는 사례로, ESG의 지배구조 원칙을 따르는 행보입니다. \n",
      "=> True\n"
     ]
    },
    {
     "name": "stderr",
     "output_type": "stream",
     "text": [
      "\n"
     ]
    }
   ],
   "source": [
    "# 샘플링 파라미터 설정\n",
    "sampling_params = SamplingParams(\n",
    "    temperature=0,\n",
    "    max_tokens=1024,\n",
    "    stop=[\"\\n<|end_of_text|>\", \"<|eot_id|>\"],  # 문자열로 중지 토큰 지정\n",
    "    repetition_penalty=1.0\n",
    ")\n",
    "\n",
    "# 생성\n",
    "outputs = llm.generate([prompt], sampling_params)\n",
    "\n",
    "# 결과 출력\n",
    "for output in outputs:\n",
    "    print()\n",
    "    print(output.outputs[0].text)"
   ]
  },
  {
   "cell_type": "code",
   "execution_count": 20,
   "id": "f7acab77-978c-4be7-b862-655381f1fd4a",
   "metadata": {},
   "outputs": [
    {
     "name": "stdout",
     "output_type": "stream",
     "text": [
      "--2024-12-03 13:26:10--  https://raw.githubusercontent.com/llm-fine-tuning/LLaMA-Factory/refs/heads/main/data/esg_binary_classification_test.json\n",
      "Resolving raw.githubusercontent.com (raw.githubusercontent.com)... 185.199.110.133, 185.199.109.133, 185.199.108.133, ...\n",
      "Connecting to raw.githubusercontent.com (raw.githubusercontent.com)|185.199.110.133|:443... connected.\n",
      "HTTP request sent, awaiting response... "
     ]
    },
    {
     "name": "stderr",
     "output_type": "stream",
     "text": [
      "huggingface/tokenizers: The current process just got forked, after parallelism has already been used. Disabling parallelism to avoid deadlocks...\n",
      "To disable this warning, you can either:\n",
      "\t- Avoid using `tokenizers` before the fork if possible\n",
      "\t- Explicitly set the environment variable TOKENIZERS_PARALLELISM=(true | false)\n"
     ]
    },
    {
     "name": "stdout",
     "output_type": "stream",
     "text": [
      "200 OK\n",
      "Length: 2728282 (2.6M) [text/plain]\n",
      "Saving to: ‘esg_binary_classification_test.json’\n",
      "\n",
      "esg_binary_classifi 100%[===================>]   2.60M  11.3MB/s    in 0.2s    \n",
      "\n",
      "2024-12-03 13:26:11 (11.3 MB/s) - ‘esg_binary_classification_test.json’ saved [2728282/2728282]\n",
      "\n"
     ]
    }
   ],
   "source": [
    "!wget https://raw.githubusercontent.com/llm-fine-tuning/LLaMA-Factory/refs/heads/main/data/esg_binary_classification_test.json"
   ]
  },
  {
   "cell_type": "code",
   "execution_count": 21,
   "id": "d8216c12-1ac1-4f4f-b636-c0844205090f",
   "metadata": {},
   "outputs": [],
   "source": [
    "import pandas as pd\n",
    "\n",
    "df = pd.read_json('esg_binary_classification_test.json')"
   ]
  },
  {
   "cell_type": "code",
   "execution_count": 22,
   "id": "d323f8c5-d91f-4156-811c-b100ce3cacc0",
   "metadata": {},
   "outputs": [
    {
     "data": {
      "text/html": [
       "<div>\n",
       "<style scoped>\n",
       "    .dataframe tbody tr th:only-of-type {\n",
       "        vertical-align: middle;\n",
       "    }\n",
       "\n",
       "    .dataframe tbody tr th {\n",
       "        vertical-align: top;\n",
       "    }\n",
       "\n",
       "    .dataframe thead th {\n",
       "        text-align: right;\n",
       "    }\n",
       "</style>\n",
       "<table border=\"1\" class=\"dataframe\">\n",
       "  <thead>\n",
       "    <tr style=\"text-align: right;\">\n",
       "      <th></th>\n",
       "      <th>instruction</th>\n",
       "      <th>input</th>\n",
       "      <th>output</th>\n",
       "    </tr>\n",
       "  </thead>\n",
       "  <tbody>\n",
       "    <tr>\n",
       "      <th>0</th>\n",
       "      <td>\"월남쌈 대신 '비비고' 만두 먹고 CGV서 영화 봐요\"…'베트남 젠지' 홀린 CJ...</td>\n",
       "      <td></td>\n",
       "      <td>근거: 이 기사는 CJ그룹이 베트남에서 개최한 'CJ K FESTA'라는 K컬처 축...</td>\n",
       "    </tr>\n",
       "    <tr>\n",
       "      <th>1</th>\n",
       "      <td>KDI \"한국경제 부진 지속…수출 위축에 내수도 둔화\" 국책연구원인 한국개발연구원,...</td>\n",
       "      <td></td>\n",
       "      <td>근거: 이 기사는 국책연구원인 한국개발연구원(KDI)의 한국 경제에 대한 분석으로,...</td>\n",
       "    </tr>\n",
       "    <tr>\n",
       "      <th>2</th>\n",
       "      <td>개성 가득 이색 팝업 ’글로스튜디오’ 체험하는 배우 이이경 (서울=뉴스1) = BA...</td>\n",
       "      <td></td>\n",
       "      <td>근거: 이 기사는 BAT로스만스의 이색 팝업 '글로 스튜디오' 오픈 행사와 배우 이...</td>\n",
       "    </tr>\n",
       "    <tr>\n",
       "      <th>3</th>\n",
       "      <td>삼성전자 노조, 사측에 화해 손짓…\"파업 상황 조속 해결\" 전국삼성전자노동조합 조합...</td>\n",
       "      <td></td>\n",
       "      <td>근거: 해당 기사는 삼성전자의 노조와 사측 간의 파업 및 대화 제안에 관한 내용으로...</td>\n",
       "    </tr>\n",
       "    <tr>\n",
       "      <th>4</th>\n",
       "      <td>‘클라우드’ 돕는 트레이너…‘AI’까지 넘본다 [천억클럽] 인공지능(AI) 시대, ...</td>\n",
       "      <td></td>\n",
       "      <td>근거: 이 기사는 주로 클라우드 MSP(Managed Service Provider...</td>\n",
       "    </tr>\n",
       "    <tr>\n",
       "      <th>...</th>\n",
       "      <td>...</td>\n",
       "      <td>...</td>\n",
       "      <td>...</td>\n",
       "    </tr>\n",
       "    <tr>\n",
       "      <th>927</th>\n",
       "      <td>부산시 전기차 구매 보조금 지원대상 확대 [KBS 부산]부산시가 올해 상반기 전기자...</td>\n",
       "      <td></td>\n",
       "      <td>근거: 부산시 전기차 구매 보조금 지원 대상 확대는 특정 기업과 관련된 이야기가 아...</td>\n",
       "    </tr>\n",
       "    <tr>\n",
       "      <th>928</th>\n",
       "      <td>KT&amp;G “세계적인 의결권자문사의 이사회 제안 안건 ‘찬성 권고’ 대환영” 글로벌 ...</td>\n",
       "      <td></td>\n",
       "      <td>근거: 해당 기사는 KT&amp;G의 주주총회와 이사회 제안에 대한 의결권 자문사의 권고와...</td>\n",
       "    </tr>\n",
       "    <tr>\n",
       "      <th>929</th>\n",
       "      <td>서산 농작물 창고서 불…2백만 원 피해 [KBS 대전]오늘(27일) 오전 10시쯤 ...</td>\n",
       "      <td></td>\n",
       "      <td>근거: 이 기사는 서산의 농작물 창고에서 발생한 화재 사건에 관한 것으로, 특정 기...</td>\n",
       "    </tr>\n",
       "    <tr>\n",
       "      <th>930</th>\n",
       "      <td>현대차, 신형 코나 전기차 모델 첫 공개 자동요약 기사 제목과 주요 문장을 기반으로...</td>\n",
       "      <td></td>\n",
       "      <td>근거: 현대차가 코나의 전기차 모델 '디 올 뉴 코나 일렉트릭'을 공개한 것은 ES...</td>\n",
       "    </tr>\n",
       "    <tr>\n",
       "      <th>931</th>\n",
       "      <td>기아, 전기차 앞세워 中 시장 재도약 추진… ‘EV5·6·9’ 물량공세에 현지 생산...</td>\n",
       "      <td></td>\n",
       "      <td>근거: 기아가 전기차를 앞세워 중국 시장에 진출하는 것은 ESG와 관련이 있습니다....</td>\n",
       "    </tr>\n",
       "  </tbody>\n",
       "</table>\n",
       "<p>932 rows × 3 columns</p>\n",
       "</div>"
      ],
      "text/plain": [
       "                                           instruction input  \\\n",
       "0    \"월남쌈 대신 '비비고' 만두 먹고 CGV서 영화 봐요\"…'베트남 젠지' 홀린 CJ...         \n",
       "1    KDI \"한국경제 부진 지속…수출 위축에 내수도 둔화\" 국책연구원인 한국개발연구원,...         \n",
       "2    개성 가득 이색 팝업 ’글로스튜디오’ 체험하는 배우 이이경 (서울=뉴스1) = BA...         \n",
       "3    삼성전자 노조, 사측에 화해 손짓…\"파업 상황 조속 해결\" 전국삼성전자노동조합 조합...         \n",
       "4    ‘클라우드’ 돕는 트레이너…‘AI’까지 넘본다 [천억클럽] 인공지능(AI) 시대, ...         \n",
       "..                                                 ...   ...   \n",
       "927  부산시 전기차 구매 보조금 지원대상 확대 [KBS 부산]부산시가 올해 상반기 전기자...         \n",
       "928  KT&G “세계적인 의결권자문사의 이사회 제안 안건 ‘찬성 권고’ 대환영” 글로벌 ...         \n",
       "929  서산 농작물 창고서 불…2백만 원 피해 [KBS 대전]오늘(27일) 오전 10시쯤 ...         \n",
       "930  현대차, 신형 코나 전기차 모델 첫 공개 자동요약 기사 제목과 주요 문장을 기반으로...         \n",
       "931  기아, 전기차 앞세워 中 시장 재도약 추진… ‘EV5·6·9’ 물량공세에 현지 생산...         \n",
       "\n",
       "                                                output  \n",
       "0    근거: 이 기사는 CJ그룹이 베트남에서 개최한 'CJ K FESTA'라는 K컬처 축...  \n",
       "1    근거: 이 기사는 국책연구원인 한국개발연구원(KDI)의 한국 경제에 대한 분석으로,...  \n",
       "2    근거: 이 기사는 BAT로스만스의 이색 팝업 '글로 스튜디오' 오픈 행사와 배우 이...  \n",
       "3    근거: 해당 기사는 삼성전자의 노조와 사측 간의 파업 및 대화 제안에 관한 내용으로...  \n",
       "4    근거: 이 기사는 주로 클라우드 MSP(Managed Service Provider...  \n",
       "..                                                 ...  \n",
       "927  근거: 부산시 전기차 구매 보조금 지원 대상 확대는 특정 기업과 관련된 이야기가 아...  \n",
       "928  근거: 해당 기사는 KT&G의 주주총회와 이사회 제안에 대한 의결권 자문사의 권고와...  \n",
       "929  근거: 이 기사는 서산의 농작물 창고에서 발생한 화재 사건에 관한 것으로, 특정 기...  \n",
       "930  근거: 현대차가 코나의 전기차 모델 '디 올 뉴 코나 일렉트릭'을 공개한 것은 ES...  \n",
       "931  근거: 기아가 전기차를 앞세워 중국 시장에 진출하는 것은 ESG와 관련이 있습니다....  \n",
       "\n",
       "[932 rows x 3 columns]"
      ]
     },
     "execution_count": 22,
     "metadata": {},
     "output_type": "execute_result"
    }
   ],
   "source": [
    "df"
   ]
  },
  {
   "cell_type": "code",
   "execution_count": 23,
   "id": "32cc0f7c-6f97-4863-acce-485b5252ad18",
   "metadata": {},
   "outputs": [],
   "source": [
    "inputs = df['instruction'].to_list()"
   ]
  },
  {
   "cell_type": "code",
   "execution_count": 42,
   "id": "2ad30db3-7851-4bab-b45c-b4aac6ff938d",
   "metadata": {},
   "outputs": [],
   "source": [
    "def make_prompt(system_prompt, news_article):\n",
    "    # 프롬프트 템플릿 준비\n",
    "    template = string.Template(\"\"\"<|begin_of_text|><|start_header_id|>system<|end_header_id|>\n",
    "    \n",
    "${system_content}<|eot_id|><|start_header_id|>user<|end_header_id|>\n",
    "    \n",
    "${user_content}<|eot_id|><|start_header_id|>assistant<|end_header_id|>\n",
    "\"\"\")\n",
    "    \n",
    "    user_prompt = news_article\n",
    "    \n",
    "    # 메시지 준비\n",
    "    messages = [\n",
    "        {\"role\": \"system\", \"content\": system_prompt},\n",
    "        {\"role\": \"user\", \"content\": user_prompt}\n",
    "    ]\n",
    "    \n",
    "    # 프롬프트 생성\n",
    "    prompt = template.safe_substitute({\n",
    "        \"system_content\": messages[0][\"content\"],\n",
    "        \"user_content\": messages[1][\"content\"]\n",
    "    })\n",
    "\n",
    "    prompt = prompt.strip() + \"근거:\"\n",
    "    return prompt"
   ]
  },
  {
   "cell_type": "code",
   "execution_count": 43,
   "id": "0a63fd9f-b005-4a4d-825c-d2be4e6900bd",
   "metadata": {},
   "outputs": [
    {
     "name": "stdout",
     "output_type": "stream",
     "text": [
      "<|begin_of_text|><|start_header_id|>system<|end_header_id|>\n",
      "    \n",
      "1. 상장사의 뉴스를 보고 ESG 관련 기사인지 판단하시오.\n",
      "2. ESG 각각에 대한 핵심 키워드는 아래의 10개 키워드를 참고해서 판단하시오.\n",
      "- 환경 (Environmental) : 탄소 배출 감소 (Carbon Emission Reduction), 재생 에너지 사용 (Renewable Energy Usage), 자원 효율성 (Resource Efficiency), 폐기물 관리 (Waste Management), 친환경 제품 개발 (Eco-Friendly Product Development), 기후 변화 대응 (Climate Change Mitigation), 오염 방지 (Pollution Prevention), 생물 다양성 보호 (Biodiversity Protection), 물 관리 (Water Management)\n",
      "순환 경제 (Circular Economy)\n",
      "- 사회 (Social) : 노동 인권 보호 (Labor Rights Protection), 다양성 및 포용성 (Diversity and Inclusion), 직원 안전 및 건강 (Employee Health & Safety), 공정한 노동 관행 (Fair Labor Practices), 커뮤니티 참여 및 개발 (Community Engagement & Development), 제품 책임 및 안전 (Product Responsibility & Safety), 공급망 책임 (Supply Chain Responsibility), 데이터 보호 및 프라이버시 (Data Protection & Privacy), 인재 개발 및 교육 (Talent Development & Education), 고객 만족도 (Customer Satisfaction)\n",
      "- 지배구조 (Governance) : 이사회 독립성 (Board Independence), 윤리적 경영 (Ethical Management), 주주 권리 보호 (Shareholder Rights Protection), 내부 통제 및 감사 (Internal Controls & Audits), 리스크 관리 (Risk Management), 투명한 정보 공개 (Transparent Disclosure), 기업 윤리 및 부패 방지 (Corporate Ethics & Anti-Corruption), 경영진 보상 구조 (Executive Compensation Structure), 컴플라이언스 (Regulatory Compliance), 이해관계자 참여 (Stakeholder Engagement)\n",
      "3. 입력이 주어지면 근거를 작성하고 ESG 관련 기사이면 => True 아니면 => False를 작성합니다.\n",
      "4. 답변은 항상 '=> True' 또는 '=> False'로 끝나야 하며 그 뒤에 아무 것도 적지마세요.\n",
      "5. 지역의 정책이나 장소에 대한 내용이거나, 개인의 사건과 같이 특정 기업에 대한 이야기가 아닌 경우에는 아니라고 판단하세요. 저는 상장 '기업'의 내용에 집중하고 있습니다.\n",
      "6. 기업의 경영권 분쟁과 같은 경우에는 단순히 개인의 이야기라고 볼 수 없습니다. 이 경우에도 ESG라고 판단할 수 있습니다.\n",
      "7. 개인적인 부고의 기사는 ESG와 관련이 없다고 판단하세요.<|eot_id|><|start_header_id|>user<|end_header_id|>\n",
      "    \n",
      "\"월남쌈 대신 '비비고' 만두 먹고 CGV서 영화 봐요\"…'베트남 젠지' 홀린 CJ CJ그룹은 지난 10일부터 9월 1일까지 베트남에서 K컬처 축제 'CJ K FESTA'를 연다.ⓒ 뉴스1/김진희 기자.  (호찌민=뉴스1) 김진희 기자 = \"CJ(001040) 로고가 화려하고 예쁩니다. CGV를 통해 CJ를 알게 됐는데 젊고 역동적이어서 '젠지' 세대에 적합한 이미지라는 생각이 듭니다.\" -화이빠오(24·남)  지난 15~16일(현지시간) 베트남 호찌민 일대에서 열린 'CJ K FESTA'를 찾은 베트남 현지인들은 극찬을 쏟아냈다.  CJ그룹은 베트남에 진출한 계열사를 총동원해 CJ K FESTA를 올해 처음으로 개최했다. 이번 축제는 △K푸드 Week(8월 10~16일) △K스포츠 Week(8월 17~23일) △K무비 Week(8월 24일~9월 1일) 등 3가지 테마로 구성됐다.  CJ는 호찌민 소재 유명 마트와 쇼핑몰 내 CGV 매장에서 푸드쇼를 운영하며 브랜드 홍보에 적극 나섰다.  CJ그룹은 지난 10일부터 9월 1일까지 베트남에서 K컬처 축제 'CJ K FESTA'를 연다.ⓒ 뉴스1/김진희 기자.  15일 오후 호찌민 소재 메가마켓에는 더운 날씨임에도 마트 외부 공간에 사람들로 북적였다. CJ 제품을 선보이는 푸드트럭을 구경하기 위해 찾은 이들이었다. 한국과 달리 베트남에서는 푸드트럭이 생소하다고 한다.  이날 CJ는 CJ제일제당 비비고의 해산물 만두, 호떡, 김스낵과 뚜레쥬르의 빵을 선보였다. CJ제일제당의 자회사인 베트남 현지 냉동식품기업 '까우제'(Cautre)의 제품도 만나볼 수 있었다.  호찌민 시민 화이빠오는 \"예전에 만두를 많이 먹어 봤지만 비비고 만두는 독특하고 맛있다\"며 \"특히 푸드트럭을 처음 봐서 신기한데, 이렇게 화려하게 시식·광고하는 건 처음 본다\"고 말했다.  CJ그룹은 지난 10일부터 9월 1일까지 베트남에서 K컬처 축제 'CJ K FESTA'를 연다.ⓒ 뉴스1/김진희 기자.  아이와 함께 푸드트럭을 방문한 주부 흐엉(34·여)은 \"거주하고 있는 아파트 로비에 뚜레쥬르 매장이 있어서 평소에도 많이 애용해 CJ를 알고 있었다\"며 \"비비고 만두, 김치는 물론 CGV 등 CJ 계열사를 평소 많이 애용하는 편\"이라고 언급했다  메가마켓 내 푸드트럭 행사는 지난 11~15일 오후 4시부터 오후 9시 30분까지 운영됐는데 하루 방문객이 최대 1000명에 달했다고 한다.  CJ는 호찌민 내 재래시장, 대공원, 호수공원 등 총 10곳에서 푸드트럭을 운영했다.  CJ그룹은 지난 10일부터 9월 1일까지 베트남에서 K컬처 축제 'CJ K FESTA'를 연다.ⓒ 뉴스1/김진희 기자.  16일 이마트 고밥점에서 열린 쿠킹쇼 행사장에도 CJ 제품을 체험하기 위해 온 방문객들로 분주했다.  CJ는 단순히 자사 제품을 선보이는 것이 아니라 셰프, 스타 유튜버 등을 초청해 현지화된 음식을 제공해 눈길을 끌었다.  베트남에서 '한꿕 브로스'(Han Quoc Bros·한국 형제들) 채널을 운영, 100만 팔로워를 보유한 한국인 인기 유튜버 최종락 씨는 이날 셰프로 나섰다.  최 씨는 \"CJ 비비고 만두, 짜조, 김과자를 베트남식으로 퓨전화해 선보였는데 현지 분들 반응이 너무 좋아 뿌듯했다\"며 \"한국인이 한국 음식을 소개하는데 너무 좋아해 주셔서 감사하다\"고 밝혔다.  이날 행사장을 찾은 황 모 씨(57·남)는 \"비비고 만두를 처음 먹어봤는데 베트남 음식이 아닌데도 잘 맞다\"며 \"비비고 만두가 베트남 유명 요리인 월남쌈을 대체할 수 있을 것 같다\"고 엄지를 치켜세웠다.  그는 이 같은 행사 취지에 대해서도 \"브랜딩 활동이 너무 신선하다\"며 \"CJ 디자인이 눈에 띄어서 굉장히 젊어 보인다\"고 말했다.  CJ그룹은 지난 10일부터 9월 1일까지 베트남에서 K컬처 축제 'CJ K FESTA'를 연다.ⓒ 뉴스1/김진희 기자.  같은 날 호찌민시 소재 반한몰 내 CGV 매장에서는 행사 대미를 장식했다.  17일 열리는 '2024 CJ 전국 청소년 태권도 선수권 대회'를 기념해 태권도 선수들을 초청해 격파, 쇼 무대를 꾸며 분위기를 띄웠다. 고객들은 CJ 제품을 맛보면서 태권도라는 K-콘텐츠를 즐겼다.  이와 함께 셰프들이 직접 CJ 제품을 활용한 메뉴를 선보이며 브랜드 홍보 효과를 동시에 누릴 수 있었다.  CJ그룹은 지난 10일부터 9월 1일까지 베트남에서 K컬처 축제 'CJ K FESTA'를 연다.ⓒ 뉴스1/김진희 기자.  CJ는 'CJ K FESTA'를 정례화해 베트남에서 'K-블랙프라이데이'를 구축할 방침이다. 태권도 선수권 대회를 전후로 페스타를 열고 CJ 계열사 5개 브랜드를 대상으로 베트남 전역에서 대규모 할인 행사를 열 계획이다.  이를 통해 베트남 내 CJ 브랜드를 제고하고 CJ가 'K컬처 대표 브랜드'라는 이미지를 각인시킨다는 전략이다.  CJ 관계자는 \"CJ가 베트남에 진출한 지 약 25년 됐는데 이제는 CJ 그룹 브랜드를 알리는 차원을 넘어 유기적으로 활용해 시너지를 추구할 것\"이라며 \"CJ K FESTA를 베트남에서 가장 사랑받는 K컬처 대표 축제로 만들겠다\"고 강조했다.  jinny1@news1.kr<|eot_id|><|start_header_id|>assistant<|end_header_id|>근거:\n"
     ]
    }
   ],
   "source": [
    "prompt = make_prompt(system_prompt, inputs[0])\n",
    "print(prompt)"
   ]
  },
  {
   "cell_type": "code",
   "execution_count": 44,
   "id": "58ae469c-d5a3-4bb5-ae9e-c50b4f9bfd21",
   "metadata": {},
   "outputs": [],
   "source": [
    "prompts = []\n",
    "for input in inputs:\n",
    "    prompts.append(make_prompt(system_prompt, input))"
   ]
  },
  {
   "cell_type": "markdown",
   "id": "6135f826-b827-4bf4-9cfb-118cc617e2f8",
   "metadata": {},
   "source": [
    "## 다수의 데이터 호출"
   ]
  },
  {
   "cell_type": "code",
   "execution_count": 45,
   "id": "d6482ccb-e801-43c5-a414-74d38072768e",
   "metadata": {},
   "outputs": [
    {
     "name": "stderr",
     "output_type": "stream",
     "text": [
      "Processed prompts: 100%|██████████| 5/5 [00:02<00:00,  2.16it/s, est. speed input: 3656.48 toks/s, output: 200.21 toks/s]\n"
     ]
    }
   ],
   "source": [
    "results = llm.generate(prompts[:5], sampling_params)"
   ]
  },
  {
   "cell_type": "code",
   "execution_count": 46,
   "id": "6e5d6ae0-b6b0-4c32-82e3-327eb0527e3c",
   "metadata": {},
   "outputs": [
    {
     "name": "stdout",
     "output_type": "stream",
     "text": [
      " 이 기사는 CJ그룹이 베트남에서 'CJ K FESTA'라는 문화 축제를 개최하고 브랜드 홍보를 강화하는 내용으로, ESG와 직접적인 관련이 없습니다. 이 기사는 기업의 마케팅 및 브랜드 전략에 관한 내용으로, 환경, 사회, 지배구조와 관련된 ESG 요소와는 연관이 없습니다. \n",
      "=> False\n",
      "--\n",
      " 이 기사는 한국개발연구원(KDI)이 한국 경제의 부진을 진단한 내용으로, 특정 기업에 대한 이야기가 아닙니다. 따라서 ESG와 관련이 없습니다. \n",
      "=> False\n",
      "--\n",
      " 이 기사는 BAT로스만스가 서울 중구에 '글로스튜디오'라는 팝업 체험 공간을 오픈했다는 내용으로, 이는 기업의 마케팅 및 홍보 활동에 관한 이야기입니다. ESG와 관련된 환경, 사회, 지배구조 측면의 핵심 키워드와 직접적인 관련이 없습니다. 따라서 ESG 관련 기사로 판단하기 어렵습니다. \n",
      "=> False\n",
      "--\n",
      " 이 기사는 삼성전자 노조의 파업과 관련된 내용으로, 이는 ESG의 사회(Social) 측면과 관련이 있습니다. 노동 인권 보호(Labor Rights Protection)와 공정한 노동 관행(Fair Labor Practices)과 관련된 문제가 포함되어 있습니다. 노조의 활동과 임금 교섭, 파업은 노동자들의 권리와 복지를 위한 활동으로, ESG의 사회적 책임과 관련이 있습니다. \n",
      "=> True\n",
      "--\n",
      " 이 기사는 베스핀글로벌이라는 기업의 클라우드 서비스와 AI 기술에 대한 내용을 다루고 있습니다. ESG와 관련된 키워드 중 환경, 사회, 지배구조 측면에서 직접적인 관련성을 찾기 어렵습니다. 클라우드 서비스와 AI 기술은 기업의 운영 효율성과 관련이 있을 수 있지만, 기사에서 명확하게 ESG 원칙과 연결되는 부분은 언급되지 않았습니다. 따라서 이 기사는 ESG 관련 기사로 판단하기 어렵습니다. \n",
      "=> False\n",
      "--\n"
     ]
    }
   ],
   "source": [
    "for result in results:\n",
    "    print(result.outputs[0].text)\n",
    "    print('--')"
   ]
  },
  {
   "cell_type": "code",
   "execution_count": 47,
   "id": "30c9fb72-37d5-40c7-9683-ef5056d519f6",
   "metadata": {},
   "outputs": [
    {
     "name": "stderr",
     "output_type": "stream",
     "text": [
      "Processed prompts: 100%|██████████| 932/932 [01:44<00:00,  8.91it/s, est. speed input: 10958.67 toks/s, output: 982.79 toks/s]\n"
     ]
    }
   ],
   "source": [
    "results = llm.generate(prompts, sampling_params)"
   ]
  },
  {
   "cell_type": "code",
   "execution_count": 57,
   "id": "5e213879-03c9-4ea5-bcce-2f8ece4be137",
   "metadata": {},
   "outputs": [],
   "source": [
    "labels = []\n",
    "for label in df['output'].to_list():\n",
    "    labels.append(label.split('=>')[1].strip())\n",
    "\n",
    "preds = []\n",
    "for pred in results:\n",
    "    preds.append(pred.outputs[0].text.split('=>')[1].strip())"
   ]
  },
  {
   "cell_type": "code",
   "execution_count": 58,
   "id": "b6a5ccc9-a179-4a3f-ac4b-f81a90d9b567",
   "metadata": {},
   "outputs": [
    {
     "data": {
      "text/plain": [
       "['False', 'False', 'False', 'True', 'False']"
      ]
     },
     "execution_count": 58,
     "metadata": {},
     "output_type": "execute_result"
    }
   ],
   "source": [
    "labels[:5]"
   ]
  },
  {
   "cell_type": "code",
   "execution_count": 59,
   "id": "a0bdf069-0879-4960-897f-8870350a28ac",
   "metadata": {},
   "outputs": [
    {
     "data": {
      "text/plain": [
       "['False', 'False', 'False', 'True', 'False']"
      ]
     },
     "execution_count": 59,
     "metadata": {},
     "output_type": "execute_result"
    }
   ],
   "source": [
    "preds[:5]"
   ]
  },
  {
   "cell_type": "code",
   "execution_count": 63,
   "id": "b453370d-0011-4aa9-b9ae-73923aa2fb8e",
   "metadata": {},
   "outputs": [
    {
     "name": "stdout",
     "output_type": "stream",
     "text": [
      "{'accuracy': 0.8927038626609443, 'f1_score': 0.9}\n"
     ]
    }
   ],
   "source": [
    "def calculate_metrics(labels, preds):\n",
    "    \"\"\"\n",
    "    정확도와 F1 점수를 계산하는 함수 (문자열 \"True\"/\"False\" 사용).\n",
    "    \n",
    "    Args:\n",
    "        labels (list): 실제 값 리스트 (\"True\"/\"False\").\n",
    "        preds (list): 예측 값 리스트 (\"True\"/\"False\").\n",
    "\n",
    "    Returns:\n",
    "        dict: 정확도와 F1 점수를 포함한 결과.\n",
    "    \"\"\"\n",
    "    # True Positive, False Positive, False Negative, True Negative 계산\n",
    "    tp = sum(1 for l, p in zip(labels, preds) if l == \"True\" and p == \"True\")\n",
    "    fp = sum(1 for l, p in zip(labels, preds) if l == \"False\" and p == \"True\")\n",
    "    fn = sum(1 for l, p in zip(labels, preds) if l == \"True\" and p == \"False\")\n",
    "    tn = sum(1 for l, p in zip(labels, preds) if l == \"False\" and p == \"False\")\n",
    "    \n",
    "    # Precision, Recall 계산\n",
    "    precision = tp / (tp + fp) if (tp + fp) > 0 else 0\n",
    "    recall = tp / (tp + fn) if (tp + fn) > 0 else 0\n",
    "    \n",
    "    # F1 Score 계산\n",
    "    f1_score = (2 * precision * recall) / (precision + recall) if (precision + recall) > 0 else 0\n",
    "    \n",
    "    # Accuracy 계산\n",
    "    accuracy = (tp + tn) / len(labels) if len(labels) > 0 else 0\n",
    "    \n",
    "    return {\"accuracy\": accuracy, \"f1_score\": f1_score}\n",
    "\n",
    "# 함수 호출\n",
    "metrics = calculate_metrics(labels, preds)\n",
    "print(metrics)"
   ]
  },
  {
   "cell_type": "markdown",
   "id": "91cd3602-86b1-47fa-968e-f0d1af566523",
   "metadata": {},
   "source": [
    "## 정답과 예측이 같은 경우"
   ]
  },
  {
   "cell_type": "code",
   "execution_count": 72,
   "id": "12ff80fb-68ed-4dc3-b142-0f199d31c815",
   "metadata": {},
   "outputs": [],
   "source": [
    "df['label'] = labels\n",
    "df['pred'] = preds"
   ]
  },
  {
   "cell_type": "code",
   "execution_count": 71,
   "id": "e2a363ec-0312-4394-acb5-785136a23d0e",
   "metadata": {},
   "outputs": [],
   "source": [
    "pred_reasons = ['근거:' + r.outputs[0].text for r in results]\n",
    "df['pred_reasons'] = pred_reasons "
   ]
  },
  {
   "cell_type": "code",
   "execution_count": 83,
   "id": "ca8d4c2e-48fb-4a05-84ae-68229166e9ab",
   "metadata": {
    "scrolled": true
   },
   "outputs": [
    {
     "name": "stdout",
     "output_type": "stream",
     "text": [
      "뉴스 기사\n",
      "\"월남쌈 대신 '비비고' 만두 먹고 CGV서 영화 봐요\"…'베트남 젠지' 홀린 CJ CJ그룹은 지난 10일부터 9월 1일까지 베트남에서 K컬처 축제 'CJ K FESTA'를 연다.ⓒ 뉴스1/김진희 기자.  (호찌민=뉴스1) 김진희 기자 = \"CJ(001040) 로고가 화려하고 예쁩니다. CGV를 통해 CJ를 알게 됐는데 젊고 역동적이어서 '젠지' 세대에 적합한 이미지라는 생각이 듭니다.\" -화이빠오(24·남)  지난 15~16일(현지시간) 베트남 호찌민 일대에서 열린 'CJ K FESTA'를 찾은 베트남 현지인들은 극찬을 쏟아냈다.  CJ그룹은 베트남에 진출한 계열사를 총동원해 CJ K FESTA를 올해 처음으로 개최했다. 이번 축제는 △K푸드 Week(8월 10~16일) △K스포츠 Week(8월 17~23일) △K무비 Week(8월 24일~9월 1일) 등 3가지 테마로 구성됐다.  CJ는 호찌민 소재 유명 마트와 쇼핑몰 내 CGV 매장에서 푸드쇼를 운영하며 브랜드 홍보에 적극 나섰다.  CJ그룹은 지난 10일부터 9월 1일까지 베트남에서 K컬처 축제 'CJ K FESTA'를 연다.ⓒ 뉴스1/김진희 기자.  15일 오후 호찌민 소재 메가마켓에는 더운 날씨임에도 마트 외부 공간에 사람들로 북적였다. CJ 제품을 선보이는 푸드트럭을 구경하기 위해 찾은 이들이었다. 한국과 달리 베트남에서는 푸드트럭이 생소하다고 한다.  이날 CJ는 CJ제일제당 비비고의 해산물 만두, 호떡, 김스낵과 뚜레쥬르의 빵을 선보였다. CJ제일제당의 자회사인 베트남 현지 냉동식품기업 '까우제'(Cautre)의 제품도 만나볼 수 있었다.  호찌민 시민 화이빠오는 \"예전에 만두를 많이 먹어 봤지만 비비고 만두는 독특하고 맛있다\"며 \"특히 푸드트럭을 처음 봐서 신기한데, 이렇게 화려하게 시식·광고하는 건 처음 본다\"고 말했다.  CJ그룹은 지난 10일부터 9월 1일까지 베트남에서 K컬처 축제 'CJ K FESTA'를 연다.ⓒ 뉴스1/김진희 기자.  아이와 함께 푸드트럭을 방문한 주부 흐엉(34·여)은 \"거주하고 있는 아파트 로비에 뚜레쥬르 매장이 있어서 평소에도 많이 애용해 CJ를 알고 있었다\"며 \"비비고 만두, 김치는 물론 CGV 등 CJ 계열사를 평소 많이 애용하는 편\"이라고 언급했다  메가마켓 내 푸드트럭 행사는 지난 11~15일 오후 4시부터 오후 9시 30분까지 운영됐는데 하루 방문객이 최대 1000명에 달했다고 한다.  CJ는 호찌민 내 재래시장, 대공원, 호수공원 등 총 10곳에서 푸드트럭을 운영했다.  CJ그룹은 지난 10일부터 9월 1일까지 베트남에서 K컬처 축제 'CJ K FESTA'를 연다.ⓒ 뉴스1/김진희 기자.  16일 이마트 고밥점에서 열린 쿠킹쇼 행사장에도 CJ 제품을 체험하기 위해 온 방문객들로 분주했다.  CJ는 단순히 자사 제품을 선보이는 것이 아니라 셰프, 스타 유튜버 등을 초청해 현지화된 음식을 제공해 눈길을 끌었다.  베트남에서 '한꿕 브로스'(Han Quoc Bros·한국 형제들) 채널을 운영, 100만 팔로워를 보유한 한국인 인기 유튜버 최종락 씨는 이날 셰프로 나섰다.  최 씨는 \"CJ 비비고 만두, 짜조, 김과자를 베트남식으로 퓨전화해 선보였는데 현지 분들 반응이 너무 좋아 뿌듯했다\"며 \"한국인이 한국 음식을 소개하는데 너무 좋아해 주셔서 감사하다\"고 밝혔다.  이날 행사장을 찾은 황 모 씨(57·남)는 \"비비고 만두를 처음 먹어봤는데 베트남 음식이 아닌데도 잘 맞다\"며 \"비비고 만두가 베트남 유명 요리인 월남쌈을 대체할 수 있을 것 같다\"고 엄지를 치켜세웠다.  그는 이 같은 행사 취지에 대해서도 \"브랜딩 활동이 너무 신선하다\"며 \"CJ 디자인이 눈에 띄어서 굉장히 젊어 보인다\"고 말했다.  CJ그룹은 지난 10일부터 9월 1일까지 베트남에서 K컬처 축제 'CJ K FESTA'를 연다.ⓒ 뉴스1/김진희 기자.  같은 날 호찌민시 소재 반한몰 내 CGV 매장에서는 행사 대미를 장식했다.  17일 열리는 '2024 CJ 전국 청소년 태권도 선수권 대회'를 기념해 태권도 선수들을 초청해 격파, 쇼 무대를 꾸며 분위기를 띄웠다. 고객들은 CJ 제품을 맛보면서 태권도라는 K-콘텐츠를 즐겼다.  이와 함께 셰프들이 직접 CJ 제품을 활용한 메뉴를 선보이며 브랜드 홍보 효과를 동시에 누릴 수 있었다.  CJ그룹은 지난 10일부터 9월 1일까지 베트남에서 K컬처 축제 'CJ K FESTA'를 연다.ⓒ 뉴스1/김진희 기자.  CJ는 'CJ K FESTA'를 정례화해 베트남에서 'K-블랙프라이데이'를 구축할 방침이다. 태권도 선수권 대회를 전후로 페스타를 열고 CJ 계열사 5개 브랜드를 대상으로 베트남 전역에서 대규모 할인 행사를 열 계획이다.  이를 통해 베트남 내 CJ 브랜드를 제고하고 CJ가 'K컬처 대표 브랜드'라는 이미지를 각인시킨다는 전략이다.  CJ 관계자는 \"CJ가 베트남에 진출한 지 약 25년 됐는데 이제는 CJ 그룹 브랜드를 알리는 차원을 넘어 유기적으로 활용해 시너지를 추구할 것\"이라며 \"CJ K FESTA를 베트남에서 가장 사랑받는 K컬처 대표 축제로 만들겠다\"고 강조했다.  jinny1@news1.kr\n",
      "----------------------------------------\n",
      "정답\n",
      "근거: 이 기사는 CJ그룹이 베트남에서 개최한 'CJ K FESTA'라는 K컬처 축제에 대한 내용으로, 주로 마케팅 활동과 브랜드 홍보에 중점을 두고 있습니다. 이는 ESG 중 사회(Social) 및 지배구조(Governance)와 일부 관련될 수 있습니다. 사회적 측면에서는 이러한 축제가 다양성 및 포용성을 증진하고 지역 사회와의 문화적 교류를 장려할 수 있습니다. 또한, 커뮤니티 참여 및 개발과도 연결될 수 있습니다. 하지만 이 기사의 주된 내용은 ESG의 핵심 요소와는 직접적으로 연결되기보다는 기업 마케팅 및 홍보 활동에 더 가깝습니다. 따라서 ESG와 관련이 없다고 판단됩니다. \n",
      "=> False\n",
      "----------------------------------------\n",
      "예측\n",
      "근거: 이 기사는 CJ그룹이 베트남에서 'CJ K FESTA'라는 문화 축제를 개최하고 브랜드 홍보를 강화하는 내용으로, ESG와 직접적인 관련이 없습니다. 이 기사는 기업의 마케팅 및 브랜드 전략에 관한 내용으로, 환경, 사회, 지배구조와 관련된 ESG 요소와는 연관이 없습니다. \n",
      "=> False\n"
     ]
    }
   ],
   "source": [
    "idx = 0\n",
    "\n",
    "print('뉴스 기사')\n",
    "print(df['instruction'].loc[idx])\n",
    "print('--' * 20)\n",
    "print('정답')\n",
    "print(df['output'].loc[idx])\n",
    "print('--' * 20)\n",
    "print('예측')\n",
    "print(df['pred_reasons'].loc[idx])"
   ]
  },
  {
   "cell_type": "markdown",
   "id": "be063069-9d32-4952-bac0-10fb95e40e9e",
   "metadata": {},
   "source": [
    "## 정답과 예측이 다른 경우"
   ]
  },
  {
   "cell_type": "code",
   "execution_count": 73,
   "id": "8c84cdba-708b-4087-93c1-ac7dd67af7cc",
   "metadata": {},
   "outputs": [
    {
     "data": {
      "text/html": [
       "<div>\n",
       "<style scoped>\n",
       "    .dataframe tbody tr th:only-of-type {\n",
       "        vertical-align: middle;\n",
       "    }\n",
       "\n",
       "    .dataframe tbody tr th {\n",
       "        vertical-align: top;\n",
       "    }\n",
       "\n",
       "    .dataframe thead th {\n",
       "        text-align: right;\n",
       "    }\n",
       "</style>\n",
       "<table border=\"1\" class=\"dataframe\">\n",
       "  <thead>\n",
       "    <tr style=\"text-align: right;\">\n",
       "      <th></th>\n",
       "      <th>instruction</th>\n",
       "      <th>input</th>\n",
       "      <th>output</th>\n",
       "      <th>label</th>\n",
       "      <th>pred</th>\n",
       "      <th>pred_reasons</th>\n",
       "    </tr>\n",
       "  </thead>\n",
       "  <tbody>\n",
       "    <tr>\n",
       "      <th>16</th>\n",
       "      <td>\"한 달 빨라졌다\"...한화그룹 14개 계열사 정기 임원 인사, 51명 임원 승진 ...</td>\n",
       "      <td></td>\n",
       "      <td>근거: 이 기사는 한화그룹의 14개 계열사 정기 임원 인사에 관한 내용으로, 인사가...</td>\n",
       "      <td>True</td>\n",
       "      <td>False</td>\n",
       "      <td>근거: 이 기사는 한화그룹의 14개 계열사 정기 임원 인사에 대한 내용으로, ESG...</td>\n",
       "    </tr>\n",
       "    <tr>\n",
       "      <th>34</th>\n",
       "      <td>원유석 아시아나항공 대표 직무대행, 부사장 승진 아시아나항공은 15일 원유석 대표이...</td>\n",
       "      <td></td>\n",
       "      <td>근거: 아시아나항공의 임원 인사 단행은 ESG의 지배구조(Governance)와 관...</td>\n",
       "      <td>True</td>\n",
       "      <td>False</td>\n",
       "      <td>근거: 아시아나항공의 임원 인사는 ESG와 직접적인 관련이 없습니다. 이는 기업의 ...</td>\n",
       "    </tr>\n",
       "    <tr>\n",
       "      <th>48</th>\n",
       "      <td>카카오 자회사 디케이테크인·카카오브레인 합병한다 자동요약 기사 제목과 주요 문장을 ...</td>\n",
       "      <td></td>\n",
       "      <td>근거: 이 기사는 카카오 자회사 디케이테크인과 카카오브레인의 합병에 관한 내용으로,...</td>\n",
       "      <td>True</td>\n",
       "      <td>False</td>\n",
       "      <td>근거: 카카오의 자회사인 디케이테크인과 카카오브레인의 합병은 ESG와 직접적인 관련...</td>\n",
       "    </tr>\n",
       "    <tr>\n",
       "      <th>61</th>\n",
       "      <td>세계 1위 인구 대국 인도가 꼽은 ‘올해의 차’는 기아 ‘카렌스’ 기아 미니밴 ‘카...</td>\n",
       "      <td></td>\n",
       "      <td>근거: 이 기사는 기아자동차의 제품이 인도에서 '올해의 차'와 '그린카' 부문에서 ...</td>\n",
       "      <td>False</td>\n",
       "      <td>True</td>\n",
       "      <td>근거: 기아가 인도에서 '올해의 차'와 '그린카' 부문을 수상한 것은 ESG와 관련...</td>\n",
       "    </tr>\n",
       "    <tr>\n",
       "      <th>63</th>\n",
       "      <td>폭염에 잘나가던 빙그레…오너 3세 폭행으로 ‘얼음’ [재계 TALK TALK] 역대...</td>\n",
       "      <td></td>\n",
       "      <td>근거: 이 기사는 빙그레의 오너 3세인 김동환 사장의 폭행 사건과 관련된 내용으로,...</td>\n",
       "      <td>False</td>\n",
       "      <td>True</td>\n",
       "      <td>근거: 이 기사는 빙그레의 오너 3세인 김동환 사장이 술에 취해 경찰을 폭행한 사건...</td>\n",
       "    </tr>\n",
       "    <tr>\n",
       "      <th>...</th>\n",
       "      <td>...</td>\n",
       "      <td>...</td>\n",
       "      <td>...</td>\n",
       "      <td>...</td>\n",
       "      <td>...</td>\n",
       "      <td>...</td>\n",
       "    </tr>\n",
       "    <tr>\n",
       "      <th>825</th>\n",
       "      <td>금융결제원-NICE페이먼츠, 구독 결제 서비스 MOU 정대성 금융결제원 금융사업본부...</td>\n",
       "      <td></td>\n",
       "      <td>근거: 금융결제원과 NICE페이먼츠의 협력이 구독 결제 서비스 인프라를 구축하는 내...</td>\n",
       "      <td>False</td>\n",
       "      <td>True</td>\n",
       "      <td>근거: 금융결제원과 NICE페이먼츠의 협약은 ESG와 관련이 있습니다. 사회적 측면...</td>\n",
       "    </tr>\n",
       "    <tr>\n",
       "      <th>828</th>\n",
       "      <td>현대차·제네시스, 美 J.D.파워 만족도 조사 1위 [KBS 울산]현대차와 제네시스...</td>\n",
       "      <td></td>\n",
       "      <td>근거: 현대차와 제네시스의 신차 첨단 기술 만족도 조사 결과가 1위를 차지한 것은 ...</td>\n",
       "      <td>True</td>\n",
       "      <td>False</td>\n",
       "      <td>근거: 현대차와 제네시스가 미국의 J.D.파워 신차 첨단 기술 만족도 조사에서 1위...</td>\n",
       "    </tr>\n",
       "    <tr>\n",
       "      <th>842</th>\n",
       "      <td>“테슬라의 강력한 라이벌”...현대차, 해외에서 ‘극찬’ 서울 양재동 현대차 본사 ...</td>\n",
       "      <td></td>\n",
       "      <td>근거: 현대차의 전기차 세단 '아이오닉6'가 테슬라 '모델3'의 강력한 라이벌로 평...</td>\n",
       "      <td>True</td>\n",
       "      <td>False</td>\n",
       "      <td>근거: 이 기사는 현대차의 전기차 '아이오닉6'가 테슬라 '모델3'의 강력한 라이벌...</td>\n",
       "    </tr>\n",
       "    <tr>\n",
       "      <th>907</th>\n",
       "      <td>'삐약이' 신유빈, 바나나맛 우유 광고 찍고 '빙그레' 탁구 국가대표 선수 신유빈이...</td>\n",
       "      <td></td>\n",
       "      <td>근거: 이 기사는 기업 빙그레와 관련된 내용으로, 신유빈 선수가 출연한 바나나맛우유...</td>\n",
       "      <td>True</td>\n",
       "      <td>False</td>\n",
       "      <td>근거: 이 기사는 빙그레와 신유빈의 광고 촬영 및 기부 활동에 관한 내용으로, ES...</td>\n",
       "    </tr>\n",
       "    <tr>\n",
       "      <th>918</th>\n",
       "      <td>삼성생명, 보험권 첫 유주택자 주담대 제한 1금융권 은행에 이어 2금융권 보험사도 ...</td>\n",
       "      <td></td>\n",
       "      <td>근거: 삼성생명이 유주택자에 대한 주택담보대출을 제한하는 조치는 지배구조 측면에서 ...</td>\n",
       "      <td>True</td>\n",
       "      <td>False</td>\n",
       "      <td>근거: 삼성생명의 주택담보대출 제한 조치는 ESG와 관련이 없습니다. 이는 금융 규...</td>\n",
       "    </tr>\n",
       "  </tbody>\n",
       "</table>\n",
       "<p>100 rows × 6 columns</p>\n",
       "</div>"
      ],
      "text/plain": [
       "                                           instruction input  \\\n",
       "16   \"한 달 빨라졌다\"...한화그룹 14개 계열사 정기 임원 인사, 51명 임원 승진 ...         \n",
       "34   원유석 아시아나항공 대표 직무대행, 부사장 승진 아시아나항공은 15일 원유석 대표이...         \n",
       "48   카카오 자회사 디케이테크인·카카오브레인 합병한다 자동요약 기사 제목과 주요 문장을 ...         \n",
       "61   세계 1위 인구 대국 인도가 꼽은 ‘올해의 차’는 기아 ‘카렌스’ 기아 미니밴 ‘카...         \n",
       "63   폭염에 잘나가던 빙그레…오너 3세 폭행으로 ‘얼음’ [재계 TALK TALK] 역대...         \n",
       "..                                                 ...   ...   \n",
       "825  금융결제원-NICE페이먼츠, 구독 결제 서비스 MOU 정대성 금융결제원 금융사업본부...         \n",
       "828  현대차·제네시스, 美 J.D.파워 만족도 조사 1위 [KBS 울산]현대차와 제네시스...         \n",
       "842  “테슬라의 강력한 라이벌”...현대차, 해외에서 ‘극찬’ 서울 양재동 현대차 본사 ...         \n",
       "907  '삐약이' 신유빈, 바나나맛 우유 광고 찍고 '빙그레' 탁구 국가대표 선수 신유빈이...         \n",
       "918  삼성생명, 보험권 첫 유주택자 주담대 제한 1금융권 은행에 이어 2금융권 보험사도 ...         \n",
       "\n",
       "                                                output  label   pred  \\\n",
       "16   근거: 이 기사는 한화그룹의 14개 계열사 정기 임원 인사에 관한 내용으로, 인사가...   True  False   \n",
       "34   근거: 아시아나항공의 임원 인사 단행은 ESG의 지배구조(Governance)와 관...   True  False   \n",
       "48   근거: 이 기사는 카카오 자회사 디케이테크인과 카카오브레인의 합병에 관한 내용으로,...   True  False   \n",
       "61   근거: 이 기사는 기아자동차의 제품이 인도에서 '올해의 차'와 '그린카' 부문에서 ...  False   True   \n",
       "63   근거: 이 기사는 빙그레의 오너 3세인 김동환 사장의 폭행 사건과 관련된 내용으로,...  False   True   \n",
       "..                                                 ...    ...    ...   \n",
       "825  근거: 금융결제원과 NICE페이먼츠의 협력이 구독 결제 서비스 인프라를 구축하는 내...  False   True   \n",
       "828  근거: 현대차와 제네시스의 신차 첨단 기술 만족도 조사 결과가 1위를 차지한 것은 ...   True  False   \n",
       "842  근거: 현대차의 전기차 세단 '아이오닉6'가 테슬라 '모델3'의 강력한 라이벌로 평...   True  False   \n",
       "907  근거: 이 기사는 기업 빙그레와 관련된 내용으로, 신유빈 선수가 출연한 바나나맛우유...   True  False   \n",
       "918  근거: 삼성생명이 유주택자에 대한 주택담보대출을 제한하는 조치는 지배구조 측면에서 ...   True  False   \n",
       "\n",
       "                                          pred_reasons  \n",
       "16   근거: 이 기사는 한화그룹의 14개 계열사 정기 임원 인사에 대한 내용으로, ESG...  \n",
       "34   근거: 아시아나항공의 임원 인사는 ESG와 직접적인 관련이 없습니다. 이는 기업의 ...  \n",
       "48   근거: 카카오의 자회사인 디케이테크인과 카카오브레인의 합병은 ESG와 직접적인 관련...  \n",
       "61   근거: 기아가 인도에서 '올해의 차'와 '그린카' 부문을 수상한 것은 ESG와 관련...  \n",
       "63   근거: 이 기사는 빙그레의 오너 3세인 김동환 사장이 술에 취해 경찰을 폭행한 사건...  \n",
       "..                                                 ...  \n",
       "825  근거: 금융결제원과 NICE페이먼츠의 협약은 ESG와 관련이 있습니다. 사회적 측면...  \n",
       "828  근거: 현대차와 제네시스가 미국의 J.D.파워 신차 첨단 기술 만족도 조사에서 1위...  \n",
       "842  근거: 이 기사는 현대차의 전기차 '아이오닉6'가 테슬라 '모델3'의 강력한 라이벌...  \n",
       "907  근거: 이 기사는 빙그레와 신유빈의 광고 촬영 및 기부 활동에 관한 내용으로, ES...  \n",
       "918  근거: 삼성생명의 주택담보대출 제한 조치는 ESG와 관련이 없습니다. 이는 금융 규...  \n",
       "\n",
       "[100 rows x 6 columns]"
      ]
     },
     "execution_count": 73,
     "metadata": {},
     "output_type": "execute_result"
    }
   ],
   "source": [
    "df[df['label']!=df['pred']]"
   ]
  },
  {
   "cell_type": "code",
   "execution_count": 84,
   "id": "3e55f3cc-45a7-4b2c-b4c6-aac9adaa349b",
   "metadata": {},
   "outputs": [
    {
     "name": "stdout",
     "output_type": "stream",
     "text": [
      "뉴스 기사\n",
      "\"한 달 빨라졌다\"...한화그룹 14개 계열사 정기 임원 인사, 51명 임원 승진 한화그룹 기업 이미지(CI). 한화그룹 제공  한화그룹이 14개 계열사의 정기 임원 인사를 단행했다. 인사 시기가 예년보다 한 달가량 앞당겨진 것으로 글로벌 경영 환경이 급변하는 데 빠르게 대응하려는 의도란 설명이다.  한화그룹은 27일 지주회사 격인 ㈜한화를 비롯해 총 14개사의 정기 임원 인사를 단행했다고 밝혔다. 한화에어로스페이스, 한화솔루션, 한화오션, 한화시스템, 한화에너지, 한화임팩트, 한화토탈에너지스, 한화파워시스템, 한화엔진, 한화첨단소재, 한화이센셜, 한화비전, 한화정밀기계 등이다.  이번 인사로 총 51명이 임원으로 승진했다. 승진 일자는 10월 1일이다.  한화그룹의 모태이자 주력 사업인 방위 산업을 담당하는 계열사 중 한화에어로스페이스가 가장 많은 12명의 임원을 배출했다. 한화시스템도 3명을 임원으로 승진시켰다. 한화솔루션은 7명의 신임 임원을 발탁했다. 한화솔루션은 현재의 경영 위기를 극복하고 사업 전환을 가속하기 위해 대표이사 인사에 이어 임원 인사도 앞당겨진 것이라고 설명했다.  조선업 부문인 한화오션(옛 대우조선해양)도 이날 임원 7명 승진 인사를 단행했다. 한화오션은 공정 안정화와 차별화된 원가 경쟁력 확보를 위해 현장 경험과 전문성을 겸비한 생산 분야 전문 인력 발탁에 이번 인사의 중점을 뒀다고 밝혔다. 임원 승진자 7명의 소속은 연구개발(R&D) 1명, 설계 2명, 생산 4명 등이다.  이 밖에 한화에너지, 한화임팩트, 한화토탈에너지스, 한화파워시스템, 한화엔진, 한화비전, 한화정밀기계 등 7개사가 총 13명을 신규 임원으로 승진시켰다. 한화솔루션의 자회사인 한화첨단소재와 한화이센셜도 각각 한 명의 임원 승진 인사를 발표했다.  이날 인사가 난 회사는 대부분 김승연 회장을 잇는 한화그룹 오너 3세 삼형제(김동관 김동원 김동선) 가운데 장남 김동관 부회장이 이끄는 곳이란 공통점이 있다. 예년보다 빨라진 인사에서 그의 경영 스타일을 엿볼 수 있는 셈이다.  다만 한화비전, 한화정밀기계를 지배하는 중간지주사로 신설된 한화인터스트리얼솔루션즈는 삼남 김동선 한화갤러리아 부사장이 미래전략총괄(부사장)을 맡았다. 한화인터스트리얼솔루션즈는 한화에어로스페이스에서 산업 장비·기술 분야를 떼어내 만든 법인으로 이날 유가증권시장에 재상장했다.  한화그룹 측은 \"사업 분야가 다른 계열사별 경영 환경과 인사 수요에 따라 정기 임원 승진 인사를 단행한 것\"이라며 \"인사 시기는 글로벌 경영 환경이 급변함에 따라 선제 대응하기 위해 앞당겨진 측면이 있다\"고 말했다.  김청환 기자 chk@hankookilbo.com\n",
      "----------------------------------------\n",
      "정답\n",
      "근거: 이 기사는 한화그룹의 14개 계열사 정기 임원 인사에 관한 내용으로, 인사가 예년보다 빨라진 이유를 글로벌 경영 환경의 급변에 대한 빠른 대응으로 설명하고 있습니다. 이는 지배구조 측면에서 경영진 보상 구조 및 리스크 관리와 관련된 내용으로 해석될 수 있습니다. 따라서 ESG와 관련이 있다고 판단할 수 있습니다. \n",
      "=> True\n",
      "----------------------------------------\n",
      "예측\n",
      "근거: 이 기사는 한화그룹의 14개 계열사 정기 임원 인사에 대한 내용으로, ESG와 직접적인 관련이 없습니다. 인사와 관련된 내용은 지배구조 측면에서 경영진의 변화와 관련이 있을 수 있지만, 기사에서 언급된 내용은 주로 인사 시기와 승진자에 대한 정보에 집중하고 있으며, ESG의 핵심 키워드와 직접적으로 연결되지 않습니다. 따라서 ESG 관련 기사로 보기 어렵습니다. \n",
      "=> False\n"
     ]
    }
   ],
   "source": [
    "idx = 16\n",
    "\n",
    "print('뉴스 기사')\n",
    "print(df['instruction'].loc[idx])\n",
    "print('--' * 20)\n",
    "print('정답')\n",
    "print(df['output'].loc[idx])\n",
    "print('--' * 20)\n",
    "print('예측')\n",
    "print(df['pred_reasons'].loc[idx])"
   ]
  }
 ],
 "metadata": {
  "kernelspec": {
   "display_name": "Python 3 (ipykernel)",
   "language": "python",
   "name": "python3"
  },
  "language_info": {
   "codemirror_mode": {
    "name": "ipython",
    "version": 3
   },
   "file_extension": ".py",
   "mimetype": "text/x-python",
   "name": "python",
   "nbconvert_exporter": "python",
   "pygments_lexer": "ipython3",
   "version": "3.9.12"
  }
 },
 "nbformat": 4,
 "nbformat_minor": 5
}
